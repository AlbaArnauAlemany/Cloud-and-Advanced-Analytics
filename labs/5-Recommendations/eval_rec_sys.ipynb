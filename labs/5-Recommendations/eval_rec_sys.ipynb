{
 "cells": [
  {
   "cell_type": "code",
   "execution_count": 1,
   "metadata": {},
   "outputs": [
    {
     "name": "stderr",
     "output_type": "stream",
     "text": [
      "/Users/aajalloe/opt/anaconda3/envs/caa24/lib/python3.8/site-packages/pandas/core/computation/expressions.py:20: UserWarning: Pandas requires version '2.7.3' or newer of 'numexpr' (version '2.7.1' currently installed).\n",
      "  from pandas.core.computation.check import NUMEXPR_INSTALLED\n"
     ]
    }
   ],
   "source": [
    "import os\n",
    "import pandas as pd\n",
    "from google.cloud import bigquery\n",
    "\n",
    "# If you want to use your local jupyter notebook:\n",
    "os.environ[\"GOOGLE_APPLICATION_CREDENTIALS\"] = \"../test-caa-labs-c22347b520c9.json\""
   ]
  },
  {
   "cell_type": "code",
   "execution_count": 2,
   "metadata": {},
   "outputs": [],
   "source": [
    "# Define the BigQuery client\n",
    "client = bigquery.Client(project=\"test-caa-labs\") # PROJECT_ID"
   ]
  },
  {
   "cell_type": "code",
   "execution_count": 3,
   "metadata": {},
   "outputs": [
    {
     "data": {
      "text/html": [
       "<div>\n",
       "<style scoped>\n",
       "    .dataframe tbody tr th:only-of-type {\n",
       "        vertical-align: middle;\n",
       "    }\n",
       "\n",
       "    .dataframe tbody tr th {\n",
       "        vertical-align: top;\n",
       "    }\n",
       "\n",
       "    .dataframe thead th {\n",
       "        text-align: right;\n",
       "    }\n",
       "</style>\n",
       "<table border=\"1\" class=\"dataframe\">\n",
       "  <thead>\n",
       "    <tr style=\"text-align: right;\">\n",
       "      <th></th>\n",
       "      <th>mean_average_precision</th>\n",
       "      <th>mean_squared_error</th>\n",
       "      <th>normalized_discounted_cumulative_gain</th>\n",
       "      <th>average_rank</th>\n",
       "    </tr>\n",
       "  </thead>\n",
       "  <tbody>\n",
       "    <tr>\n",
       "      <th>0</th>\n",
       "      <td>0.389043</td>\n",
       "      <td>0.044024</td>\n",
       "      <td>0.951434</td>\n",
       "      <td>0.477767</td>\n",
       "    </tr>\n",
       "  </tbody>\n",
       "</table>\n",
       "</div>"
      ],
      "text/plain": [
       "   mean_average_precision  mean_squared_error  \\\n",
       "0                0.389043            0.044024   \n",
       "\n",
       "   normalized_discounted_cumulative_gain  average_rank  \n",
       "0                               0.951434      0.477767  "
      ]
     },
     "execution_count": 3,
     "metadata": {},
     "output_type": "execute_result"
    }
   ],
   "source": [
    "# evaluate the model\n",
    "query = \"\"\"\n",
    "SELECT * FROM \n",
    "ML.EVALUATE(MODEL `test-caa-labs.lab5_dataset.first-MF-model`)\n",
    "\"\"\"\n",
    "\n",
    "query_job = client.query(query)\n",
    "query_job.to_dataframe()"
   ]
  },
  {
   "cell_type": "code",
   "execution_count": 10,
   "metadata": {},
   "outputs": [
    {
     "data": {
      "text/html": [
       "<div>\n",
       "<style scoped>\n",
       "    .dataframe tbody tr th:only-of-type {\n",
       "        vertical-align: middle;\n",
       "    }\n",
       "\n",
       "    .dataframe tbody tr th {\n",
       "        vertical-align: top;\n",
       "    }\n",
       "\n",
       "    .dataframe thead th {\n",
       "        text-align: right;\n",
       "    }\n",
       "</style>\n",
       "<table border=\"1\" class=\"dataframe\">\n",
       "  <thead>\n",
       "    <tr style=\"text-align: right;\">\n",
       "      <th></th>\n",
       "      <th>predicted_rating_im_confidence</th>\n",
       "      <th>userId</th>\n",
       "      <th>movieId</th>\n",
       "    </tr>\n",
       "  </thead>\n",
       "  <tbody>\n",
       "    <tr>\n",
       "      <th>0</th>\n",
       "      <td>-0.023199</td>\n",
       "      <td>7</td>\n",
       "      <td>8502</td>\n",
       "    </tr>\n",
       "    <tr>\n",
       "      <th>1</th>\n",
       "      <td>0.017713</td>\n",
       "      <td>7</td>\n",
       "      <td>145283</td>\n",
       "    </tr>\n",
       "    <tr>\n",
       "      <th>2</th>\n",
       "      <td>0.033358</td>\n",
       "      <td>7</td>\n",
       "      <td>90809</td>\n",
       "    </tr>\n",
       "    <tr>\n",
       "      <th>3</th>\n",
       "      <td>0.904709</td>\n",
       "      <td>7</td>\n",
       "      <td>1917</td>\n",
       "    </tr>\n",
       "    <tr>\n",
       "      <th>4</th>\n",
       "      <td>0.054174</td>\n",
       "      <td>7</td>\n",
       "      <td>122890</td>\n",
       "    </tr>\n",
       "    <tr>\n",
       "      <th>5</th>\n",
       "      <td>0.205242</td>\n",
       "      <td>7</td>\n",
       "      <td>1572</td>\n",
       "    </tr>\n",
       "    <tr>\n",
       "      <th>6</th>\n",
       "      <td>-0.169576</td>\n",
       "      <td>7</td>\n",
       "      <td>1474</td>\n",
       "    </tr>\n",
       "    <tr>\n",
       "      <th>7</th>\n",
       "      <td>-0.185765</td>\n",
       "      <td>7</td>\n",
       "      <td>3329</td>\n",
       "    </tr>\n",
       "    <tr>\n",
       "      <th>8</th>\n",
       "      <td>0.154473</td>\n",
       "      <td>7</td>\n",
       "      <td>2059</td>\n",
       "    </tr>\n",
       "    <tr>\n",
       "      <th>9</th>\n",
       "      <td>0.122520</td>\n",
       "      <td>7</td>\n",
       "      <td>147372</td>\n",
       "    </tr>\n",
       "  </tbody>\n",
       "</table>\n",
       "</div>"
      ],
      "text/plain": [
       "   predicted_rating_im_confidence  userId  movieId\n",
       "0                       -0.023199       7     8502\n",
       "1                        0.017713       7   145283\n",
       "2                        0.033358       7    90809\n",
       "3                        0.904709       7     1917\n",
       "4                        0.054174       7   122890\n",
       "5                        0.205242       7     1572\n",
       "6                       -0.169576       7     1474\n",
       "7                       -0.185765       7     3329\n",
       "8                        0.154473       7     2059\n",
       "9                        0.122520       7   147372"
      ]
     },
     "execution_count": 10,
     "metadata": {},
     "output_type": "execute_result"
    }
   ],
   "source": [
    "# make recommendations for a set of users\n",
    "query = \"\"\"\n",
    "SELECT * FROM\n",
    "ML.RECOMMEND(MODEL `test-caa-labs.lab5_dataset.first-MF-model`,\n",
    "(\n",
    "SELECT\n",
    "  userid\n",
    "FROM\n",
    "  `test-caa-labs.lab5_dataset.ml-small-ratings`\n",
    "LIMIT 5))\n",
    "\"\"\"\n",
    "\n",
    "query_job = client.query(query)\n",
    "df = query_job.to_dataframe()\n",
    "df.head(10)"
   ]
  },
  {
   "cell_type": "code",
   "execution_count": 11,
   "metadata": {},
   "outputs": [
    {
     "name": "stdout",
     "output_type": "stream",
     "text": [
      "(48620, 3)\n"
     ]
    }
   ],
   "source": [
    "# The output of the ML.RECOMMEND query has a lot of rows. Do you know why?\n",
    "print(df.shape)"
   ]
  },
  {
   "cell_type": "code",
   "execution_count": null,
   "metadata": {},
   "outputs": [],
   "source": []
  }
 ],
 "metadata": {
  "kernelspec": {
   "display_name": "caa24",
   "language": "python",
   "name": "python3"
  },
  "language_info": {
   "codemirror_mode": {
    "name": "ipython",
    "version": 3
   },
   "file_extension": ".py",
   "mimetype": "text/x-python",
   "name": "python",
   "nbconvert_exporter": "python",
   "pygments_lexer": "ipython3",
   "version": "3.8.5"
  },
  "orig_nbformat": 4
 },
 "nbformat": 4,
 "nbformat_minor": 2
}
