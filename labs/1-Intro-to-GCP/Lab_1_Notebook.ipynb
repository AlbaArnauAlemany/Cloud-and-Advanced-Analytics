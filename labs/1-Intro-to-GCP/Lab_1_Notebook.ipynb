{
  "nbformat": 4,
  "nbformat_minor": 0,
  "metadata": {
    "colab": {
      "provenance": []
    },
    "kernelspec": {
      "name": "python3",
      "display_name": "Python 3"
    },
    "language_info": {
      "name": "python"
    }
  },
  "cells": [
    {
      "cell_type": "markdown",
      "source": [
        "# **LAB 1 - INTRO TO GCP**"
      ],
      "metadata": {
        "id": "YSYZI13zjkyn"
      }
    },
    {
      "cell_type": "markdown",
      "source": [
        "\n",
        "\n",
        "---\n",
        "\n"
      ],
      "metadata": {
        "id": "oq30f38zjzVc"
      }
    },
    {
      "cell_type": "markdown",
      "source": [
        "# **Exercise 2: Google Cloud Function with API Key**\n",
        "\n",
        "- **Step 1.** Check to see that your API key works correctly\n",
        "  - To do so: please execute the first cell of the notebook\n",
        "\n",
        "- **Step 2.** Write and test a cloud Function in Python\n",
        "\n",
        "- **Step 3-4.** Deploy the two functions on Google Cloud Functions\n",
        "\n",
        "- **Step 5.** Test the deployed function from the Notebook"
      ],
      "metadata": {
        "id": "Kl6bTgo6jtFW"
      }
    },
    {
      "cell_type": "markdown",
      "source": [
        "## **Step 1.** Check to see that your API key works correctly\n",
        "\n",
        "- Get you API key from the [TMDB website](https://www.themoviedb.org/settings/api) and paste it inside 'YOUR_API_KEY'\n",
        "\n",
        "- **Expected output:** Inception - this is the movie title you fetched from the movie dataset using the API"
      ],
      "metadata": {
        "id": "8YqNGqhOj8vE"
      }
    },
    {
      "cell_type": "code",
      "source": [
        "import requests\n",
        "import json\n",
        "\n",
        "api_key = 'YOUR_API_KEY'\n",
        "r = requests.get('https://api.themoviedb.org/3/movie/27205?api_key=' + api_key)\n",
        "obj = json.loads(r.text)\n",
        "movie_name = obj['title']\n",
        "print(movie_name)\n",
        "# print(obj['genres']) # You can also have a look at the genres associated with that movie"
      ],
      "metadata": {
        "id": "zsN-JqS1xXYx",
        "colab": {
          "base_uri": "https://localhost:8080/"
        },
        "outputId": "01e1846c-3e96-4311-e704-c224c25a2ace"
      },
      "execution_count": null,
      "outputs": [
        {
          "output_type": "stream",
          "name": "stdout",
          "text": [
            "Inception\n"
          ]
        }
      ]
    },
    {
      "cell_type": "markdown",
      "source": [
        "#### If you want to have a look at other movies, you can go on the [TMDB website](https://www.themoviedb.org/) and click on any movies for example [Dune](https://www.themoviedb.org/movie/693134-dune-part-two), the ID of that movie can be found in the URL, just copy the movie ID and replace it in the code. For example, here we would have: https://www.themoviedb.org/movie/693134-dune-part-two -> the movie ID is: 693134\n",
        "\n"
      ],
      "metadata": {
        "id": "fMyzndymAX4i"
      }
    },
    {
      "cell_type": "markdown",
      "source": [
        "## **Step 2.** Write and test a cloud Function in Python"
      ],
      "metadata": {
        "id": "ACgrncwxxm6Q"
      }
    },
    {
      "cell_type": "markdown",
      "source": [
        "**Goal**: The goal of these two functions are to:\n",
        "- **Function 1:** Fetch a list of movies\n",
        "- **Function 2:** Fetch the poster of a specific movie ID"
      ],
      "metadata": {
        "id": "Kw9SqhslBwqF"
      }
    },
    {
      "cell_type": "markdown",
      "source": [
        "### **Function 1:** Fetch a list of movies:\n",
        "\n",
        "Just add your api key in \"**YOUR_API_KEY**\" and run the cell !\n"
      ],
      "metadata": {
        "id": "D9tL9Uv-raL0"
      }
    },
    {
      "cell_type": "code",
      "source": [
        "#import functions_framework\n",
        "import requests\n",
        "from flask import jsonify\n",
        "\n",
        "# @functions_framework.http\n",
        "def get_movie_titles(): # request\n",
        "    try:\n",
        "        movie_database_url = 'https://api.themoviedb.org/3/discover/movie'\n",
        "        api_key = 'YOUR_API_KEY'\n",
        "\n",
        "        response = requests.get(movie_database_url, params={'api_key': api_key, 'page': 1})\n",
        "\n",
        "        # Check if the request was successful (status code 200)\n",
        "        response.raise_for_status()\n",
        "\n",
        "        # Parse the JSON response\n",
        "        data = response.json()\n",
        "\n",
        "        # Check if there are results\n",
        "        if 'results' in data and data['results']:\n",
        "            # Filter movies that have a poster path\n",
        "            movies_with_poster = [movie for movie in data['results'] if 'poster_path' in movie]\n",
        "\n",
        "            movie_details = [{'title': movie['title'], 'id': movie['id']} for movie in movies_with_poster]\n",
        "\n",
        "            # Return a JSON response with the list of movie details\n",
        "            return {'movie_details': movie_details}\n",
        "        else:\n",
        "            return {'error': 'No results found.'}, 404\n",
        "    except requests.RequestException as e:\n",
        "        # Log the error details\n",
        "        print(f\"Error making API request: {e}\")\n",
        "        return 'Internal Server Error', 500\n",
        "    except requests.exceptions.HTTPError as e:\n",
        "        # Log the HTTP error details\n",
        "        print(f\"HTTP Error: {e}\")\n",
        "        return 'Internal Server Error', 500\n",
        "    except json.JSONDecodeError as e:\n",
        "        # Log the error details\n",
        "        print(f\"Error decoding JSON response: {e}\")\n",
        "        return 'Internal Server Error', 500\n"
      ],
      "metadata": {
        "id": "d8PA6Qo8v1yV"
      },
      "execution_count": null,
      "outputs": []
    },
    {
      "cell_type": "code",
      "source": [
        "# Call the function and print the result\n",
        "result = get_movie_titles()\n",
        "result"
      ],
      "metadata": {
        "colab": {
          "base_uri": "https://localhost:8080/"
        },
        "id": "xKVDp_FEu9fR",
        "outputId": "ff7e07ad-eacd-4c79-d05b-8174866dcfac"
      },
      "execution_count": null,
      "outputs": [
        {
          "output_type": "execute_result",
          "data": {
            "text/plain": [
              "{'movie_details': [{'title': 'Badland Hunters', 'id': 933131},\n",
              "  {'title': 'Wonka', 'id': 787699},\n",
              "  {'title': 'The Marvels', 'id': 609681},\n",
              "  {'title': 'Sixty Minutes', 'id': 1212073},\n",
              "  {'title': 'Madame Web', 'id': 634492},\n",
              "  {'title': 'Skal - Fight for Survival', 'id': 1211483},\n",
              "  {'title': 'The Family Plan', 'id': 1029575},\n",
              "  {'title': 'One More Shot', 'id': 1214314},\n",
              "  {'title': 'Lift', 'id': 955916},\n",
              "  {'title': 'Wish', 'id': 1022796},\n",
              "  {'title': 'The Beekeeper', 'id': 866398},\n",
              "  {'title': 'Migration', 'id': 940551},\n",
              "  {'title': 'Upgraded', 'id': 1014590},\n",
              "  {'title': 'Rebel Moon - Part One: A Child of Fire', 'id': 848326},\n",
              "  {'title': 'The Hunger Games: The Ballad of Songbirds & Snakes',\n",
              "   'id': 695721},\n",
              "  {'title': 'Aquaman and the Lost Kingdom', 'id': 572802},\n",
              "  {'title': 'Orion and the Dark', 'id': 1139829},\n",
              "  {'title': 'Role Play', 'id': 848187},\n",
              "  {'title': 'Anyone But You', 'id': 1072790},\n",
              "  {'title': 'Freelance', 'id': 897087}]}"
            ]
          },
          "metadata": {},
          "execution_count": 20
        }
      ]
    },
    {
      "cell_type": "markdown",
      "source": [
        "## **Step 3-4.** Deploy the two functions on Google Cloud Functions"
      ],
      "metadata": {
        "id": "dC1JlSwID0DW"
      }
    },
    {
      "cell_type": "markdown",
      "source": [
        "### **Function 1:** Fetch a list of movies - copy / paste the code to Google Cloud Functions\n"
      ],
      "metadata": {
        "id": "uCatEqlsCb05"
      }
    },
    {
      "cell_type": "markdown",
      "source": [
        "You should also add in the **requirements.txt** the two following libraries:\n",
        "\n",
        "functions-framework==3.*\n",
        "requests==2.31.0"
      ],
      "metadata": {
        "id": "LXX7N6eKC-4-"
      }
    },
    {
      "cell_type": "code",
      "source": [
        "import functions_framework\n",
        "import requests\n",
        "from flask import jsonify\n",
        "\n",
        "@functions_framework.http\n",
        "def get_movie_titles(request):\n",
        "    try:\n",
        "        movie_database_url = 'https://api.themoviedb.org/3/discover/movie'\n",
        "        api_key = 'YOUR_API_KEY'\n",
        "\n",
        "        response = requests.get(movie_database_url, params={'api_key': api_key, 'page': 1})\n",
        "\n",
        "        # Check if the request was successful (status code 200)\n",
        "        response.raise_for_status()\n",
        "\n",
        "        # Parse the JSON response\n",
        "        data = response.json()\n",
        "\n",
        "        # Check if there are results\n",
        "        if 'results' in data and data['results']:\n",
        "            # Filter movies that have a poster path\n",
        "            movies_with_poster = [movie for movie in data['results'] if 'poster_path' in movie]\n",
        "\n",
        "            movie_details = [{'title': movie['title'], 'id': movie['id']} for movie in movies_with_poster]\n",
        "\n",
        "            # Return a JSON response with the list of movie details\n",
        "            return {'movie_details': movie_details}\n",
        "        else:\n",
        "            return {'error': 'No results found.'}, 404\n",
        "    except requests.RequestException as e:\n",
        "        # Log the error details\n",
        "        print(f\"Error making API request: {e}\")\n",
        "        return 'Internal Server Error', 500\n",
        "    except requests.exceptions.HTTPError as e:\n",
        "        # Log the HTTP error details\n",
        "        print(f\"HTTP Error: {e}\")\n",
        "        return 'Internal Server Error', 500\n",
        "    except json.JSONDecodeError as e:\n",
        "        # Log the error details\n",
        "        print(f\"Error decoding JSON response: {e}\")\n",
        "        return 'Internal Server Error', 500\n"
      ],
      "metadata": {
        "id": "kIq_sryzCZpR"
      },
      "execution_count": null,
      "outputs": []
    },
    {
      "cell_type": "markdown",
      "source": [
        "### **Function 2:** Fetch the poster of a specific Movie  - copy / paste the code to Google Cloud Functions\n",
        "\n"
      ],
      "metadata": {
        "id": "hl2VDP_Pwb5Y"
      }
    },
    {
      "cell_type": "markdown",
      "source": [
        "You should also add in the **requirements.txt** the two following libraries:\n",
        "\n",
        "- functions-framework==3.*\n",
        "- requests==2.31.0"
      ],
      "metadata": {
        "id": "N08OjzmdDKRP"
      }
    },
    {
      "cell_type": "code",
      "source": [
        "import functions_framework\n",
        "from flask import jsonify\n",
        "import requests\n",
        "\n",
        "api_key = 'YOUR_API_KEY'\n",
        "\n",
        "\n",
        "@functions_framework.http\n",
        "def get_movie_details(request):\n",
        "    try:\n",
        "        # Extract the movie ID from the request parameters\n",
        "        movie_id = request.args.get('movie_id')\n",
        "\n",
        "        # Make the API request using the provided movie ID\n",
        "        url = f'https://api.themoviedb.org/3/movie/{movie_id}?api_key={api_key}'\n",
        "        response = requests.get(url)\n",
        "\n",
        "        # Check if the request was successful (status code 200)\n",
        "        response.raise_for_status()\n",
        "\n",
        "        # Parse the JSON response\n",
        "        obj = response.json()\n",
        "\n",
        "        poster_path_prefix = 'https://image.tmdb.org/t/p/w1280/'\n",
        "        poster_path = f\"{poster_path_prefix}{obj.get('poster_path')}\"\n",
        "\n",
        "\n",
        "        # Return a JSON response with the movie details\n",
        "        response_data = {'movie_name': obj[\"title\"], 'movie_poster': poster_path}\n",
        "        return jsonify(response_data)\n",
        "    except requests.RequestException as e:\n",
        "        # Log the error details\n",
        "        print(f\"Error making API request: {e}\")\n",
        "        return 'Internal Server Error', 500\n",
        "    except requests.exceptions.HTTPError as e:\n",
        "        # Log the HTTP error details\n",
        "        print(f\"HTTP Error: {e}\")\n",
        "        return 'Internal Server Error', 500\n",
        "    except json.JSONDecodeError as e:\n",
        "        # Log the error details\n",
        "        print(f\"Error decoding JSON response: {e}\")\n",
        "        return 'Internal Server Error', 500\n"
      ],
      "metadata": {
        "id": "O0W2DDy5z9Pi"
      },
      "execution_count": null,
      "outputs": []
    },
    {
      "cell_type": "markdown",
      "source": [
        "## **Step 5.** Test the deployed function from the Notebook"
      ],
      "metadata": {
        "id": "KsH5rqYtyac6"
      }
    },
    {
      "cell_type": "code",
      "source": [
        "# Testing function 1:\n",
        "r = requests.get('YOUR_URL')\n",
        "obj = json.loads(r.text)\n",
        "print(obj)"
      ],
      "metadata": {
        "colab": {
          "base_uri": "https://localhost:8080/"
        },
        "id": "6iv8fQWgKHk-",
        "outputId": "e69b0d03-5895-4b92-879d-af79afbdb8e5"
      },
      "execution_count": null,
      "outputs": [
        {
          "output_type": "stream",
          "name": "stdout",
          "text": [
            "{'movie_details': [{'id': 933131, 'title': 'Badland Hunters'}, {'id': 787699, 'title': 'Wonka'}, {'id': 609681, 'title': 'The Marvels'}, {'id': 1212073, 'title': 'Sixty Minutes'}, {'id': 634492, 'title': 'Madame Web'}, {'id': 1211483, 'title': 'Skal - Fight for Survival'}, {'id': 1029575, 'title': 'The Family Plan'}, {'id': 1214314, 'title': 'One More Shot'}, {'id': 955916, 'title': 'Lift'}, {'id': 1022796, 'title': 'Wish'}, {'id': 866398, 'title': 'The Beekeeper'}, {'id': 940551, 'title': 'Migration'}, {'id': 1014590, 'title': 'Upgraded'}, {'id': 848326, 'title': 'Rebel Moon - Part One: A Child of Fire'}, {'id': 695721, 'title': 'The Hunger Games: The Ballad of Songbirds & Snakes'}, {'id': 572802, 'title': 'Aquaman and the Lost Kingdom'}, {'id': 1139829, 'title': 'Orion and the Dark'}, {'id': 848187, 'title': 'Role Play'}, {'id': 1072790, 'title': 'Anyone But You'}, {'id': 897087, 'title': 'Freelance'}]}\n"
          ]
        }
      ]
    },
    {
      "cell_type": "code",
      "source": [
        "# Testing function 2:\n",
        "movie_id = '933131'\n",
        "r = requests.get(f'YOUR_URL?movie_id={movie_id}')\n",
        "obj = json.loads(r.text)\n",
        "print(obj)"
      ],
      "metadata": {
        "colab": {
          "base_uri": "https://localhost:8080/"
        },
        "id": "0mCwAn-LzWYe",
        "outputId": "b95bdf49-9c47-4522-8ff0-f51645e55c9c"
      },
      "execution_count": null,
      "outputs": [
        {
          "output_type": "stream",
          "name": "stdout",
          "text": [
            "{'movie_name': 'Inception', 'movie_poster': 'https://image.tmdb.org/t/p/w1280//oYuLEt3zVCKq57qu2F8dT7NIa6f.jpg'}\n"
          ]
        }
      ]
    }
  ]
}