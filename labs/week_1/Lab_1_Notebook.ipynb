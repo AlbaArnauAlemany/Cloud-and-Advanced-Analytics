{
  "nbformat": 4,
  "nbformat_minor": 0,
  "metadata": {
    "colab": {
      "provenance": [],
      "collapsed_sections": [
        "8YqNGqhOj8vE",
        "G14jJy8uydJw"
      ]
    },
    "kernelspec": {
      "name": "python3",
      "display_name": "Python 3"
    },
    "language_info": {
      "name": "python"
    }
  },
  "cells": [
    {
      "cell_type": "markdown",
      "source": [
        "# **Lab 1: APIs, Google Cloud Functions, Docker and cloud Run:**"
      ],
      "metadata": {
        "id": "YSYZI13zjkyn"
      }
    },
    {
      "cell_type": "markdown",
      "source": [
        "\n",
        "\n",
        "---\n",
        "\n"
      ],
      "metadata": {
        "id": "oq30f38zjzVc"
      }
    },
    {
      "cell_type": "markdown",
      "source": [
        "# **Exercise 2: Google Cloud Functions:**\n",
        "\n",
        "- **0.** Check to see that the API key works correctly\n",
        "- **1.** Write a function on GCP in Python\n",
        "- **2.** Call the function from a Notebook (either in Colab or in Jupyter).\n"
      ],
      "metadata": {
        "id": "Kl6bTgo6jtFW"
      }
    },
    {
      "cell_type": "markdown",
      "source": [
        "## **0. Check to see that the API key works correctly**\n",
        "\n",
        "**Goal**: The goal of these two functions are to:\n",
        "- **Function 1:** Fetch a list of movies\n",
        "- **Function 2:** Fetch the poster of a specific movie ID"
      ],
      "metadata": {
        "id": "8YqNGqhOj8vE"
      }
    },
    {
      "cell_type": "code",
      "source": [
        "api_key = 'YOUR_API_KEY'\n",
        "r = requests.get('https://api.themoviedb.org/3/movie/464052?api_key=' + api_key)\n",
        "obj = json.loads(r.text)\n",
        "movie_name = obj['title']\n",
        "print(movie_name)"
      ],
      "metadata": {
        "colab": {
          "base_uri": "https://localhost:8080/"
        },
        "id": "zsN-JqS1xXYx",
        "outputId": "a7f11112-1f0e-48ce-fd39-5d8aa3fd56cf"
      },
      "execution_count": 96,
      "outputs": [
        {
          "output_type": "stream",
          "name": "stdout",
          "text": [
            "Wonder Woman 1984\n"
          ]
        }
      ]
    },
    {
      "cell_type": "markdown",
      "source": [
        "## **1. Write two functions on GCP in Python**"
      ],
      "metadata": {
        "id": "ACgrncwxxm6Q"
      }
    },
    {
      "cell_type": "markdown",
      "source": [
        "### **Function 1:** Fetch a list of movies\n",
        "\n",
        "**Note:** The same code can be used on Google Cloud, you just need to modify the three following lines:\n",
        "- Add: import functions_framework\n",
        "- Add: @functions_framework.http\n",
        "- Add: request to the function: def get_movie_titles(request):\n",
        "\n",
        "You should also add in the requirements.txt the two following libraries:\n",
        "- functions-framework==3.*\n",
        "- requests==2.31.0\n"
      ],
      "metadata": {
        "id": "D9tL9Uv-raL0"
      }
    },
    {
      "cell_type": "code",
      "source": [
        "#import functions_framework\n",
        "import requests\n",
        "from flask import jsonify\n",
        "\n",
        "# @functions_framework.http\n",
        "def get_movie_titles(): # request\n",
        "    try:\n",
        "        movie_database_url = 'https://api.themoviedb.org/3/discover/movie'\n",
        "        api_key = 'YOUR_API_KEY'\n",
        "\n",
        "        response = requests.get(movie_database_url, params={'api_key': api_key, 'page': 1})\n",
        "\n",
        "        # Check if the request was successful (status code 200)\n",
        "        response.raise_for_status()\n",
        "\n",
        "        # Parse the JSON response\n",
        "        data = response.json()\n",
        "\n",
        "        # Check if there are results\n",
        "        if 'results' in data and data['results']:\n",
        "            # Filter movies that have a poster path\n",
        "            movies_with_poster = [movie for movie in data['results'] if 'poster_path' in movie]\n",
        "\n",
        "            movie_details = [{'title': movie['title'], 'id': movie['id']} for movie in movies_with_poster]\n",
        "\n",
        "            # Return a JSON response with the list of movie details\n",
        "            return {'movie_details': movie_details}\n",
        "        else:\n",
        "            return {'error': 'No results found.'}, 404\n",
        "    except requests.RequestException as e:\n",
        "        # Log the error details\n",
        "        print(f\"Error making API request: {e}\")\n",
        "        return 'Internal Server Error', 500\n",
        "    except requests.exceptions.HTTPError as e:\n",
        "        # Log the HTTP error details\n",
        "        print(f\"HTTP Error: {e}\")\n",
        "        return 'Internal Server Error', 500\n",
        "    except json.JSONDecodeError as e:\n",
        "        # Log the error details\n",
        "        print(f\"Error decoding JSON response: {e}\")\n",
        "        return 'Internal Server Error', 500\n"
      ],
      "metadata": {
        "id": "d8PA6Qo8v1yV"
      },
      "execution_count": 113,
      "outputs": []
    },
    {
      "cell_type": "code",
      "source": [
        "# Call the function and print the result\n",
        "result = get_movie_titles()\n",
        "result"
      ],
      "metadata": {
        "colab": {
          "base_uri": "https://localhost:8080/"
        },
        "id": "xKVDp_FEu9fR",
        "outputId": "d7f0de9f-65f9-4832-e90a-ac95d411191c"
      },
      "execution_count": 114,
      "outputs": [
        {
          "output_type": "execute_result",
          "data": {
            "text/plain": [
              "{'movie_details': [{'title': 'Badland Hunters', 'id': 933131},\n",
              "  {'title': 'Sixty Minutes', 'id': 1212073},\n",
              "  {'title': 'Wonka', 'id': 787699},\n",
              "  {'title': 'The Marvels', 'id': 609681},\n",
              "  {'title': 'The Beekeeper', 'id': 866398},\n",
              "  {'title': 'Lift', 'id': 955916},\n",
              "  {'title': 'Aquaman and the Lost Kingdom', 'id': 572802},\n",
              "  {'title': 'Migration', 'id': 940551},\n",
              "  {'title': 'Wish', 'id': 1022796},\n",
              "  {'title': 'The Hunger Games: The Ballad of Songbirds & Snakes',\n",
              "   'id': 695721},\n",
              "  {'title': 'Orion and the Dark', 'id': 1139829},\n",
              "  {'title': 'The Family Plan', 'id': 1029575},\n",
              "  {'title': 'Rebel Moon - Part One: A Child of Fire', 'id': 848326},\n",
              "  {'title': \"The Tiger's Apprentice\", 'id': 598387},\n",
              "  {'title': 'Role Play', 'id': 848187},\n",
              "  {'title': 'The Bricklayer', 'id': 927107},\n",
              "  {'title': 'Silent Night', 'id': 891699},\n",
              "  {'title': 'Freelance', 'id': 897087},\n",
              "  {'title': 'The Painter', 'id': 1211957},\n",
              "  {'title': 'Anyone But You', 'id': 1072790}]}"
            ]
          },
          "metadata": {},
          "execution_count": 114
        }
      ]
    },
    {
      "cell_type": "markdown",
      "source": [
        "### **Function 2:** Fetch the poster of a specific Movie\n"
      ],
      "metadata": {
        "id": "hl2VDP_Pwb5Y"
      }
    },
    {
      "cell_type": "markdown",
      "source": [
        "#### **Main.py**"
      ],
      "metadata": {
        "id": "w04f3FvU1xky"
      }
    },
    {
      "cell_type": "code",
      "source": [
        "import functions_framework\n",
        "from flask import jsonify\n",
        "import requests\n",
        "\n",
        "api_key = 'YOUR_API_KEY'\n",
        "\n",
        "\n",
        "@functions_framework.http\n",
        "def get_movie_details(request):\n",
        "    try:\n",
        "        # Extract the movie ID from the request parameters\n",
        "        movie_id = request.args.get('movie_id')\n",
        "\n",
        "        # Make the API request using the provided movie ID\n",
        "        url = f'https://api.themoviedb.org/3/movie/{movie_id}?api_key={api_key}'\n",
        "        response = requests.get(url)\n",
        "\n",
        "        # Check if the request was successful (status code 200)\n",
        "        response.raise_for_status()\n",
        "\n",
        "        # Parse the JSON response\n",
        "        obj = response.json()\n",
        "\n",
        "        poster_path_prefix = 'https://image.tmdb.org/t/p/w1280/'\n",
        "        poster_path = f\"{poster_path_prefix}{obj.get('poster_path')}\"\n",
        "\n",
        "\n",
        "        # Return a JSON response with the movie details\n",
        "        response_data = {'movie_name': obj[\"title\"], 'movie_poster': poster_path}\n",
        "        return jsonify(response_data)\n",
        "    except requests.RequestException as e:\n",
        "        # Log the error details\n",
        "        print(f\"Error making API request: {e}\")\n",
        "        return 'Internal Server Error', 500\n",
        "    except requests.exceptions.HTTPError as e:\n",
        "        # Log the HTTP error details\n",
        "        print(f\"HTTP Error: {e}\")\n",
        "        return 'Internal Server Error', 500\n",
        "    except json.JSONDecodeError as e:\n",
        "        # Log the error details\n",
        "        print(f\"Error decoding JSON response: {e}\")\n",
        "        return 'Internal Server Error', 500\n"
      ],
      "metadata": {
        "id": "O0W2DDy5z9Pi"
      },
      "execution_count": 111,
      "outputs": []
    },
    {
      "cell_type": "markdown",
      "source": [
        "#### Requirements.txt\n",
        "\n",
        "- functions-framework==3.*\n",
        "- requests==2.31.0"
      ],
      "metadata": {
        "id": "6yUkEAlK1zpH"
      }
    },
    {
      "cell_type": "markdown",
      "source": [
        "## **2. Deploy the function on Google Cloud Platform**"
      ],
      "metadata": {
        "id": "KsH5rqYtyac6"
      }
    },
    {
      "cell_type": "markdown",
      "source": [
        "## **3. Call the function from a Notebook (either in Colab or in Jupyter)**"
      ],
      "metadata": {
        "id": "G14jJy8uydJw"
      }
    },
    {
      "cell_type": "code",
      "source": [
        "# Testing function 1:\n",
        "r = requests.get('YOUR_URL')\n",
        "obj = json.loads(r.text)\n",
        "print(obj)\n",
        "\n",
        "\n",
        "# Testing function 2:\n",
        "movie_id = '933131'\n",
        "r = requests.get(f'YOUR_URL?movie_id={movie_id}')\n",
        "obj = json.loads(r.text)\n",
        "print(obj)"
      ],
      "metadata": {
        "colab": {
          "base_uri": "https://localhost:8080/"
        },
        "id": "0mCwAn-LzWYe",
        "outputId": "30fd43b4-7d9f-40e0-84a0-c5d23937ff98"
      },
      "execution_count": 102,
      "outputs": [
        {
          "output_type": "stream",
          "name": "stdout",
          "text": [
            "{'movie_details': [{'id': 933131, 'title': 'Badland Hunters'}, {'id': 1212073, 'title': 'Sixty Minutes'}, {'id': 787699, 'title': 'Wonka'}, {'id': 609681, 'title': 'The Marvels'}, {'id': 866398, 'title': 'The Beekeeper'}, {'id': 955916, 'title': 'Lift'}, {'id': 572802, 'title': 'Aquaman and the Lost Kingdom'}, {'id': 940551, 'title': 'Migration'}, {'id': 1022796, 'title': 'Wish'}, {'id': 695721, 'title': 'The Hunger Games: The Ballad of Songbirds & Snakes'}, {'id': 1139829, 'title': 'Orion and the Dark'}, {'id': 1029575, 'title': 'The Family Plan'}, {'id': 848326, 'title': 'Rebel Moon - Part One: A Child of Fire'}, {'id': 598387, 'title': \"The Tiger's Apprentice\"}, {'id': 848187, 'title': 'Role Play'}, {'id': 927107, 'title': 'The Bricklayer'}, {'id': 891699, 'title': 'Silent Night'}, {'id': 897087, 'title': 'Freelance'}, {'id': 1211957, 'title': 'The Painter'}, {'id': 1072790, 'title': 'Anyone But You'}]}\n",
            "{'movie_name': 'Badland Hunters', 'movie_poster': 'https://image.tmdb.org/t/p/w1280//l4emA6jN9YQxhdpoZ4IThpMofc6.jpg'}\n"
          ]
        }
      ]
    }
  ]
}