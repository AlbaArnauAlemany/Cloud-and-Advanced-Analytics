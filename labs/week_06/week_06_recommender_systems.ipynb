{
  "cells": [
    {
      "attachments": {},
      "cell_type": "markdown",
      "metadata": {
        "colab_type": "text",
        "id": "view-in-github"
      },
      "source": [
        "<a target=\"_blank\" href=\"https://colab.research.google.com/github/michalis0/Cloud-and-Advanced-Analytics/blob/main/labs/week_06/week_06_recommender_systems.ipynb\">\n",
        "  <img src=\"https://colab.research.google.com/assets/colab-badge.svg\" alt=\"Open In Colab\"/>\n",
        "</a>"
      ]
    },
    {
      "attachments": {},
      "cell_type": "markdown",
      "metadata": {
        "id": "12cW8RItmOpj"
      },
      "source": [
        "# Data Mining and Machine Learning - Week 6\n",
        "# Recommender Systems\n",
        "\n",
        "A [recommender system](https://en.wikipedia.org/wiki/Recommender_system) is a subclass of information filtering system that seeks to predict the \"rating\" or \"preference\" a user would give to an item. They are primarily used in commercial applications.\n",
        "\n",
        "\n",
        "### Table of Contents\n",
        "#### 1. User-User Collaborative Filtering From Scratch\n",
        "* 1.1 Download the data\n",
        "* 1.2 Import modules and load data\n",
        "* 1.3 Data visualization\n",
        "* 1.4 Truncate the data\n",
        "* 1.5 Preprocess the data\n",
        "* 1.6 Create the Ratings Matrix\n",
        "* 1.7 User Average Ratings\n",
        "* 1.8 Compute User-User Similarity \n",
        "* 1.9 User to all Users Similarities\n",
        "* 1.10 Create User Neighborhood \n",
        "* 1.11 Predict a Rating \n",
        "* 1.12 Recommendation Exercise\n",
        "\n",
        "#### 2. Using the Surprise library\n",
        "* 2.1 Some helper functions\n",
        "* 2.2 Visualizing the recommendations\n",
        "* 2.3 Cross-validation using surprise\n",
        "* 2.4 Precision - Recall @k\n",
        "* 2.5 Tuning hyper-parameters with surprise"
      ]
    },
    {
      "attachments": {},
      "cell_type": "markdown",
      "metadata": {
        "id": "WvwKN6fqmMZ8"
      },
      "source": [
        "## 1. User-User Collaborative Filtering From Scratch\n",
        "We implement User-User Collaborative Filtering from scratch i.e. by only using numpy and scipy libraries. We use the MovieLens 20M dataset."
      ]
    },
    {
      "attachments": {},
      "cell_type": "markdown",
      "metadata": {
        "id": "qmljqGT8nAAF"
      },
      "source": [
        "### 1.1 Download the data\n",
        "We download the MovieLens 20M dataset from <http://files.grouplens.org/datasets/movielens/ml-20m.zip>, extract the contents of the zip file as a folder named `data` located in the same folder as this notebook. You should have a file `ml-20m/ratings.csv`, which is what we'll be working with."
      ]
    },
    {
      "cell_type": "code",
      "execution_count": null,
      "metadata": {
        "id": "tdBAyh9rmMZ9"
      },
      "outputs": [],
      "source": [
        "# Download data\n",
        "!pip install wget\n",
        "!mkdir data\n",
        "import wget\n",
        "filename = wget.download(\"http://files.grouplens.org/datasets/movielens/ml-20m.zip\", out=\"data/ml-20m.zip\")"
      ]
    },
    {
      "cell_type": "code",
      "execution_count": null,
      "metadata": {
        "id": "uqK7IOPLmMZ9"
      },
      "outputs": [],
      "source": [
        "# Unzip the zip file to get the data-sets\n",
        "!unzip data/ml-20m.zip"
      ]
    },
    {
      "attachments": {},
      "cell_type": "markdown",
      "metadata": {
        "id": "kzLcWslemMZ9"
      },
      "source": [
        "### 1.2 Import modules and load data"
      ]
    },
    {
      "cell_type": "code",
      "execution_count": 1,
      "metadata": {
        "id": "ouu8oEhzmMZ9"
      },
      "outputs": [],
      "source": [
        "# Import requiered packages\n",
        "import csv\n",
        "import pandas as pd\n",
        "import numpy as np\n",
        "from scipy import sparse as sp\n",
        "from scipy.sparse.linalg import norm\n",
        "import sklearn.preprocessing as pp\n",
        "import matplotlib.pyplot as plt\n",
        "plt.style.use('dark_background')\n",
        "\n",
        "# Set some formatting options\n",
        "np.set_printoptions(threshold=500, precision=4)\n",
        "pd.options.display.max_seq_items = 20\n",
        "pd.options.display.max_rows = 20"
      ]
    },
    {
      "attachments": {},
      "cell_type": "markdown",
      "metadata": {
        "id": "F1ANI5z7mMZ-"
      },
      "source": [
        "Load data from csv files."
      ]
    },
    {
      "cell_type": "code",
      "execution_count": 2,
      "metadata": {
        "id": "ZVjGJMVXmMZ-"
      },
      "outputs": [],
      "source": [
        "ratings_raw = pd.read_csv('ml-20m/ratings.csv')\n",
        "movies = pd.read_csv('ml-20m/movies.csv')\n",
        "links = pd.read_csv('ml-20m/links.csv')"
      ]
    },
    {
      "attachments": {},
      "cell_type": "markdown",
      "metadata": {
        "id": "ikvODPGbmMZ-"
      },
      "source": [
        "Let's see what the data looks like."
      ]
    },
    {
      "cell_type": "code",
      "execution_count": 3,
      "metadata": {
        "colab": {
          "base_uri": "https://localhost:8080/",
          "height": 621
        },
        "id": "6mWQnnUcmMZ-",
        "outputId": "5f39b401-6bc2-4ac8-85cc-a6e2d4fc6f6f"
      },
      "outputs": [
        {
          "data": {
            "text/html": [
              "<div>\n",
              "<style scoped>\n",
              "    .dataframe tbody tr th:only-of-type {\n",
              "        vertical-align: middle;\n",
              "    }\n",
              "\n",
              "    .dataframe tbody tr th {\n",
              "        vertical-align: top;\n",
              "    }\n",
              "\n",
              "    .dataframe thead th {\n",
              "        text-align: right;\n",
              "    }\n",
              "</style>\n",
              "<table border=\"1\" class=\"dataframe\">\n",
              "  <thead>\n",
              "    <tr style=\"text-align: right;\">\n",
              "      <th></th>\n",
              "      <th>userId</th>\n",
              "      <th>movieId</th>\n",
              "      <th>rating</th>\n",
              "      <th>timestamp</th>\n",
              "    </tr>\n",
              "  </thead>\n",
              "  <tbody>\n",
              "    <tr>\n",
              "      <th>0</th>\n",
              "      <td>1</td>\n",
              "      <td>2</td>\n",
              "      <td>3.5</td>\n",
              "      <td>1112486027</td>\n",
              "    </tr>\n",
              "    <tr>\n",
              "      <th>1</th>\n",
              "      <td>1</td>\n",
              "      <td>29</td>\n",
              "      <td>3.5</td>\n",
              "      <td>1112484676</td>\n",
              "    </tr>\n",
              "    <tr>\n",
              "      <th>2</th>\n",
              "      <td>1</td>\n",
              "      <td>32</td>\n",
              "      <td>3.5</td>\n",
              "      <td>1112484819</td>\n",
              "    </tr>\n",
              "    <tr>\n",
              "      <th>3</th>\n",
              "      <td>1</td>\n",
              "      <td>47</td>\n",
              "      <td>3.5</td>\n",
              "      <td>1112484727</td>\n",
              "    </tr>\n",
              "    <tr>\n",
              "      <th>4</th>\n",
              "      <td>1</td>\n",
              "      <td>50</td>\n",
              "      <td>3.5</td>\n",
              "      <td>1112484580</td>\n",
              "    </tr>\n",
              "  </tbody>\n",
              "</table>\n",
              "</div>"
            ],
            "text/plain": [
              "   userId  movieId  rating   timestamp\n",
              "0       1        2     3.5  1112486027\n",
              "1       1       29     3.5  1112484676\n",
              "2       1       32     3.5  1112484819\n",
              "3       1       47     3.5  1112484727\n",
              "4       1       50     3.5  1112484580"
            ]
          },
          "metadata": {},
          "output_type": "display_data"
        },
        {
          "data": {
            "text/html": [
              "<div>\n",
              "<style scoped>\n",
              "    .dataframe tbody tr th:only-of-type {\n",
              "        vertical-align: middle;\n",
              "    }\n",
              "\n",
              "    .dataframe tbody tr th {\n",
              "        vertical-align: top;\n",
              "    }\n",
              "\n",
              "    .dataframe thead th {\n",
              "        text-align: right;\n",
              "    }\n",
              "</style>\n",
              "<table border=\"1\" class=\"dataframe\">\n",
              "  <thead>\n",
              "    <tr style=\"text-align: right;\">\n",
              "      <th></th>\n",
              "      <th>movieId</th>\n",
              "      <th>title</th>\n",
              "      <th>genres</th>\n",
              "    </tr>\n",
              "  </thead>\n",
              "  <tbody>\n",
              "    <tr>\n",
              "      <th>0</th>\n",
              "      <td>1</td>\n",
              "      <td>Toy Story (1995)</td>\n",
              "      <td>Adventure|Animation|Children|Comedy|Fantasy</td>\n",
              "    </tr>\n",
              "    <tr>\n",
              "      <th>1</th>\n",
              "      <td>2</td>\n",
              "      <td>Jumanji (1995)</td>\n",
              "      <td>Adventure|Children|Fantasy</td>\n",
              "    </tr>\n",
              "    <tr>\n",
              "      <th>2</th>\n",
              "      <td>3</td>\n",
              "      <td>Grumpier Old Men (1995)</td>\n",
              "      <td>Comedy|Romance</td>\n",
              "    </tr>\n",
              "    <tr>\n",
              "      <th>3</th>\n",
              "      <td>4</td>\n",
              "      <td>Waiting to Exhale (1995)</td>\n",
              "      <td>Comedy|Drama|Romance</td>\n",
              "    </tr>\n",
              "    <tr>\n",
              "      <th>4</th>\n",
              "      <td>5</td>\n",
              "      <td>Father of the Bride Part II (1995)</td>\n",
              "      <td>Comedy</td>\n",
              "    </tr>\n",
              "  </tbody>\n",
              "</table>\n",
              "</div>"
            ],
            "text/plain": [
              "   movieId                               title  \\\n",
              "0        1                    Toy Story (1995)   \n",
              "1        2                      Jumanji (1995)   \n",
              "2        3             Grumpier Old Men (1995)   \n",
              "3        4            Waiting to Exhale (1995)   \n",
              "4        5  Father of the Bride Part II (1995)   \n",
              "\n",
              "                                        genres  \n",
              "0  Adventure|Animation|Children|Comedy|Fantasy  \n",
              "1                   Adventure|Children|Fantasy  \n",
              "2                               Comedy|Romance  \n",
              "3                         Comedy|Drama|Romance  \n",
              "4                                       Comedy  "
            ]
          },
          "metadata": {},
          "output_type": "display_data"
        },
        {
          "data": {
            "text/html": [
              "<div>\n",
              "<style scoped>\n",
              "    .dataframe tbody tr th:only-of-type {\n",
              "        vertical-align: middle;\n",
              "    }\n",
              "\n",
              "    .dataframe tbody tr th {\n",
              "        vertical-align: top;\n",
              "    }\n",
              "\n",
              "    .dataframe thead th {\n",
              "        text-align: right;\n",
              "    }\n",
              "</style>\n",
              "<table border=\"1\" class=\"dataframe\">\n",
              "  <thead>\n",
              "    <tr style=\"text-align: right;\">\n",
              "      <th></th>\n",
              "      <th>movieId</th>\n",
              "      <th>imdbId</th>\n",
              "      <th>tmdbId</th>\n",
              "    </tr>\n",
              "  </thead>\n",
              "  <tbody>\n",
              "    <tr>\n",
              "      <th>0</th>\n",
              "      <td>1</td>\n",
              "      <td>114709</td>\n",
              "      <td>862.0</td>\n",
              "    </tr>\n",
              "    <tr>\n",
              "      <th>1</th>\n",
              "      <td>2</td>\n",
              "      <td>113497</td>\n",
              "      <td>8844.0</td>\n",
              "    </tr>\n",
              "    <tr>\n",
              "      <th>2</th>\n",
              "      <td>3</td>\n",
              "      <td>113228</td>\n",
              "      <td>15602.0</td>\n",
              "    </tr>\n",
              "    <tr>\n",
              "      <th>3</th>\n",
              "      <td>4</td>\n",
              "      <td>114885</td>\n",
              "      <td>31357.0</td>\n",
              "    </tr>\n",
              "    <tr>\n",
              "      <th>4</th>\n",
              "      <td>5</td>\n",
              "      <td>113041</td>\n",
              "      <td>11862.0</td>\n",
              "    </tr>\n",
              "  </tbody>\n",
              "</table>\n",
              "</div>"
            ],
            "text/plain": [
              "   movieId  imdbId   tmdbId\n",
              "0        1  114709    862.0\n",
              "1        2  113497   8844.0\n",
              "2        3  113228  15602.0\n",
              "3        4  114885  31357.0\n",
              "4        5  113041  11862.0"
            ]
          },
          "metadata": {},
          "output_type": "display_data"
        },
        {
          "name": "stdout",
          "output_type": "stream",
          "text": [
            "Distinct users: 138493\n",
            "Distinct items: 26744\n"
          ]
        }
      ],
      "source": [
        "display(ratings_raw.head())\n",
        "display(movies.head())\n",
        "display(links.head())\n",
        "print(\"Distinct users:\", len(ratings_raw.userId.unique()))\n",
        "print(\"Distinct items:\", len(ratings_raw.movieId.unique()))"
      ]
    },
    {
      "cell_type": "code",
      "execution_count": 4,
      "metadata": {
        "colab": {
          "base_uri": "https://localhost:8080/",
          "height": 81
        },
        "id": "V9zIoj9UuoW1",
        "outputId": "8c68201e-4585-4687-f13e-8e16b6674086"
      },
      "outputs": [
        {
          "data": {
            "text/html": [
              "<div>\n",
              "<style scoped>\n",
              "    .dataframe tbody tr th:only-of-type {\n",
              "        vertical-align: middle;\n",
              "    }\n",
              "\n",
              "    .dataframe tbody tr th {\n",
              "        vertical-align: top;\n",
              "    }\n",
              "\n",
              "    .dataframe thead th {\n",
              "        text-align: right;\n",
              "    }\n",
              "</style>\n",
              "<table border=\"1\" class=\"dataframe\">\n",
              "  <thead>\n",
              "    <tr style=\"text-align: right;\">\n",
              "      <th></th>\n",
              "      <th>movieId</th>\n",
              "      <th>title</th>\n",
              "      <th>genres</th>\n",
              "    </tr>\n",
              "  </thead>\n",
              "  <tbody>\n",
              "    <tr>\n",
              "      <th>476</th>\n",
              "      <td>480</td>\n",
              "      <td>Jurassic Park (1993)</td>\n",
              "      <td>Action|Adventure|Sci-Fi|Thriller</td>\n",
              "    </tr>\n",
              "  </tbody>\n",
              "</table>\n",
              "</div>"
            ],
            "text/plain": [
              "     movieId                 title                            genres\n",
              "476      480  Jurassic Park (1993)  Action|Adventure|Sci-Fi|Thriller"
            ]
          },
          "execution_count": 4,
          "metadata": {},
          "output_type": "execute_result"
        }
      ],
      "source": [
        "# Example to keep in mind for later --> id is 480\n",
        "movies[movies.title == 'Jurassic Park (1993)']"
      ]
    },
    {
      "attachments": {},
      "cell_type": "markdown",
      "metadata": {
        "id": "H1oYI3WxmMZ-"
      },
      "source": [
        "### 1.3 Data visualization\n",
        "Lets visualize some of the movie data. We will use [tmdbsimple](https://pypi.org/project/tmdbsimple/) which is a wrapper, written in Python, for The Movie Database (TMDb) API v3."
      ]
    },
    {
      "cell_type": "code",
      "execution_count": 5,
      "metadata": {
        "colab": {
          "base_uri": "https://localhost:8080/"
        },
        "id": "b3dLjYwwmMZ-",
        "outputId": "8e305724-b470-42f1-b016-53149d431b2b"
      },
      "outputs": [
        {
          "name": "stdout",
          "output_type": "stream",
          "text": [
            "Requirement already satisfied: tmdbsimple in /Users/etiennebruno/opt/anaconda3/lib/python3.9/site-packages (2.9.1)\n",
            "Requirement already satisfied: requests in /Users/etiennebruno/opt/anaconda3/lib/python3.9/site-packages (from tmdbsimple) (2.28.1)\n",
            "Requirement already satisfied: charset-normalizer<3,>=2 in /Users/etiennebruno/opt/anaconda3/lib/python3.9/site-packages (from requests->tmdbsimple) (2.0.4)\n",
            "Requirement already satisfied: certifi>=2017.4.17 in /Users/etiennebruno/opt/anaconda3/lib/python3.9/site-packages (from requests->tmdbsimple) (2022.12.7)\n",
            "Requirement already satisfied: urllib3<1.27,>=1.21.1 in /Users/etiennebruno/opt/anaconda3/lib/python3.9/site-packages (from requests->tmdbsimple) (1.26.12)\n",
            "Requirement already satisfied: idna<4,>=2.5 in /Users/etiennebruno/opt/anaconda3/lib/python3.9/site-packages (from requests->tmdbsimple) (3.4)\n"
          ]
        }
      ],
      "source": [
        "# Install package\n",
        "!pip install tmdbsimple"
      ]
    },
    {
      "attachments": {},
      "cell_type": "markdown",
      "metadata": {
        "id": "elTxW5fOn94T"
      },
      "source": [
        "We directly import a module from GitHub. It runs the `__init__.py` file, which contains a class we need called `TMDB`."
      ]
    },
    {
      "cell_type": "code",
      "execution_count": 6,
      "metadata": {},
      "outputs": [
        {
          "name": "stdout",
          "output_type": "stream",
          "text": [
            "Requirement already satisfied: httpimport in /Users/etiennebruno/opt/anaconda3/lib/python3.9/site-packages (1.3.0)\n"
          ]
        }
      ],
      "source": [
        "!pip install httpimport"
      ]
    },
    {
      "cell_type": "code",
      "execution_count": 7,
      "metadata": {
        "colab": {
          "base_uri": "https://localhost:8080/"
        },
        "id": "T97y7f2YuQgB",
        "outputId": "582128fd-1735-4543-db4e-836f1335bb20"
      },
      "outputs": [
        {
          "data": {
            "text/plain": [
              "<module 'week_06_recommenders' (<httpimport.HttpImporter object at 0x164c976d0>)>"
            ]
          },
          "execution_count": 7,
          "metadata": {},
          "output_type": "execute_result"
        }
      ],
      "source": [
        "# Import module from GitHub\n",
        "from httpimport import github_repo\n",
        "with github_repo(username='michalis0', repo='Cloud-and-Advanced-Analytics'):\n",
        "  import week_06_recommenders\n",
        "\n",
        "week_06_recommenders"
      ]
    },
    {
      "cell_type": "code",
      "execution_count": 8,
      "metadata": {
        "id": "ujlt6Z-mmMZ-"
      },
      "outputs": [],
      "source": [
        "from IPython.display import Image\n",
        "from IPython.display import display, HTML\n",
        "\n",
        "# Which movies did user watch?\n",
        "def make_html(image_url):\n",
        "     return '<img src=\"{}\" style=\"display:inline;margin:1px\" width=\"100\"/>'\\\n",
        "            .format(image_url)\n",
        "        \n",
        "def show_movies_for_user(userId, verbose=False, show_all=False):\n",
        "    \"\"\"Retrieve posters of top rated movies for userId.\n",
        "    \n",
        "    Note: this accepts the original user id\n",
        "    \"\"\"\n",
        "    html = ''\n",
        "    max_movies = 10\n",
        "    i=0\n",
        "    \n",
        "    user_movies = ratings_raw[ratings_raw.userId == userId][\"movieId\"]\n",
        "    print(\"User \", userId , \" watched \", len(user_movies), ' movies') \n",
        "    \n",
        "    user_movies = ratings_raw[ratings_raw.userId == userId].sort_values(\"rating\", ascending=False) \n",
        "    for index, row in user_movies.iterrows():\n",
        "        movieId = row[\"movieId\"]\n",
        "        movie_item = links[links.movieId == movieId]\n",
        "        tmdbId = movie_item[\"tmdbId\"].item()\n",
        "        if verbose:\n",
        "            print(movieId, tmdbId)\n",
        "        if np.isnan(tmdbId):\n",
        "            url = None\n",
        "        else:\n",
        "            url = week_06_recommenders.TMDB().get_poster_path_by_id(int(tmdbId)) # use imported module\n",
        "        html = html + make_html(url)\n",
        "        i +=1\n",
        "        \n",
        "        if ~show_all and (i == max_movies):\n",
        "                break\n",
        "        \n",
        "    display(HTML(html))"
      ]
    },
    {
      "cell_type": "code",
      "execution_count": 9,
      "metadata": {
        "colab": {
          "base_uri": "https://localhost:8080/",
          "height": 191
        },
        "id": "gkYybOWomMZ_",
        "outputId": "a558dc48-a0cd-45df-813b-a7b2db7087cb"
      },
      "outputs": [
        {
          "name": "stdout",
          "output_type": "stream",
          "text": [
            "User  6  watched  24  movies\n"
          ]
        },
        {
          "data": {
            "text/html": [
              "<img src=\"http://image.tmdb.org/t/p/w200/uXDfjJbdP4ijW5hWSBrPrlKpxab.jpg\" style=\"display:inline;margin:1px\" width=\"100\"/><img src=\"http://image.tmdb.org/t/p/w200/cm0oPKizOQlsXpGYvrHvpELfxdi.jpg\" style=\"display:inline;margin:1px\" width=\"100\"/><img src=\"http://image.tmdb.org/t/p/w200/4IpC35BoA5aRO0Q1DpFGJ8iKKYq.jpg\" style=\"display:inline;margin:1px\" width=\"100\"/><img src=\"http://image.tmdb.org/t/p/w200/kBmwWeSN3ajnYHZ3dSybEobxEPI.jpg\" style=\"display:inline;margin:1px\" width=\"100\"/><img src=\"http://image.tmdb.org/t/p/w200/l5uxY5m5OInWpcExIpKG6AR3rgL.jpg\" style=\"display:inline;margin:1px\" width=\"100\"/><img src=\"http://image.tmdb.org/t/p/w200/cBK2yL3HqhFvIVd7lLtazWlRZPR.jpg\" style=\"display:inline;margin:1px\" width=\"100\"/><img src=\"http://image.tmdb.org/t/p/w200/z1oNjotUI7D06J4LWQFQzdIuPnf.jpg\" style=\"display:inline;margin:1px\" width=\"100\"/><img src=\"http://image.tmdb.org/t/p/w200/qJf2TzE8nRTFbFMPJNW6c8mI0KU.jpg\" style=\"display:inline;margin:1px\" width=\"100\"/><img src=\"http://image.tmdb.org/t/p/w200/fMtb5aZoLRNbMnCkatFsTmPRfl5.jpg\" style=\"display:inline;margin:1px\" width=\"100\"/><img src=\"http://image.tmdb.org/t/p/w200/1J2FvxEoEKMFT9TjUdfhm0MJhZD.jpg\" style=\"display:inline;margin:1px\" width=\"100\"/>"
            ],
            "text/plain": [
              "<IPython.core.display.HTML object>"
            ]
          },
          "metadata": {},
          "output_type": "display_data"
        }
      ],
      "source": [
        "# Let's see which movies user 6 watched\n",
        "show_movies_for_user(6, verbose=False) "
      ]
    },
    {
      "cell_type": "code",
      "execution_count": 10,
      "metadata": {
        "colab": {
          "base_uri": "https://localhost:8080/",
          "height": 394
        },
        "id": "tVd_Cg_-E7oW",
        "outputId": "d41b0c05-d2a8-429a-d64d-65382ed8ab2e"
      },
      "outputs": [
        {
          "data": {
            "text/html": [
              "<div>\n",
              "<style scoped>\n",
              "    .dataframe tbody tr th:only-of-type {\n",
              "        vertical-align: middle;\n",
              "    }\n",
              "\n",
              "    .dataframe tbody tr th {\n",
              "        vertical-align: top;\n",
              "    }\n",
              "\n",
              "    .dataframe thead th {\n",
              "        text-align: right;\n",
              "    }\n",
              "</style>\n",
              "<table border=\"1\" class=\"dataframe\">\n",
              "  <thead>\n",
              "    <tr style=\"text-align: right;\">\n",
              "      <th></th>\n",
              "      <th>userId</th>\n",
              "      <th>rating</th>\n",
              "      <th>timestamp</th>\n",
              "      <th>title</th>\n",
              "      <th>genres</th>\n",
              "    </tr>\n",
              "    <tr>\n",
              "      <th>movieId</th>\n",
              "      <th></th>\n",
              "      <th></th>\n",
              "      <th></th>\n",
              "      <th></th>\n",
              "      <th></th>\n",
              "    </tr>\n",
              "  </thead>\n",
              "  <tbody>\n",
              "    <tr>\n",
              "      <th>1</th>\n",
              "      <td>6</td>\n",
              "      <td>5.0</td>\n",
              "      <td>858275452</td>\n",
              "      <td>Toy Story (1995)</td>\n",
              "      <td>Adventure|Animation|Children|Comedy|Fantasy</td>\n",
              "    </tr>\n",
              "    <tr>\n",
              "      <th>52</th>\n",
              "      <td>6</td>\n",
              "      <td>5.0</td>\n",
              "      <td>858275658</td>\n",
              "      <td>Mighty Aphrodite (1995)</td>\n",
              "      <td>Comedy|Drama|Romance</td>\n",
              "    </tr>\n",
              "    <tr>\n",
              "      <th>141</th>\n",
              "      <td>6</td>\n",
              "      <td>5.0</td>\n",
              "      <td>858275452</td>\n",
              "      <td>Birdcage, The (1996)</td>\n",
              "      <td>Comedy</td>\n",
              "    </tr>\n",
              "    <tr>\n",
              "      <th>62</th>\n",
              "      <td>6</td>\n",
              "      <td>5.0</td>\n",
              "      <td>858275452</td>\n",
              "      <td>Mr. Holland's Opus (1995)</td>\n",
              "      <td>Drama</td>\n",
              "    </tr>\n",
              "    <tr>\n",
              "      <th>648</th>\n",
              "      <td>6</td>\n",
              "      <td>5.0</td>\n",
              "      <td>858275452</td>\n",
              "      <td>Mission: Impossible (1996)</td>\n",
              "      <td>Action|Adventure|Mystery|Thriller</td>\n",
              "    </tr>\n",
              "    <tr>\n",
              "      <th>17</th>\n",
              "      <td>6</td>\n",
              "      <td>5.0</td>\n",
              "      <td>858275452</td>\n",
              "      <td>Sense and Sensibility (1995)</td>\n",
              "      <td>Drama|Romance</td>\n",
              "    </tr>\n",
              "    <tr>\n",
              "      <th>7</th>\n",
              "      <td>6</td>\n",
              "      <td>5.0</td>\n",
              "      <td>858275558</td>\n",
              "      <td>Sabrina (1995)</td>\n",
              "      <td>Comedy|Romance</td>\n",
              "    </tr>\n",
              "    <tr>\n",
              "      <th>628</th>\n",
              "      <td>6</td>\n",
              "      <td>4.0</td>\n",
              "      <td>858275783</td>\n",
              "      <td>Primal Fear (1996)</td>\n",
              "      <td>Crime|Drama|Mystery|Thriller</td>\n",
              "    </tr>\n",
              "    <tr>\n",
              "      <th>788</th>\n",
              "      <td>6</td>\n",
              "      <td>4.0</td>\n",
              "      <td>858275658</td>\n",
              "      <td>Nutty Professor, The (1996)</td>\n",
              "      <td>Comedy|Fantasy|Romance|Sci-Fi</td>\n",
              "    </tr>\n",
              "    <tr>\n",
              "      <th>653</th>\n",
              "      <td>6</td>\n",
              "      <td>4.0</td>\n",
              "      <td>858275658</td>\n",
              "      <td>Dragonheart (1996)</td>\n",
              "      <td>Action|Adventure|Fantasy</td>\n",
              "    </tr>\n",
              "  </tbody>\n",
              "</table>\n",
              "</div>"
            ],
            "text/plain": [
              "         userId  rating  timestamp                         title  \\\n",
              "movieId                                                            \n",
              "1             6     5.0  858275452              Toy Story (1995)   \n",
              "52            6     5.0  858275658       Mighty Aphrodite (1995)   \n",
              "141           6     5.0  858275452          Birdcage, The (1996)   \n",
              "62            6     5.0  858275452     Mr. Holland's Opus (1995)   \n",
              "648           6     5.0  858275452    Mission: Impossible (1996)   \n",
              "17            6     5.0  858275452  Sense and Sensibility (1995)   \n",
              "7             6     5.0  858275558                Sabrina (1995)   \n",
              "628           6     4.0  858275783            Primal Fear (1996)   \n",
              "788           6     4.0  858275658   Nutty Professor, The (1996)   \n",
              "653           6     4.0  858275658            Dragonheart (1996)   \n",
              "\n",
              "                                              genres  \n",
              "movieId                                               \n",
              "1        Adventure|Animation|Children|Comedy|Fantasy  \n",
              "52                              Comedy|Drama|Romance  \n",
              "141                                           Comedy  \n",
              "62                                             Drama  \n",
              "648                Action|Adventure|Mystery|Thriller  \n",
              "17                                     Drama|Romance  \n",
              "7                                     Comedy|Romance  \n",
              "628                     Crime|Drama|Mystery|Thriller  \n",
              "788                    Comedy|Fantasy|Romance|Sci-Fi  \n",
              "653                         Action|Adventure|Fantasy  "
            ]
          },
          "execution_count": 10,
          "metadata": {},
          "output_type": "execute_result"
        }
      ],
      "source": [
        "# Show this in ratings_raw\n",
        "ratings_raw[ratings_raw.userId == 6].sort_values(\"rating\", ascending=False).head(10).set_index('movieId').\\\n",
        "                                    join(movies.set_index('movieId'), on='movieId')"
      ]
    },
    {
      "cell_type": "code",
      "execution_count": 11,
      "metadata": {
        "id": "ZbnQLvxDmMZ_"
      },
      "outputs": [],
      "source": [
        "# Some helper functions\n",
        "def get_name_for_movie_id(movie_id):\n",
        "    \"\"\"Returns the name of a movie_id (based on ratings_raw i.e. original id)\"\"\"\n",
        "    \n",
        "    try: \n",
        "        movie_name = movies[movies.movieId == movie_id][\"title\"].item()\n",
        "    except KeyError:\n",
        "        movie_name = None\n",
        "    return movie_name\n",
        "    \n",
        "    \n",
        "def show_genres_histogram_for_user(user_id):\n",
        "    \"\"\"Create histogram of movies genres user_id has watched.\n",
        "    \n",
        "    Note: this uses the original user_id NOT the userIDX\n",
        "    \"\"\"\n",
        "    \n",
        "    user_movies = ratings_raw[ratings_raw.userId == user_id][\"movieId\"]\n",
        "    print(\"User \", user_id , \" watched \", len(user_movies), ' movies') \n",
        "    user_movies_with_genre = movies[movies.movieId.isin(user_movies)]\n",
        "    display(user_movies_with_genre)\n",
        "    \n",
        "    genres_list = []\n",
        "    for index, row in user_movies_with_genre.iterrows():\n",
        "        genres_list += row[\"genres\"].split('|')\n",
        "    \n",
        "    df_genres = pd.DataFrame(genres_list, columns=['genres'])\n",
        "    \n",
        "    df_genres.groupby('genres').size().sort_values().plot(kind='barh')"
      ]
    },
    {
      "cell_type": "code",
      "execution_count": 12,
      "metadata": {
        "colab": {
          "base_uri": "https://localhost:8080/",
          "height": 36
        },
        "id": "eWzVyYx4Z82u",
        "outputId": "c066a02f-d415-4ab6-f14e-25999ccf5b9c"
      },
      "outputs": [
        {
          "data": {
            "text/plain": [
              "'Toy Story (1995)'"
            ]
          },
          "execution_count": 12,
          "metadata": {},
          "output_type": "execute_result"
        }
      ],
      "source": [
        "get_name_for_movie_id(1)"
      ]
    },
    {
      "cell_type": "code",
      "execution_count": 13,
      "metadata": {
        "colab": {
          "base_uri": "https://localhost:8080/",
          "height": 690
        },
        "id": "e7QVi7s5mMZ_",
        "outputId": "f0130bf7-dcf8-4b65-9952-fc6b2e7f6d64"
      },
      "outputs": [
        {
          "name": "stdout",
          "output_type": "stream",
          "text": [
            "User  6  watched  24  movies\n"
          ]
        },
        {
          "data": {
            "text/html": [
              "<div>\n",
              "<style scoped>\n",
              "    .dataframe tbody tr th:only-of-type {\n",
              "        vertical-align: middle;\n",
              "    }\n",
              "\n",
              "    .dataframe tbody tr th {\n",
              "        vertical-align: top;\n",
              "    }\n",
              "\n",
              "    .dataframe thead th {\n",
              "        text-align: right;\n",
              "    }\n",
              "</style>\n",
              "<table border=\"1\" class=\"dataframe\">\n",
              "  <thead>\n",
              "    <tr style=\"text-align: right;\">\n",
              "      <th></th>\n",
              "      <th>movieId</th>\n",
              "      <th>title</th>\n",
              "      <th>genres</th>\n",
              "    </tr>\n",
              "  </thead>\n",
              "  <tbody>\n",
              "    <tr>\n",
              "      <th>0</th>\n",
              "      <td>1</td>\n",
              "      <td>Toy Story (1995)</td>\n",
              "      <td>Adventure|Animation|Children|Comedy|Fantasy</td>\n",
              "    </tr>\n",
              "    <tr>\n",
              "      <th>2</th>\n",
              "      <td>3</td>\n",
              "      <td>Grumpier Old Men (1995)</td>\n",
              "      <td>Comedy|Romance</td>\n",
              "    </tr>\n",
              "    <tr>\n",
              "      <th>6</th>\n",
              "      <td>7</td>\n",
              "      <td>Sabrina (1995)</td>\n",
              "      <td>Comedy|Romance</td>\n",
              "    </tr>\n",
              "    <tr>\n",
              "      <th>16</th>\n",
              "      <td>17</td>\n",
              "      <td>Sense and Sensibility (1995)</td>\n",
              "      <td>Drama|Romance</td>\n",
              "    </tr>\n",
              "    <tr>\n",
              "      <th>51</th>\n",
              "      <td>52</td>\n",
              "      <td>Mighty Aphrodite (1995)</td>\n",
              "      <td>Comedy|Drama|Romance</td>\n",
              "    </tr>\n",
              "    <tr>\n",
              "      <th>...</th>\n",
              "      <td>...</td>\n",
              "      <td>...</td>\n",
              "      <td>...</td>\n",
              "    </tr>\n",
              "    <tr>\n",
              "      <th>749</th>\n",
              "      <td>762</td>\n",
              "      <td>Striptease (1996)</td>\n",
              "      <td>Comedy|Crime</td>\n",
              "    </tr>\n",
              "    <tr>\n",
              "      <th>767</th>\n",
              "      <td>780</td>\n",
              "      <td>Independence Day (a.k.a. ID4) (1996)</td>\n",
              "      <td>Action|Adventure|Sci-Fi|Thriller</td>\n",
              "    </tr>\n",
              "    <tr>\n",
              "      <th>775</th>\n",
              "      <td>788</td>\n",
              "      <td>Nutty Professor, The (1996)</td>\n",
              "      <td>Comedy|Fantasy|Romance|Sci-Fi</td>\n",
              "    </tr>\n",
              "    <tr>\n",
              "      <th>789</th>\n",
              "      <td>802</td>\n",
              "      <td>Phenomenon (1996)</td>\n",
              "      <td>Drama|Romance</td>\n",
              "    </tr>\n",
              "    <tr>\n",
              "      <th>1052</th>\n",
              "      <td>1073</td>\n",
              "      <td>Willy Wonka &amp; the Chocolate Factory (1971)</td>\n",
              "      <td>Children|Comedy|Fantasy|Musical</td>\n",
              "    </tr>\n",
              "  </tbody>\n",
              "</table>\n",
              "<p>24 rows × 3 columns</p>\n",
              "</div>"
            ],
            "text/plain": [
              "      movieId                                       title  \\\n",
              "0           1                            Toy Story (1995)   \n",
              "2           3                     Grumpier Old Men (1995)   \n",
              "6           7                              Sabrina (1995)   \n",
              "16         17                Sense and Sensibility (1995)   \n",
              "51         52                     Mighty Aphrodite (1995)   \n",
              "...       ...                                         ...   \n",
              "749       762                           Striptease (1996)   \n",
              "767       780        Independence Day (a.k.a. ID4) (1996)   \n",
              "775       788                 Nutty Professor, The (1996)   \n",
              "789       802                           Phenomenon (1996)   \n",
              "1052     1073  Willy Wonka & the Chocolate Factory (1971)   \n",
              "\n",
              "                                           genres  \n",
              "0     Adventure|Animation|Children|Comedy|Fantasy  \n",
              "2                                  Comedy|Romance  \n",
              "6                                  Comedy|Romance  \n",
              "16                                  Drama|Romance  \n",
              "51                           Comedy|Drama|Romance  \n",
              "...                                           ...  \n",
              "749                                  Comedy|Crime  \n",
              "767              Action|Adventure|Sci-Fi|Thriller  \n",
              "775                 Comedy|Fantasy|Romance|Sci-Fi  \n",
              "789                                 Drama|Romance  \n",
              "1052              Children|Comedy|Fantasy|Musical  \n",
              "\n",
              "[24 rows x 3 columns]"
            ]
          },
          "metadata": {},
          "output_type": "display_data"
        },
        {
          "data": {
            "image/png": "[encoded data removed]",
            "text/plain": [
              "<Figure size 640x480 with 1 Axes>"
            ]
          },
          "metadata": {},
          "output_type": "display_data"
        }
      ],
      "source": [
        "# Now we can see what user 6 watched\n",
        "show_genres_histogram_for_user(6)"
      ]
    },
    {
      "attachments": {},
      "cell_type": "markdown",
      "metadata": {
        "id": "tD4Qa2yJmMZ_"
      },
      "source": [
        "### 1.4 Truncate the data\n",
        "\n",
        "To speed things up, we will work with a *truncated* version of the data, containing up to 10000 users and 1000 movies. \n",
        "\n",
        "**Important:** To see results with the full dataset, set `DEBUG = False`, and **rerun all cells starting from the top**. But be careful this may take a long time."
      ]
    },
    {
      "cell_type": "code",
      "execution_count": 14,
      "metadata": {
        "id": "LF--FMQ-mMZ_"
      },
      "outputs": [],
      "source": [
        "DEBUG = True\n",
        "if DEBUG: \n",
        "    ratings_raw = ratings_raw[ (ratings_raw['userId'] < 10000) & (ratings_raw['movieId'] < 1000) ]"
      ]
    },
    {
      "cell_type": "code",
      "execution_count": 15,
      "metadata": {
        "colab": {
          "base_uri": "https://localhost:8080/"
        },
        "id": "2VZXpWfYcfWd",
        "outputId": "a1359482-8355-4e32-b976-cb3c09ea2e2d"
      },
      "outputs": [
        {
          "data": {
            "text/plain": [
              "9924"
            ]
          },
          "execution_count": 15,
          "metadata": {},
          "output_type": "execute_result"
        }
      ],
      "source": [
        "ratings_raw.userId.nunique()"
      ]
    },
    {
      "attachments": {},
      "cell_type": "markdown",
      "metadata": {
        "id": "Eg6HAA8MmMZ_"
      },
      "source": [
        "### 1.5 Preprocess the data\n",
        "We make sure that movies and users have consecutive indexes starting from 0. Also drop the timestamp column.\n",
        "\n",
        "The resulting \"cleaned\" data are stored in `ratings`."
      ]
    },
    {
      "cell_type": "code",
      "execution_count": 16,
      "metadata": {
        "colab": {
          "base_uri": "https://localhost:8080/",
          "height": 695
        },
        "id": "OU2AlsSNmMZ_",
        "outputId": "fbccb93f-86f1-4405-bfa4-5a23403a2003"
      },
      "outputs": [
        {
          "name": "stdout",
          "output_type": "stream",
          "text": [
            "There are 9924 users, 968 items and 394638 ratings.\n"
          ]
        },
        {
          "data": {
            "text/html": [
              "<div>\n",
              "<style scoped>\n",
              "    .dataframe tbody tr th:only-of-type {\n",
              "        vertical-align: middle;\n",
              "    }\n",
              "\n",
              "    .dataframe tbody tr th {\n",
              "        vertical-align: top;\n",
              "    }\n",
              "\n",
              "    .dataframe thead th {\n",
              "        text-align: right;\n",
              "    }\n",
              "</style>\n",
              "<table border=\"1\" class=\"dataframe\">\n",
              "  <thead>\n",
              "    <tr style=\"text-align: right;\">\n",
              "      <th></th>\n",
              "      <th>user</th>\n",
              "      <th>item</th>\n",
              "      <th>rating</th>\n",
              "    </tr>\n",
              "  </thead>\n",
              "  <tbody>\n",
              "    <tr>\n",
              "      <th>0</th>\n",
              "      <td>0</td>\n",
              "      <td>1</td>\n",
              "      <td>3.5</td>\n",
              "    </tr>\n",
              "    <tr>\n",
              "      <th>1</th>\n",
              "      <td>0</td>\n",
              "      <td>28</td>\n",
              "      <td>3.5</td>\n",
              "    </tr>\n",
              "    <tr>\n",
              "      <th>2</th>\n",
              "      <td>0</td>\n",
              "      <td>31</td>\n",
              "      <td>3.5</td>\n",
              "    </tr>\n",
              "    <tr>\n",
              "      <th>3</th>\n",
              "      <td>0</td>\n",
              "      <td>46</td>\n",
              "      <td>3.5</td>\n",
              "    </tr>\n",
              "    <tr>\n",
              "      <th>4</th>\n",
              "      <td>0</td>\n",
              "      <td>49</td>\n",
              "      <td>3.5</td>\n",
              "    </tr>\n",
              "    <tr>\n",
              "      <th>5</th>\n",
              "      <td>0</td>\n",
              "      <td>110</td>\n",
              "      <td>3.5</td>\n",
              "    </tr>\n",
              "    <tr>\n",
              "      <th>6</th>\n",
              "      <td>0</td>\n",
              "      <td>148</td>\n",
              "      <td>4.0</td>\n",
              "    </tr>\n",
              "    <tr>\n",
              "      <th>7</th>\n",
              "      <td>0</td>\n",
              "      <td>219</td>\n",
              "      <td>4.0</td>\n",
              "    </tr>\n",
              "    <tr>\n",
              "      <th>8</th>\n",
              "      <td>0</td>\n",
              "      <td>249</td>\n",
              "      <td>4.0</td>\n",
              "    </tr>\n",
              "    <tr>\n",
              "      <th>9</th>\n",
              "      <td>0</td>\n",
              "      <td>256</td>\n",
              "      <td>4.0</td>\n",
              "    </tr>\n",
              "    <tr>\n",
              "      <th>10</th>\n",
              "      <td>0</td>\n",
              "      <td>289</td>\n",
              "      <td>4.0</td>\n",
              "    </tr>\n",
              "    <tr>\n",
              "      <th>11</th>\n",
              "      <td>0</td>\n",
              "      <td>292</td>\n",
              "      <td>4.0</td>\n",
              "    </tr>\n",
              "    <tr>\n",
              "      <th>12</th>\n",
              "      <td>0</td>\n",
              "      <td>314</td>\n",
              "      <td>4.0</td>\n",
              "    </tr>\n",
              "    <tr>\n",
              "      <th>13</th>\n",
              "      <td>0</td>\n",
              "      <td>332</td>\n",
              "      <td>3.5</td>\n",
              "    </tr>\n",
              "    <tr>\n",
              "      <th>14</th>\n",
              "      <td>0</td>\n",
              "      <td>362</td>\n",
              "      <td>3.5</td>\n",
              "    </tr>\n",
              "    <tr>\n",
              "      <th>15</th>\n",
              "      <td>0</td>\n",
              "      <td>534</td>\n",
              "      <td>4.0</td>\n",
              "    </tr>\n",
              "    <tr>\n",
              "      <th>16</th>\n",
              "      <td>0</td>\n",
              "      <td>580</td>\n",
              "      <td>3.5</td>\n",
              "    </tr>\n",
              "    <tr>\n",
              "      <th>17</th>\n",
              "      <td>0</td>\n",
              "      <td>584</td>\n",
              "      <td>3.5</td>\n",
              "    </tr>\n",
              "    <tr>\n",
              "      <th>18</th>\n",
              "      <td>0</td>\n",
              "      <td>638</td>\n",
              "      <td>3.0</td>\n",
              "    </tr>\n",
              "    <tr>\n",
              "      <th>19</th>\n",
              "      <td>0</td>\n",
              "      <td>890</td>\n",
              "      <td>3.5</td>\n",
              "    </tr>\n",
              "  </tbody>\n",
              "</table>\n",
              "</div>"
            ],
            "text/plain": [
              "    user  item  rating\n",
              "0      0     1     3.5\n",
              "1      0    28     3.5\n",
              "2      0    31     3.5\n",
              "3      0    46     3.5\n",
              "4      0    49     3.5\n",
              "5      0   110     3.5\n",
              "6      0   148     4.0\n",
              "7      0   219     4.0\n",
              "8      0   249     4.0\n",
              "9      0   256     4.0\n",
              "10     0   289     4.0\n",
              "11     0   292     4.0\n",
              "12     0   314     4.0\n",
              "13     0   332     3.5\n",
              "14     0   362     3.5\n",
              "15     0   534     4.0\n",
              "16     0   580     3.5\n",
              "17     0   584     3.5\n",
              "18     0   638     3.0\n",
              "19     0   890     3.5"
            ]
          },
          "metadata": {},
          "output_type": "display_data"
        }
      ],
      "source": [
        "# Unique movies and users\n",
        "movieIds = ratings_raw.movieId.unique()\n",
        "movieIds.sort()\n",
        "userIds = ratings_raw.userId.unique()\n",
        "userIds.sort()\n",
        "\n",
        "# Size\n",
        "m = userIds.size\n",
        "n = movieIds.size\n",
        "numRatings = len(ratings_raw)\n",
        "\n",
        "print (\"There are\", m, \"users,\", n, \"items and\", numRatings, \"ratings.\")\n",
        "\n",
        "## Movies and users should have consecutive indexes starting from 0\n",
        "# dictionaries to convert movie id to consecutive index and vice versa\n",
        "movieId_to_movieIDX = dict(zip(movieIds, range(0, movieIds.size)))\n",
        "movieIDX_to_movieId = dict(zip(range(0, movieIds.size), movieIds))\n",
        "\n",
        "# Dictionaries to convert user id to consecutive index and vice versa\n",
        "userId_to_userIDX = dict(zip(userIds, range(0, userIds.size )))\n",
        "userIDX_to_userId = dict(zip(range(0, userIds.size), userIds))\n",
        "\n",
        "# Drop timestamps\n",
        "ratings = pd.concat([ratings_raw['userId'].map(userId_to_userIDX),\n",
        "                     ratings_raw['movieId'].map(movieId_to_movieIDX),\n",
        "                     ratings_raw['rating']], axis=1)\n",
        "ratings.columns = ['user', 'item', 'rating']\n",
        "\n",
        "display(ratings.head(20))"
      ]
    },
    {
      "attachments": {},
      "cell_type": "markdown",
      "metadata": {
        "id": "S56uwMG-t0lV"
      },
      "source": [
        "We therefore have an index (IDX) and an ID for each movie (item) and each user."
      ]
    },
    {
      "cell_type": "code",
      "execution_count": 17,
      "metadata": {
        "colab": {
          "base_uri": "https://localhost:8080/"
        },
        "id": "jRhcUmH8o6Zq",
        "outputId": "478dce5d-2e8b-4fff-f157-757273a4bb26"
      },
      "outputs": [
        {
          "name": "stdout",
          "output_type": "stream",
          "text": [
            "0 1\n",
            "1 2\n",
            "2 3\n",
            "3 4\n",
            "4 5\n",
            "5 6\n",
            "6 7\n",
            "7 8\n",
            "8 9\n",
            "9 10\n",
            "10 11\n",
            "11 12\n",
            "12 13\n",
            "13 14\n",
            "14 15\n",
            "15 16\n",
            "16 17\n",
            "17 18\n",
            "18 19\n",
            "19 20\n",
            "20 21\n",
            "21 22\n",
            "22 23\n",
            "23 24\n",
            "24 25\n",
            "25 26\n",
            "26 27\n",
            "27 28\n",
            "28 29\n",
            "29 30\n",
            "30 31\n",
            "31 32\n",
            "32 33\n",
            "33 34\n",
            "34 35\n",
            "35 36\n",
            "36 38\n",
            "37 39\n",
            "38 40\n",
            "39 41\n"
          ]
        }
      ],
      "source": [
        "# Example - index to id\n",
        "for idx in range(40):\n",
        "  print(idx, userIDX_to_userId[idx])"
      ]
    },
    {
      "cell_type": "code",
      "execution_count": 18,
      "metadata": {
        "colab": {
          "base_uri": "https://localhost:8080/"
        },
        "id": "yH27TM5cpdN2",
        "outputId": "dc899188-5671-4a97-8d85-739f17b37388"
      },
      "outputs": [
        {
          "name": "stdout",
          "output_type": "stream",
          "text": [
            "There is nobody with id = 0\n",
            "1 0\n",
            "2 1\n",
            "3 2\n",
            "4 3\n",
            "5 4\n",
            "6 5\n",
            "7 6\n",
            "8 7\n",
            "9 8\n",
            "10 9\n",
            "11 10\n",
            "12 11\n",
            "13 12\n",
            "14 13\n",
            "15 14\n",
            "16 15\n",
            "17 16\n",
            "18 17\n",
            "19 18\n",
            "20 19\n",
            "21 20\n",
            "22 21\n",
            "23 22\n",
            "24 23\n",
            "25 24\n",
            "26 25\n",
            "27 26\n",
            "28 27\n",
            "29 28\n",
            "30 29\n",
            "31 30\n",
            "32 31\n",
            "33 32\n",
            "34 33\n",
            "35 34\n",
            "36 35\n",
            "There is nobody with id = 37\n",
            "38 36\n",
            "39 37\n"
          ]
        }
      ],
      "source": [
        "# Example - id to index\n",
        "for id in range(0, 40):\n",
        "  try:\n",
        "    print(id, userId_to_userIDX[id])\n",
        "  except:\n",
        "    print('There is nobody with id = ' + str(id))"
      ]
    },
    {
      "cell_type": "code",
      "execution_count": 19,
      "metadata": {
        "colab": {
          "base_uri": "https://localhost:8080/",
          "height": 486
        },
        "id": "PikTTMfE67Cp",
        "outputId": "92f227bc-04d4-4015-c50c-86cae0f9ae6e"
      },
      "outputs": [
        {
          "data": {
            "text/html": [
              "<div>\n",
              "<style scoped>\n",
              "    .dataframe tbody tr th:only-of-type {\n",
              "        vertical-align: middle;\n",
              "    }\n",
              "\n",
              "    .dataframe tbody tr th {\n",
              "        vertical-align: top;\n",
              "    }\n",
              "\n",
              "    .dataframe thead tr th {\n",
              "        text-align: left;\n",
              "    }\n",
              "\n",
              "    .dataframe thead tr:last-of-type th {\n",
              "        text-align: right;\n",
              "    }\n",
              "</style>\n",
              "<table border=\"1\" class=\"dataframe\">\n",
              "  <thead>\n",
              "    <tr>\n",
              "      <th></th>\n",
              "      <th colspan=\"8\" halign=\"left\">item</th>\n",
              "      <th colspan=\"8\" halign=\"left\">rating</th>\n",
              "    </tr>\n",
              "    <tr>\n",
              "      <th></th>\n",
              "      <th>count</th>\n",
              "      <th>mean</th>\n",
              "      <th>std</th>\n",
              "      <th>min</th>\n",
              "      <th>25%</th>\n",
              "      <th>50%</th>\n",
              "      <th>75%</th>\n",
              "      <th>max</th>\n",
              "      <th>count</th>\n",
              "      <th>mean</th>\n",
              "      <th>std</th>\n",
              "      <th>min</th>\n",
              "      <th>25%</th>\n",
              "      <th>50%</th>\n",
              "      <th>75%</th>\n",
              "      <th>max</th>\n",
              "    </tr>\n",
              "    <tr>\n",
              "      <th>user</th>\n",
              "      <th></th>\n",
              "      <th></th>\n",
              "      <th></th>\n",
              "      <th></th>\n",
              "      <th></th>\n",
              "      <th></th>\n",
              "      <th></th>\n",
              "      <th></th>\n",
              "      <th></th>\n",
              "      <th></th>\n",
              "      <th></th>\n",
              "      <th></th>\n",
              "      <th></th>\n",
              "      <th></th>\n",
              "      <th></th>\n",
              "      <th></th>\n",
              "    </tr>\n",
              "  </thead>\n",
              "  <tbody>\n",
              "    <tr>\n",
              "      <th>0</th>\n",
              "      <td>21.0</td>\n",
              "      <td>326.047619</td>\n",
              "      <td>269.698624</td>\n",
              "      <td>1.0</td>\n",
              "      <td>110.00</td>\n",
              "      <td>289.0</td>\n",
              "      <td>534.00</td>\n",
              "      <td>895.0</td>\n",
              "      <td>21.0</td>\n",
              "      <td>3.666667</td>\n",
              "      <td>0.288675</td>\n",
              "      <td>3.0</td>\n",
              "      <td>3.50</td>\n",
              "      <td>3.5</td>\n",
              "      <td>4.000</td>\n",
              "      <td>4.0</td>\n",
              "    </tr>\n",
              "    <tr>\n",
              "      <th>1</th>\n",
              "      <td>14.0</td>\n",
              "      <td>405.785714</td>\n",
              "      <td>313.926052</td>\n",
              "      <td>2.0</td>\n",
              "      <td>140.50</td>\n",
              "      <td>362.0</td>\n",
              "      <td>568.50</td>\n",
              "      <td>895.0</td>\n",
              "      <td>14.0</td>\n",
              "      <td>4.285714</td>\n",
              "      <td>0.994490</td>\n",
              "      <td>2.0</td>\n",
              "      <td>4.00</td>\n",
              "      <td>5.0</td>\n",
              "      <td>5.000</td>\n",
              "      <td>5.0</td>\n",
              "    </tr>\n",
              "    <tr>\n",
              "      <th>2</th>\n",
              "      <td>34.0</td>\n",
              "      <td>472.970588</td>\n",
              "      <td>294.260911</td>\n",
              "      <td>0.0</td>\n",
              "      <td>228.25</td>\n",
              "      <td>461.5</td>\n",
              "      <td>742.75</td>\n",
              "      <td>939.0</td>\n",
              "      <td>34.0</td>\n",
              "      <td>4.058824</td>\n",
              "      <td>1.013281</td>\n",
              "      <td>2.0</td>\n",
              "      <td>3.00</td>\n",
              "      <td>4.0</td>\n",
              "      <td>5.000</td>\n",
              "      <td>5.0</td>\n",
              "    </tr>\n",
              "    <tr>\n",
              "      <th>3</th>\n",
              "      <td>28.0</td>\n",
              "      <td>388.750000</td>\n",
              "      <td>189.313893</td>\n",
              "      <td>5.0</td>\n",
              "      <td>349.50</td>\n",
              "      <td>418.5</td>\n",
              "      <td>515.75</td>\n",
              "      <td>712.0</td>\n",
              "      <td>28.0</td>\n",
              "      <td>3.571429</td>\n",
              "      <td>0.790151</td>\n",
              "      <td>1.0</td>\n",
              "      <td>3.00</td>\n",
              "      <td>4.0</td>\n",
              "      <td>4.000</td>\n",
              "      <td>5.0</td>\n",
              "    </tr>\n",
              "    <tr>\n",
              "      <th>4</th>\n",
              "      <td>52.0</td>\n",
              "      <td>415.673077</td>\n",
              "      <td>216.628599</td>\n",
              "      <td>1.0</td>\n",
              "      <td>272.50</td>\n",
              "      <td>448.5</td>\n",
              "      <td>581.75</td>\n",
              "      <td>805.0</td>\n",
              "      <td>52.0</td>\n",
              "      <td>4.153846</td>\n",
              "      <td>0.977885</td>\n",
              "      <td>2.0</td>\n",
              "      <td>3.00</td>\n",
              "      <td>4.5</td>\n",
              "      <td>5.000</td>\n",
              "      <td>5.0</td>\n",
              "    </tr>\n",
              "    <tr>\n",
              "      <th>...</th>\n",
              "      <td>...</td>\n",
              "      <td>...</td>\n",
              "      <td>...</td>\n",
              "      <td>...</td>\n",
              "      <td>...</td>\n",
              "      <td>...</td>\n",
              "      <td>...</td>\n",
              "      <td>...</td>\n",
              "      <td>...</td>\n",
              "      <td>...</td>\n",
              "      <td>...</td>\n",
              "      <td>...</td>\n",
              "      <td>...</td>\n",
              "      <td>...</td>\n",
              "      <td>...</td>\n",
              "      <td>...</td>\n",
              "    </tr>\n",
              "    <tr>\n",
              "      <th>9919</th>\n",
              "      <td>29.0</td>\n",
              "      <td>337.896552</td>\n",
              "      <td>235.606868</td>\n",
              "      <td>1.0</td>\n",
              "      <td>169.00</td>\n",
              "      <td>292.0</td>\n",
              "      <td>548.00</td>\n",
              "      <td>758.0</td>\n",
              "      <td>29.0</td>\n",
              "      <td>3.896552</td>\n",
              "      <td>1.144703</td>\n",
              "      <td>1.0</td>\n",
              "      <td>3.00</td>\n",
              "      <td>4.0</td>\n",
              "      <td>5.000</td>\n",
              "      <td>5.0</td>\n",
              "    </tr>\n",
              "    <tr>\n",
              "      <th>9920</th>\n",
              "      <td>6.0</td>\n",
              "      <td>490.333333</td>\n",
              "      <td>306.110873</td>\n",
              "      <td>16.0</td>\n",
              "      <td>352.00</td>\n",
              "      <td>516.5</td>\n",
              "      <td>653.25</td>\n",
              "      <td>897.0</td>\n",
              "      <td>6.0</td>\n",
              "      <td>4.166667</td>\n",
              "      <td>0.258199</td>\n",
              "      <td>4.0</td>\n",
              "      <td>4.00</td>\n",
              "      <td>4.0</td>\n",
              "      <td>4.375</td>\n",
              "      <td>4.5</td>\n",
              "    </tr>\n",
              "    <tr>\n",
              "      <th>9921</th>\n",
              "      <td>93.0</td>\n",
              "      <td>393.569892</td>\n",
              "      <td>271.669692</td>\n",
              "      <td>1.0</td>\n",
              "      <td>155.00</td>\n",
              "      <td>372.0</td>\n",
              "      <td>588.00</td>\n",
              "      <td>964.0</td>\n",
              "      <td>93.0</td>\n",
              "      <td>3.344086</td>\n",
              "      <td>0.787050</td>\n",
              "      <td>1.0</td>\n",
              "      <td>3.00</td>\n",
              "      <td>3.0</td>\n",
              "      <td>4.000</td>\n",
              "      <td>5.0</td>\n",
              "    </tr>\n",
              "    <tr>\n",
              "      <th>9922</th>\n",
              "      <td>19.0</td>\n",
              "      <td>410.684211</td>\n",
              "      <td>300.873922</td>\n",
              "      <td>0.0</td>\n",
              "      <td>143.00</td>\n",
              "      <td>403.0</td>\n",
              "      <td>654.00</td>\n",
              "      <td>883.0</td>\n",
              "      <td>19.0</td>\n",
              "      <td>3.236842</td>\n",
              "      <td>1.206100</td>\n",
              "      <td>1.0</td>\n",
              "      <td>2.75</td>\n",
              "      <td>3.5</td>\n",
              "      <td>4.000</td>\n",
              "      <td>5.0</td>\n",
              "    </tr>\n",
              "    <tr>\n",
              "      <th>9923</th>\n",
              "      <td>15.0</td>\n",
              "      <td>429.133333</td>\n",
              "      <td>193.271041</td>\n",
              "      <td>31.0</td>\n",
              "      <td>326.50</td>\n",
              "      <td>427.0</td>\n",
              "      <td>580.50</td>\n",
              "      <td>758.0</td>\n",
              "      <td>15.0</td>\n",
              "      <td>4.233333</td>\n",
              "      <td>0.677882</td>\n",
              "      <td>2.5</td>\n",
              "      <td>4.00</td>\n",
              "      <td>4.0</td>\n",
              "      <td>4.750</td>\n",
              "      <td>5.0</td>\n",
              "    </tr>\n",
              "  </tbody>\n",
              "</table>\n",
              "<p>9924 rows × 16 columns</p>\n",
              "</div>"
            ],
            "text/plain": [
              "      item                                                             rating  \\\n",
              "     count        mean         std   min     25%    50%     75%    max  count   \n",
              "user                                                                            \n",
              "0     21.0  326.047619  269.698624   1.0  110.00  289.0  534.00  895.0   21.0   \n",
              "1     14.0  405.785714  313.926052   2.0  140.50  362.0  568.50  895.0   14.0   \n",
              "2     34.0  472.970588  294.260911   0.0  228.25  461.5  742.75  939.0   34.0   \n",
              "3     28.0  388.750000  189.313893   5.0  349.50  418.5  515.75  712.0   28.0   \n",
              "4     52.0  415.673077  216.628599   1.0  272.50  448.5  581.75  805.0   52.0   \n",
              "...    ...         ...         ...   ...     ...    ...     ...    ...    ...   \n",
              "9919  29.0  337.896552  235.606868   1.0  169.00  292.0  548.00  758.0   29.0   \n",
              "9920   6.0  490.333333  306.110873  16.0  352.00  516.5  653.25  897.0    6.0   \n",
              "9921  93.0  393.569892  271.669692   1.0  155.00  372.0  588.00  964.0   93.0   \n",
              "9922  19.0  410.684211  300.873922   0.0  143.00  403.0  654.00  883.0   19.0   \n",
              "9923  15.0  429.133333  193.271041  31.0  326.50  427.0  580.50  758.0   15.0   \n",
              "\n",
              "                                                      \n",
              "          mean       std  min   25%  50%    75%  max  \n",
              "user                                                  \n",
              "0     3.666667  0.288675  3.0  3.50  3.5  4.000  4.0  \n",
              "1     4.285714  0.994490  2.0  4.00  5.0  5.000  5.0  \n",
              "2     4.058824  1.013281  2.0  3.00  4.0  5.000  5.0  \n",
              "3     3.571429  0.790151  1.0  3.00  4.0  4.000  5.0  \n",
              "4     4.153846  0.977885  2.0  3.00  4.5  5.000  5.0  \n",
              "...        ...       ...  ...   ...  ...    ...  ...  \n",
              "9919  3.896552  1.144703  1.0  3.00  4.0  5.000  5.0  \n",
              "9920  4.166667  0.258199  4.0  4.00  4.0  4.375  4.5  \n",
              "9921  3.344086  0.787050  1.0  3.00  3.0  4.000  5.0  \n",
              "9922  3.236842  1.206100  1.0  2.75  3.5  4.000  5.0  \n",
              "9923  4.233333  0.677882  2.5  4.00  4.0  4.750  5.0  \n",
              "\n",
              "[9924 rows x 16 columns]"
            ]
          },
          "execution_count": 19,
          "metadata": {},
          "output_type": "execute_result"
        }
      ],
      "source": [
        "# Describe\n",
        "ratings.groupby(by='user').describe()"
      ]
    },
    {
      "attachments": {},
      "cell_type": "markdown",
      "metadata": {
        "id": "Q-0vV_MvmMZ_"
      },
      "source": [
        "### 1.6 Create the Ratings Matrix\n",
        "\n",
        "We convert the `ratings DataFrame` into a **Ratings Matrix**. Because it is very sparse, we use the `scipy.sparse` module to efficiently store and access it.\n",
        "\n",
        "Specifically, we create **two** versions of the same ratings matrix:\n",
        "- `R` is our basic matrix and is optimized for dot products, which will be useful when computing user-user similarities; `R` is stored in the Compressed Sparse Row format (`csr_matrix`).\n",
        "- `R_dok` is a different view of the ratings matrix, which allows to quickly test whether a user-item rating exists; `R_dok` is stored in the Dictionary Of Keys format (`dok_matrix`) so you can access the data like a dictionary (which is fast)."
      ]
    },
    {
      "cell_type": "code",
      "execution_count": 20,
      "metadata": {
        "colab": {
          "base_uri": "https://localhost:8080/"
        },
        "id": "W0EyJSN2mMZ_",
        "outputId": "30952c20-be3b-4a78-e15e-2629d2bb9196"
      },
      "outputs": [
        {
          "name": "stdout",
          "output_type": "stream",
          "text": [
            "R[0, 534] value is  4.0\n",
            "R_dok[(0, 534)] value is  4.0\n"
          ]
        }
      ],
      "source": [
        "# Create matrices\n",
        "R = sp.csr_matrix((ratings.rating, (ratings.user, ratings.item))) # input is (data value, (index 0, index 1))\n",
        "R_dok = R.todok()\n",
        "\n",
        "# A simple test: user 0 item 534 should have a rating of 4\n",
        "print(\"R[0, 534] value is \", R[0, 534])\n",
        "print(\"R_dok[(0, 534)] value is \", R_dok[(0, 534)])"
      ]
    },
    {
      "cell_type": "code",
      "execution_count": 21,
      "metadata": {
        "colab": {
          "base_uri": "https://localhost:8080/"
        },
        "id": "y0nWfDQ7mMZ_",
        "outputId": "c0bae6a9-bc38-4e9e-a7ee-a0ece7604760"
      },
      "outputs": [
        {
          "name": "stdout",
          "output_type": "stream",
          "text": [
            "There are m = 9924 users, n = 968 items and 394638 ratings.\n"
          ]
        }
      ],
      "source": [
        "# Check - same as before :)\n",
        "m = R.shape[0]\n",
        "n = R.shape[1]\n",
        "numRatings = R.count_nonzero()\n",
        "\n",
        "print(\"There are m =\", m, \"users, n =\", n, \"items and\", numRatings, \"ratings.\")"
      ]
    },
    {
      "attachments": {},
      "cell_type": "markdown",
      "metadata": {
        "id": "70Le4YNQmMZ_"
      },
      "source": [
        "The fun starts here! :)"
      ]
    },
    {
      "attachments": {},
      "cell_type": "markdown",
      "metadata": {
        "id": "-Ov2ihAWmMZ_"
      },
      "source": [
        "### 1.7 User Average Ratings"
      ]
    },
    {
      "attachments": {},
      "cell_type": "markdown",
      "metadata": {
        "id": "i2MgtshPmMZ_"
      },
      "source": [
        "The following code computes the average rating of each user. This will be useful for mean-centering, i.e., when computing similarities, as well as for making predictions."
      ]
    },
    {
      "cell_type": "code",
      "execution_count": 22,
      "metadata": {
        "colab": {
          "base_uri": "https://localhost:8080/"
        },
        "id": "-j329hh3mMZ_",
        "outputId": "49e72da6-cf32-4767-ba93-91b356168e03"
      },
      "outputs": [
        {
          "name": "stdout",
          "output_type": "stream",
          "text": [
            "user_avgs [3.6667 4.2857 4.0588 ... 3.3441 3.2368 4.2333]\n"
          ]
        }
      ],
      "source": [
        "user_sums = R.sum(axis=1).A1 # matrix converted to 1-D array via .A1\n",
        "user_cnts = np.diff(R.indptr) # equivalent to, but faster than: user_cnts = (R != 0).sum(axis=1).A1\n",
        "user_avgs = user_sums / user_cnts\n",
        "print(\"user_avgs\", user_avgs)"
      ]
    },
    {
      "attachments": {},
      "cell_type": "markdown",
      "metadata": {
        "id": "OrcGaqpVmMZ_"
      },
      "source": [
        "[This thread](https://stackoverflow.com/questions/52299420/scipy-csr-matrix-understand-indptr) in stack overflow, explains the method `indptr` for a sparse matrix in scipy clearly. Recommended to read for those who are inerested or got confused with the above code."
      ]
    },
    {
      "attachments": {},
      "cell_type": "markdown",
      "metadata": {
        "id": "PcfoifKSmMZ_"
      },
      "source": [
        "### 1.8 Compute User-User Similarity \n",
        "\n",
        "The following function computes the **mean-centered cosine similarity** between two users.\n",
        "\n",
        "**IMPORTANT**: from now on, we work with `R` and `R_dok`. This means that we work with the IDX, not the ids anymore. \n",
        "\n",
        "*Tricks* that are useful:\n",
        "\n",
        "To subtract a scalar value `y` from all nonzero entries of a sparse vector `x`, do:\n",
        "```\n",
        "x.data = x.data - y\n",
        "```\n",
        "\n",
        "The dot product of a sparse vector `x` to sparse vector `y` is:\n",
        "```\n",
        "x.dot(y.T)\n",
        "```\n",
        "\n",
        "The norm of a sparse vector `x` is:\n",
        "```\n",
        "norm(x)\n",
        "```\n",
        "\n",
        "\n",
        "If a sparse vector `x` has only a single item, you can access it by:\n",
        "```\n",
        "x.A.item()\n",
        "```\n",
        "\n",
        "Note that `x.A` returns the dense representation of sparse vector `x`."
      ]
    },
    {
      "cell_type": "code",
      "execution_count": 23,
      "metadata": {
        "colab": {
          "base_uri": "https://localhost:8080/"
        },
        "id": "Z0BSmak3mMZ_",
        "outputId": "bedcf152-f1e4-4897-8186-e3d8599e832e"
      },
      "outputs": [
        {
          "name": "stdout",
          "output_type": "stream",
          "text": [
            "<class 'numpy.ndarray'>\n",
            "  (0, 0)\t120.0\n",
            "[[120.]]\n",
            "120.0\n"
          ]
        }
      ],
      "source": [
        "# Some examples\n",
        "u = R[1,:].copy() \n",
        "v = R[2,:].copy()\n",
        "print(type(u.data))\n",
        "print(u.dot(v.T))\n",
        "print(u.dot(v.T).A)\n",
        "print(u.dot(v.T).A.item()) # this is the dot product of user 1 and user 2"
      ]
    },
    {
      "cell_type": "code",
      "execution_count": 24,
      "metadata": {
        "id": "-u_tGHy9mMaA"
      },
      "outputs": [],
      "source": [
        "def compute_pairwise_user_similarity(u_id, v_id):\n",
        "    \"\"\"Computes the cosine similarity between two user ids.\n",
        "    dot(A,B)/norm(A)*norm(B)\n",
        "    Note: we use it with the IDX!\n",
        "    \"\"\"\n",
        "    u = R[u_id,:].copy()\n",
        "    v = R[v_id,:].copy()\n",
        "    \n",
        "    # Compute the numerator i.e. dot product of the mean centered arrays\n",
        "    u.data = u.data - user_avgs[u_id]\n",
        "    v.data = v.data - user_avgs[v_id]\n",
        "    \n",
        "    numerator =  (u.dot(v.T)).A.item()\n",
        "    \n",
        "    # Compute demoninator i.e. product of the norms\n",
        "    denominator = norm(u) * norm(v)\n",
        "    \n",
        "    # Compute similarity\n",
        "    if denominator == 0:\n",
        "        similarity = 0.;\n",
        "    else:\n",
        "        similarity = numerator/denominator\n",
        "    \n",
        "    return similarity"
      ]
    },
    {
      "attachments": {},
      "cell_type": "markdown",
      "metadata": {
        "id": "bp4wOE0QmMaA"
      },
      "source": [
        "**DEBUG:** For the truncated dataset, the following should output ~ `0.03585`."
      ]
    },
    {
      "cell_type": "code",
      "execution_count": 25,
      "metadata": {
        "colab": {
          "base_uri": "https://localhost:8080/"
        },
        "id": "ZqMUMqVFmMaA",
        "outputId": "8ea8baad-6c2e-4788-f4e4-5358d3cd92ff"
      },
      "outputs": [
        {
          "name": "stdout",
          "output_type": "stream",
          "text": [
            "0.03585\n"
          ]
        }
      ],
      "source": [
        "if DEBUG:\n",
        "    sim = compute_pairwise_user_similarity(2, 6) # for example checking similarity of user 2 and user 6\n",
        "    print(round(sim, 5))"
      ]
    },
    {
      "attachments": {},
      "cell_type": "markdown",
      "metadata": {
        "id": "UGu8bf6Vmk0e"
      },
      "source": [
        "Here the interpretation is that the two users are not very similar.\n",
        "\n",
        "Similarity will be between -1 and +1, from very dissimilar to very similar."
      ]
    },
    {
      "attachments": {},
      "cell_type": "markdown",
      "metadata": {
        "id": "pmZt2vQEmMaA"
      },
      "source": [
        "### 1.9 User to all Users Similarities\n",
        "\n",
        "The following functions compute the mean-centered cosine similarities of a given user to all other users.\n",
        "\n",
        "We first use the `compute_pairwise_user_similarity` function defined above.\n",
        "\n",
        "Then we try to avoid the for loop and **NOT** invoke `compute_pairwise_user_similarity`. The idea is to obtain a copy, say `R_copy`, of matrix `R` that has its rows mean-centered and normalized. This way the given user can be represented by a mean-centered and normalized vector `u`. Then, to obtain the similarity of the user to all others, one needs to take the dot product `R_copy.dot(u.T)`."
      ]
    },
    {
      "cell_type": "code",
      "execution_count": 26,
      "metadata": {
        "id": "myKa5Gn8mMaA"
      },
      "outputs": [],
      "source": [
        "def compute_user_similarities(u_id):\n",
        "    uU = np.empty((m,)) # we have m users\n",
        "  \t\n",
        "    # With for loop\n",
        "    for v_id in range(m):\n",
        "        sim = compute_pairwise_user_similarity(u_id, v_id)\n",
        "        uU[v_id] = sim\n",
        "    \n",
        "    return uU\n",
        "\n",
        "def compute_user_similarities_fast(u_id):\n",
        "    uU = np.empty((m,))\n",
        "    \n",
        "    global user_avgs, user_cnts # we already derived these two vectors\n",
        "    \n",
        "    R_copy = R.copy() ## create a copy to work with\n",
        "    # Repeat each user_avg, user_cnt times\n",
        "    user_avgs_repeated = np.repeat(user_avgs, user_cnts)\n",
        "\n",
        "    R_copy.data -= user_avgs_repeated # R_copy is now mean centered\n",
        "    \n",
        "    # Normalize rows to unit norm\n",
        "    R_copy = pp.normalize(R_copy, axis=1) # normalize each row: elements divided by the row norm\n",
        "    u = R_copy[u_id, :]\n",
        "\n",
        "    uU = R_copy.dot(u.T).A.flatten() # dot product; convert to dense matrix, then flatten\n",
        "    return uU"
      ]
    },
    {
      "attachments": {},
      "cell_type": "markdown",
      "metadata": {
        "id": "k4vu1283mMaA"
      },
      "source": [
        "**DEBUG:** For the truncated dataset, the following should again output ~ `0.03585`."
      ]
    },
    {
      "cell_type": "code",
      "execution_count": 27,
      "metadata": {
        "colab": {
          "base_uri": "https://localhost:8080/"
        },
        "id": "EGWJcCprmMaA",
        "outputId": "4c59ddc3-dd9c-4b82-fa42-842444744bb5"
      },
      "outputs": [
        {
          "name": "stdout",
          "output_type": "stream",
          "text": [
            "Time for the first function with for loop= 2.2465338706970215\n",
            "Time for second function using R_copy= 0.005488872528076172\n",
            "0.03585\n"
          ]
        }
      ],
      "source": [
        "import time\n",
        "if DEBUG:\n",
        "    start = time.time()\n",
        "    uU = compute_user_similarities(2)\n",
        "    print(\"Time for the first function with for loop=\", (time.time()-start))\n",
        "    \n",
        "    start = time.time()\n",
        "    uU = compute_user_similarities_fast(2)\n",
        "    print(\"Time for second function using R_copy=\", (time.time()-start))\n",
        "    \n",
        "    print(round(uU[6], 5))  # print the similarity of user 2 with user 6"
      ]
    },
    {
      "cell_type": "code",
      "execution_count": 28,
      "metadata": {
        "colab": {
          "base_uri": "https://localhost:8080/"
        },
        "id": "V0fEuvUqmMaA",
        "outputId": "391c8325-2d4e-4e40-bb9c-f9e641ff9c7e"
      },
      "outputs": [
        {
          "name": "stdout",
          "output_type": "stream",
          "text": [
            "(9924,)\n",
            "[ 0.1318  0.1268  1.     ...  0.0994  0.0856 -0.0639]\n"
          ]
        }
      ],
      "source": [
        "print(uU.shape); print(uU) ## uU stores the similarity of user 2 to all the other users."
      ]
    },
    {
      "cell_type": "code",
      "execution_count": 29,
      "metadata": {
        "colab": {
          "base_uri": "https://localhost:8080/"
        },
        "id": "Ds8gXJ-BmMaA",
        "outputId": "a2044cf0-7da1-4cb0-b0b1-d3ffcd3249d8"
      },
      "outputs": [
        {
          "data": {
            "text/plain": [
              "1871"
            ]
          },
          "execution_count": 29,
          "metadata": {},
          "output_type": "execute_result"
        }
      ],
      "source": [
        "np.argsort(uU)[-2] # most similar user to user with user index 2. \n",
        "# Note: we take the penultimate one since the last one is user 2 with a similarity = 1"
      ]
    },
    {
      "cell_type": "code",
      "execution_count": 30,
      "metadata": {
        "colab": {
          "base_uri": "https://localhost:8080/"
        },
        "id": "4peZBeTwEHuU",
        "outputId": "71b74698-8fae-4208-e4e4-48669e535f9b"
      },
      "outputs": [
        {
          "data": {
            "text/plain": [
              "0.40612029851395737"
            ]
          },
          "execution_count": 30,
          "metadata": {},
          "output_type": "execute_result"
        }
      ],
      "source": [
        "# Similarity between user 2 and user 1871\n",
        "uU[1871]"
      ]
    },
    {
      "attachments": {},
      "cell_type": "markdown",
      "metadata": {
        "id": "_wibGe5amMaA"
      },
      "source": [
        "Now let's compare the top 10 rated movies by user index 2 and user index 1871 which is the most similar user to user index 2."
      ]
    },
    {
      "cell_type": "code",
      "execution_count": 31,
      "metadata": {
        "colab": {
          "base_uri": "https://localhost:8080/",
          "height": 191
        },
        "id": "c9mYhs0ZmMaA",
        "outputId": "92137444-6215-49db-93a1-58d46c07719b"
      },
      "outputs": [
        {
          "name": "stdout",
          "output_type": "stream",
          "text": [
            "User  3  watched  34  movies\n"
          ]
        },
        {
          "data": {
            "text/html": [
              "<img src=\"http://image.tmdb.org/t/p/w200/oU7Oq2kFAAlGqbU4VoAE36g4hoI.jpg\" style=\"display:inline;margin:1px\" width=\"100\"/><img src=\"http://image.tmdb.org/t/p/w200/6FfCtAuVAW8XJjZ7eWeLibRLWTw.jpg\" style=\"display:inline;margin:1px\" width=\"100\"/><img src=\"http://image.tmdb.org/t/p/w200/oQoe4eIzDjQSSqGvLgJFjXtEkNv.jpg\" style=\"display:inline;margin:1px\" width=\"100\"/><img src=\"http://image.tmdb.org/t/p/w200/uS9m8OBk1A8eM9I042bx8XXpqAq.jpg\" style=\"display:inline;margin:1px\" width=\"100\"/><img src=\"http://image.tmdb.org/t/p/w200/b3rEtLKyOnF89mcK75GXDXdmOEf.jpg\" style=\"display:inline;margin:1px\" width=\"100\"/><img src=\"http://image.tmdb.org/t/p/w200/3bhkrj58Vtu7enYsRolD1fZdja1.jpg\" style=\"display:inline;margin:1px\" width=\"100\"/><img src=\"http://image.tmdb.org/t/p/w200/rHsCYDGHFUarGh5k987b0EFU6kC.jpg\" style=\"display:inline;margin:1px\" width=\"100\"/><img src=\"http://image.tmdb.org/t/p/w200/hBcY0fE9pfXzvVaY4GKarweriG2.jpg\" style=\"display:inline;margin:1px\" width=\"100\"/><img src=\"http://image.tmdb.org/t/p/w200/63N9uy8nd9j7Eog2axPQ8lbr3Wj.jpg\" style=\"display:inline;margin:1px\" width=\"100\"/><img src=\"http://image.tmdb.org/t/p/w200/kLacy1TrSedHrZcsup1JNHl1upk.jpg\" style=\"display:inline;margin:1px\" width=\"100\"/>"
            ],
            "text/plain": [
              "<IPython.core.display.HTML object>"
            ]
          },
          "metadata": {},
          "output_type": "display_data"
        }
      ],
      "source": [
        "show_movies_for_user(userIDX_to_userId[2]) # note that we use userIDX_to_userId"
      ]
    },
    {
      "cell_type": "code",
      "execution_count": 32,
      "metadata": {
        "colab": {
          "base_uri": "https://localhost:8080/",
          "height": 191
        },
        "id": "i-S5zKgFmMaA",
        "outputId": "0368b0d2-e774-46a4-d04e-195e11b6d72c"
      },
      "outputs": [
        {
          "name": "stdout",
          "output_type": "stream",
          "text": [
            "User  1883  watched  14  movies\n"
          ]
        },
        {
          "data": {
            "text/html": [
              "<img src=\"http://image.tmdb.org/t/p/w200/bUPmtQzrRhzqYySeiMpv7GurAfm.jpg\" style=\"display:inline;margin:1px\" width=\"100\"/><img src=\"http://image.tmdb.org/t/p/w200/cUvdzCbhLyYUAwbIkBjT3tC28cK.jpg\" style=\"display:inline;margin:1px\" width=\"100\"/><img src=\"http://image.tmdb.org/t/p/w200/cvaBVpS0GzKqBd63pFT8f1E8OKv.jpg\" style=\"display:inline;margin:1px\" width=\"100\"/><img src=\"http://image.tmdb.org/t/p/w200/uS9m8OBk1A8eM9I042bx8XXpqAq.jpg\" style=\"display:inline;margin:1px\" width=\"100\"/><img src=\"http://image.tmdb.org/t/p/w200/3bhkrj58Vtu7enYsRolD1fZdja1.jpg\" style=\"display:inline;margin:1px\" width=\"100\"/><img src=\"http://image.tmdb.org/t/p/w200/hBcY0fE9pfXzvVaY4GKarweriG2.jpg\" style=\"display:inline;margin:1px\" width=\"100\"/><img src=\"http://image.tmdb.org/t/p/w200/oAJpHkMpfXiFY9F3HocIz9fhHLc.jpg\" style=\"display:inline;margin:1px\" width=\"100\"/><img src=\"http://image.tmdb.org/t/p/w200/rt7cpEr1uP6RTZykBFhBTcRaKvG.jpg\" style=\"display:inline;margin:1px\" width=\"100\"/><img src=\"http://image.tmdb.org/t/p/w200/qdIR27trLyrlJ5nmkbcG3Bomah6.jpg\" style=\"display:inline;margin:1px\" width=\"100\"/><img src=\"http://image.tmdb.org/t/p/w200/oU7Oq2kFAAlGqbU4VoAE36g4hoI.jpg\" style=\"display:inline;margin:1px\" width=\"100\"/>"
            ],
            "text/plain": [
              "<IPython.core.display.HTML object>"
            ]
          },
          "metadata": {},
          "output_type": "display_data"
        }
      ],
      "source": [
        "show_movies_for_user(userIDX_to_userId[1871])"
      ]
    },
    {
      "attachments": {},
      "cell_type": "markdown",
      "metadata": {
        "id": "D5CkBPfGmMaA"
      },
      "source": [
        "### 1.10 Create User Neighborhood "
      ]
    },
    {
      "attachments": {},
      "cell_type": "markdown",
      "metadata": {
        "id": "7kSjCeZ5mMaA"
      },
      "source": [
        "The following function creates the user neighborhood of a given user. It takes as input, the target user `u_id` and the target item `i_id`, and uses additional parameters, the size `k` of the neighborhood, and a flag `with_abs_sim`.\n",
        "\n",
        "If `with_abs_sim` is `True`, the neighborhood should contain up to `k` users with the highest absolute similarity to the target user `u_id`.\n",
        "\n",
        "If `with_abs_sim` is `False`, the neighborhood should contain up to `k` users with the highest similarity to the target user `u_id`.\n",
        "\n",
        "The output of the function is `nh`, a `Dictionary` containing key-value entries of the form `v_id : sim(u_id, v_id)`, where `v_id` is another user and `sim(u_id, v_id)` is the similarity between `u_id` and `v_id`.\n",
        "\n",
        "**Note:** The neighborhood of the target user should not contain itself, i.e., `u_id`, and only include users that have rated the target item `i_id`.\n",
        "\n",
        "\n",
        "*Tricks* that might be useful:\n",
        "\n",
        "`np.absolute(x)` returns an array containing the absolute values of each element in array `x`.\n",
        "\n",
        "`np.argsort(x)` returns an array with the indices that sort array `x` in *increasing* order.\n",
        "\n",
        "`x[::-1]` returns the reversed array of `x`. So, `np.argsort(x)[::-1]` contains the indices that sort x in *decreasing* order.\n",
        "\n",
        "To check if user `u_id` has rated item `i_id`, the `R_dok` view of the ratings matrix is helpful:\n",
        "```\n",
        "(u_id, i_id) in R_dok\n",
        "```"
      ]
    },
    {
      "cell_type": "code",
      "execution_count": null,
      "metadata": {
        "id": "vBNqDjaDmMaA"
      },
      "outputs": [],
      "source": [
        "def create_user_neighborhood(u_id, i_id, k=5, with_abs_sim=False):\n",
        "    \"\"\" Neighborhood for user \"u_id\" that have also watched item \"i_id\"\n",
        "    \"\"\"\n",
        "    nh = {} ## the neighborhood dict with (user id: similarity) entries\n",
        "    ## nh should not contain u_id and only include users that have rated i_id; there should be at most k neighbors\n",
        "    \n",
        "    uU = compute_user_similarities(u_id)\n",
        "    uU_copy = uU.copy() ## so that we can modify it, but also keep the original\n",
        "    \n",
        "    # Absolute similarity\n",
        "    if with_abs_sim:\n",
        "        uU_copy = np.absolute(uU_copy)  # we only care about the absolute value of the similarity\n",
        "    \n",
        "    # Derive the user_ids sorted by decreasing similarity (or absolute similarity) to u_id\n",
        "    user_ids =  np.argsort(uU_copy)[::-1]\n",
        "    \n",
        "    # Create neighborhood\n",
        "    count = 0\n",
        "    for v_id in user_ids:\n",
        "        if v_id == u_id: ## ignore self\n",
        "            continue # go to the next iterate of the loop \n",
        "        # ignore users that have not rated i_id\n",
        "        if (v_id, i_id) not in R_dok: \n",
        "            continue\n",
        "        nh[v_id] = uU[v_id]\n",
        "        count += 1\n",
        "        if count == k:\n",
        "            break\n",
        "    \n",
        "    return nh"
      ]
    },
    {
      "cell_type": "code",
      "execution_count": null,
      "metadata": {
        "colab": {
          "base_uri": "https://localhost:8080/"
        },
        "id": "otmCwemxmMaA",
        "outputId": "ea5b424d-b1a4-4e2e-ecce-934b4f7d54c9"
      },
      "outputs": [],
      "source": [
        "# Compute neighborhood for user (idx) 2 and movie (id) 480 (Jurassic Park)\n",
        "if DEBUG:\n",
        "    print(get_name_for_movie_id(movie_id=480))\n",
        "    nh = create_user_neighborhood(u_id=2, i_id=movieId_to_movieIDX[480]) # note that we use movieId_to_movieIDX\n",
        "    print(nh)"
      ]
    },
    {
      "cell_type": "code",
      "execution_count": null,
      "metadata": {
        "colab": {
          "base_uri": "https://localhost:8080/"
        },
        "id": "xmbb8NsyI4lK",
        "outputId": "bf4bc7fe-9540-4725-b236-80258fb7df57"
      },
      "outputs": [],
      "source": [
        "compute_pairwise_user_similarity(2, 1871)"
      ]
    },
    {
      "attachments": {},
      "cell_type": "markdown",
      "metadata": {
        "id": "K7Z6g-wRmMaA"
      },
      "source": [
        "Now we have seen what are the most similar users to user 2 that have also watched `Jurassic Park`."
      ]
    },
    {
      "cell_type": "code",
      "execution_count": null,
      "metadata": {
        "colab": {
          "base_uri": "https://localhost:8080/",
          "height": 865
        },
        "id": "pPKdQSNWmMaA",
        "outputId": "607edc91-8d6a-4343-efae-84ad5213a097"
      },
      "outputs": [],
      "source": [
        "# User 2\n",
        "show_movies_for_user(userIDX_to_userId[2])\n",
        "show_genres_histogram_for_user(userIDX_to_userId[2])"
      ]
    },
    {
      "cell_type": "code",
      "execution_count": null,
      "metadata": {
        "colab": {
          "base_uri": "https://localhost:8080/",
          "height": 1000
        },
        "id": "xjizboG9mMaA",
        "outputId": "8386366c-9d4a-475d-ad5d-a07c6c7c9ae4",
        "scrolled": false
      },
      "outputs": [],
      "source": [
        "# Now we can see what movies the userIDX 3820 (the second most similar to user_idx=2) has watched.\n",
        "show_movies_for_user(userIDX_to_userId[3820])\n",
        "show_genres_histogram_for_user(userIDX_to_userId[3820])"
      ]
    },
    {
      "attachments": {},
      "cell_type": "markdown",
      "metadata": {
        "id": "SaAMZR_3mMaA"
      },
      "source": [
        "### 1.11 Predict a Rating \n",
        "\n",
        "Finally! We can now try to predict a rating of a given user who has not rated an item so far. Follow the instructions bellow to see how we can do this!"
      ]
    },
    {
      "attachments": {},
      "cell_type": "markdown",
      "metadata": {
        "id": "gTl-1zqlmMaA"
      },
      "source": [
        "The following function predicts the rating user `u_id` would give to item `i_id`. It uses the flag `with_deviations` to make the prediction.\n",
        "\n",
        "If `with_deviations` is `True`, the prediction is made over *rating deviations*:\n",
        "$$ s(u,i) = \\overline{r_u} + \\frac{\\sum_{v \\in N(u;i)}w_{uv} (r_{vi}-\\overline{r_v})}{\\sum_{v \\in N(u;i)} |w_{uv}|} .$$\n",
        "\n",
        "If `with_deviations` is `False`, the prediction is made directly over ratings:\n",
        "$$ s(u,i) = \\frac{\\sum_{v \\in N(u;i)}w_{uv} r_{vi}}{\\sum_{v \\in N(u;i)} |w_{uv}|} .$$\n",
        "\n",
        "The output of the function is the predicted rating `prediction`."
      ]
    },
    {
      "cell_type": "code",
      "execution_count": null,
      "metadata": {
        "id": "-Sy7a_5UmMaA"
      },
      "outputs": [],
      "source": [
        "def predict_rating(u_id, i_id, k, with_deviations=True, with_abs_sim=False):\n",
        "    '''\n",
        "    predict the rating of user u_id for item i_id \n",
        "    '''\n",
        "    \n",
        "    print(\"Movie name:\", get_name_for_movie_id(movie_id=movieIDX_to_movieId[i_id]))\n",
        "    \n",
        "    if (u_id, i_id) in R_dok:\n",
        "        print(\"user idx\", u_id, \"has rated item idx\", i_id, \"with\", R[u_id, i_id])\n",
        "    else:\n",
        "        print(\"user idx\", u_id, \"has not rated item idx\", i_id)\n",
        "    print(\"k:\", k, \"with_deviations:\", with_deviations, \"with_abs_sim:\", with_abs_sim)\n",
        "    \n",
        "    # Neighborhood\n",
        "    nh = create_user_neighborhood(u_id, i_id, k=k, with_abs_sim=with_abs_sim)\n",
        "    \n",
        "    \n",
        "    neighborhood_weighted_avg = 0. # neighborhood_weighted_avg is the fraction in the above formulas\n",
        "\n",
        "    # Average - same as before\n",
        "    user_sums = R.sum(axis=1).A1 ## matrix converted to 1-D array via .A1\n",
        "    user_cnts = np.diff(R.indptr) ## equivalent to, but faster than: user_cnts = (R != 0).sum(axis=1).A1\n",
        "    user_avgs = user_sums / user_cnts\n",
        "\n",
        "    # Compute fraction\n",
        "    sum_scores = 0. # numerator\n",
        "    sum_weights = 0. # denominator\n",
        "    for neighbor_id, similarity in nh.items():\n",
        "        # Find the neighbor rating from R matrix.\n",
        "        neighbor_rating = R[neighbor_id, i_id]\n",
        "        if with_deviations:\n",
        "            # In this case similarity should be multiplied by (neighbor_rating - neighbor_avg)\n",
        "            sum_scores += similarity * (neighbor_rating - user_avgs[neighbor_id])\n",
        "        else:\n",
        "            # In this case we do not have the average\n",
        "            sum_scores += similarity * neighbor_rating\n",
        "        sum_weights += abs(similarity)\n",
        "        \n",
        "    neighborhood_weighted_avg = sum_scores/sum_weights\n",
        "    \n",
        "    if with_deviations:\n",
        "        prediction = user_avgs[u_id] + neighborhood_weighted_avg\n",
        "        print(\"prediction\", prediction, \"(user_avg\", user_avgs[u_id], \", offset\", neighborhood_weighted_avg, \")\")\n",
        "    else:\n",
        "        prediction = neighborhood_weighted_avg\n",
        "        print(\"prediction\", prediction, \"(user_avg\", user_avgs[u_id], \")\")\n",
        "        \n",
        "    return prediction"
      ]
    },
    {
      "attachments": {},
      "cell_type": "markdown",
      "metadata": {
        "id": "MMa5Di5ImMaA"
      },
      "source": [
        "**DEBUG:** For the truncated dataset, the following should output sth like:\n",
        "```\n",
        "Movie name: Sudden Death (1995)\n",
        "user 6 has not rated item 8\n",
        "k: 50 with_deviations: True with_abs_sim: True\n",
        "prediction 2.7554307504988773 (user_avg 3.2830188679245285 offset -0.527588117425651 )\n",
        "```"
      ]
    },
    {
      "cell_type": "code",
      "execution_count": null,
      "metadata": {
        "colab": {
          "base_uri": "https://localhost:8080/"
        },
        "id": "k4s_6CFfmMaA",
        "outputId": "1319e421-231a-45c4-9781-995b47477849"
      },
      "outputs": [],
      "source": [
        "if DEBUG:\n",
        "    k = 50  # number of neighbours\n",
        "    with_deviations = True\n",
        "    with_abs_sim = True\n",
        "    predict_rating(6, 8, k=k, with_deviations=with_deviations, with_abs_sim=with_abs_sim) \n",
        "    # predict rating for user with index 6 for movie with index 8"
      ]
    },
    {
      "cell_type": "code",
      "execution_count": null,
      "metadata": {
        "colab": {
          "base_uri": "https://localhost:8080/"
        },
        "id": "KlBw9NYKmMaA",
        "outputId": "89a4f95d-db27-4912-c118-0071f0b5dc5b"
      },
      "outputs": [],
      "source": [
        "# Compute prediction of user 2 for Jurassic Park\n",
        "if DEBUG:\n",
        "    k = 50\n",
        "    with_deviations = True\n",
        "    with_abs_sim = True\n",
        "    predict_rating(2, movieId_to_movieIDX[480], k=k, with_deviations=with_deviations, with_abs_sim=with_abs_sim)"
      ]
    },
    {
      "cell_type": "code",
      "execution_count": null,
      "metadata": {
        "colab": {
          "base_uri": "https://localhost:8080/",
          "height": 81
        },
        "id": "rVp7u2nVzfZX",
        "outputId": "e0afaa93-58dc-4714-e682-6e6c583d4424"
      },
      "outputs": [],
      "source": [
        "ratings[(ratings.user == 2)&(ratings.item == 473)]"
      ]
    },
    {
      "cell_type": "code",
      "execution_count": null,
      "metadata": {
        "colab": {
          "base_uri": "https://localhost:8080/"
        },
        "id": "KtAlGo3KzqmG",
        "outputId": "b66fc2fb-2008-4797-cc17-af0ac49eebec"
      },
      "outputs": [],
      "source": [
        "# Compute prediction of user 2 for movie with idx 157 - true value = 3\n",
        "if DEBUG:\n",
        "    k = 50\n",
        "    with_deviations = True\n",
        "    with_abs_sim = True\n",
        "    predict_rating(2, 157, k=k, with_deviations=with_deviations, with_abs_sim=with_abs_sim)"
      ]
    },
    {
      "cell_type": "code",
      "execution_count": null,
      "metadata": {
        "colab": {
          "base_uri": "https://localhost:8080/",
          "height": 81
        },
        "id": "ZwqNRFXfwvNt",
        "outputId": "a22c1478-6056-4f99-94d0-0fdc189885d4"
      },
      "outputs": [],
      "source": [
        "ratings[(ratings.user == 2)&(ratings.item == 157)]"
      ]
    },
    {
      "attachments": {},
      "cell_type": "markdown",
      "metadata": {
        "id": "eLWjvjQc1MjX"
      },
      "source": [
        "### 1.12 Recommendation Exercise\n",
        "\n",
        "To do in groups (15 minutes): follow the steps and present your answer. \n",
        "\n",
        "The idea is to recommend 5 movies to a user. Of course, the user must not have already watched the movies.\n",
        "\n",
        "Complete the code below when you see `# [YOUR CODE HERE]`.\n",
        "\n"
      ]
    },
    {
      "cell_type": "code",
      "execution_count": null,
      "metadata": {
        "colab": {
          "base_uri": "https://localhost:8080/",
          "height": 206
        },
        "id": "DsJBSwE2-XGD",
        "outputId": "2cb06b4a-a56b-48cd-c881-c0ecced37d43"
      },
      "outputs": [],
      "source": [
        "# recall - ratings\n",
        "ratings.head()"
      ]
    },
    {
      "cell_type": "code",
      "execution_count": null,
      "metadata": {
        "colab": {
          "base_uri": "https://localhost:8080/",
          "height": 191
        },
        "id": "Puvko-HOw7yT",
        "outputId": "2d4af2d5-d97c-4f15-f345-172e9ea701f0"
      },
      "outputs": [],
      "source": [
        "# 1. Choose a user (IDX) - between 0 and 9923.\n",
        "user_IDX = 777\n",
        "\n",
        "# 2. Print user ID (hint: use userIDX_to_userId)\n",
        "u_id= userIDX_to_userId[777]\n",
        "\n",
        "# 3. Display movies that user has already watched (hint: the function to use is defined above)\n",
        "show_movies_for_user(u_id) "
      ]
    },
    {
      "cell_type": "code",
      "execution_count": null,
      "metadata": {
        "colab": {
          "base_uri": "https://localhost:8080/",
          "height": 690
        },
        "id": "QDttwLAQy1F9",
        "outputId": "53ac36ea-fa95-4a6e-f659-5a638f8d422c"
      },
      "outputs": [],
      "source": [
        "# 4. Show genre histogram of the user (hint: the function to use is defined above)\n",
        "show_genres_histogram_for_user(u_id)"
      ]
    },
    {
      "cell_type": "code",
      "execution_count": null,
      "metadata": {
        "colab": {
          "base_uri": "https://localhost:8080/"
        },
        "id": "eHUdN39-2NMU",
        "outputId": "020d4898-fdfb-4b4c-8f6c-1a8679707947"
      },
      "outputs": [],
      "source": [
        "# 5. Among the 50 first items (IDX), which 5 would you recommend? \n",
        "# Of course, the user should not have already watched the movies...\n",
        "# Parameters to use: k=50, with_deviation=True, with_abs_sim=False\n",
        "# We first create a dictionary (i_id, rating) with the predicted ratings for the movies\n",
        "ratings_exercise = {}\n",
        "for i_id in range(50):\n",
        "  if (u_id, i_id) not in R_dok: # user should not have already watched the movie (hint: use the R_dok matrix)\n",
        "    # [YOUR CODE HERE] # predict rating of user for movie i_id (hint: use one of the above-defined functions)\n",
        "    ratings_exercise[i_id] = predict_rating(u_id, i_id, k=50, with_deviations=True, with_abs_sim=False) \n",
        "    "
      ]
    },
    {
      "cell_type": "code",
      "execution_count": null,
      "metadata": {
        "colab": {
          "base_uri": "https://localhost:8080/"
        },
        "id": "beXOIKyx-zPF",
        "outputId": "2050659a-af1e-4433-e68b-12ba607e203f"
      },
      "outputs": [],
      "source": [
        "# Print dictionary\n",
        "ratings_exercise"
      ]
    },
    {
      "cell_type": "code",
      "execution_count": null,
      "metadata": {
        "colab": {
          "base_uri": "https://localhost:8080/"
        },
        "id": "Ge_nCTGFAN00",
        "outputId": "7e5d9c1f-78c3-4343-850c-24c631350cce"
      },
      "outputs": [],
      "source": [
        "# Sort dictionary and print top 5 movies\n",
        "top_ratings = sorted(ratings_exercise.values(), reverse=True)[:5] # first 5 movies\n",
        "for idx, rating in ratings_exercise.items():  \n",
        "  if rating in top_ratings:\n",
        "    print(get_name_for_movie_id(movieIDX_to_movieId[idx]))"
      ]
    },
    {
      "attachments": {},
      "cell_type": "markdown",
      "metadata": {
        "id": "ynERFI7LQDlO"
      },
      "source": [
        "## 2. Using the Surprise library\n",
        "\n",
        "[Surprise](http://surpriselib.com/) is a Python scikit building and analyzing recommender systems that deal with explicit rating data. Its name stands for Simple Python RecommendatIon System Engine."
      ]
    },
    {
      "cell_type": "code",
      "execution_count": null,
      "metadata": {
        "id": "Amt3qWkcQwT-"
      },
      "outputs": [],
      "source": [
        "# Install package\n",
        "!pip install surprise"
      ]
    },
    {
      "cell_type": "code",
      "execution_count": null,
      "metadata": {
        "id": "JS93fQN_QI9E"
      },
      "outputs": [],
      "source": [
        "# Import packages\n",
        "from surprise import KNNBasic, KNNWithMeans\n",
        "from surprise import Dataset\n",
        "from collections import defaultdict\n",
        "from surprise import get_dataset_dir\n",
        "from surprise.model_selection import train_test_split\n",
        "import io"
      ]
    },
    {
      "attachments": {},
      "cell_type": "markdown",
      "metadata": {
        "id": "wuQL8v0fQ6AD"
      },
      "source": [
        "Below we will create a KNN model using the 100k dataset from MovieLens. Information about the dataset is available [here](https://www.kaggle.com/prajitdatta/movielens-100k-dataset/). Documentation on the algorithm is available [here](https://surprise.readthedocs.io/en/stable/knn_inspired.html)."
      ]
    },
    {
      "cell_type": "code",
      "execution_count": null,
      "metadata": {
        "colab": {
          "base_uri": "https://localhost:8080/"
        },
        "id": "ti2xLXcu1guI",
        "outputId": "f3e72a7e-7393-4ae1-85d6-d8877d6aafe3"
      },
      "outputs": [],
      "source": [
        "# Load data\n",
        "data = Dataset.load_builtin('ml-100k') # there are a couple of famous Rec System datasets available in this library\n",
        "trainset = data.build_full_trainset()"
      ]
    },
    {
      "cell_type": "code",
      "execution_count": null,
      "metadata": {
        "colab": {
          "base_uri": "https://localhost:8080/"
        },
        "id": "EQBN7Uv61sUK",
        "outputId": "f6290aac-e843-4b39-e3e2-40a0261ac43d"
      },
      "outputs": [],
      "source": [
        "# Number of movies\n",
        "trainset.all_items() "
      ]
    },
    {
      "cell_type": "code",
      "execution_count": null,
      "metadata": {
        "colab": {
          "base_uri": "https://localhost:8080/"
        },
        "id": "H3dnWyzA1x1E",
        "outputId": "b553a31b-9b46-41d3-b9ef-a8103371e6aa"
      },
      "outputs": [],
      "source": [
        "# Number of users\n",
        "trainset.all_users()"
      ]
    },
    {
      "cell_type": "code",
      "execution_count": null,
      "metadata": {
        "id": "3aKb5IkH1bIQ"
      },
      "outputs": [],
      "source": [
        "# Define options and create instance of class\n",
        "sim_options = {\n",
        "    'name': 'pearson', # let's use pearson similarity which can be seen as mean-centered cosine similarity\n",
        "    'user_based': True # we will do user-based CF\n",
        "}\n",
        "knn_means = KNNWithMeans(k=40, min_k=1, sim_options=sim_options, verbose=False)"
      ]
    },
    {
      "cell_type": "code",
      "execution_count": null,
      "metadata": {
        "id": "v83f8VHP1bGj"
      },
      "outputs": [],
      "source": [
        "# Fit model\n",
        "knn_means.fit(trainset)\n",
        "\n",
        "# Predict ratings for all pairs (u, i) that are NOT in the training set.\n",
        "testset = trainset.build_anti_testset() \n",
        "predictions = knn_means.test(testset)"
      ]
    },
    {
      "cell_type": "code",
      "execution_count": null,
      "metadata": {
        "colab": {
          "base_uri": "https://localhost:8080/"
        },
        "id": "4XEJj5f82-6g",
        "outputId": "f1109936-0fb6-4411-f1e9-19b022040f85"
      },
      "outputs": [],
      "source": [
        "# Examples of predictions\n",
        "predictions[600:610]"
      ]
    },
    {
      "attachments": {},
      "cell_type": "markdown",
      "metadata": {
        "id": "O_rhhcdM33s1"
      },
      "source": [
        "So in less than 10 lines, we managed to do the same as in the first part... I love packages :)"
      ]
    },
    {
      "attachments": {},
      "cell_type": "markdown",
      "metadata": {
        "id": "jj6JlpMNRUG7"
      },
      "source": [
        "### 2.1 Some helper functions\n",
        "\n",
        "We have built the predictions. Now we can visualize them. We first write these helpers functions."
      ]
    },
    {
      "cell_type": "code",
      "execution_count": null,
      "metadata": {
        "id": "oFVFOHjnRMBo"
      },
      "outputs": [],
      "source": [
        "def read_item_names():\n",
        "    '''Read the u.item file from MovieLens 100-k dataset and return two\n",
        "    mappings to convert raw ids into movie names and movie names into raw ids.\n",
        "    '''\n",
        "\n",
        "    file_name = get_dataset_dir() + '/ml-100k/ml-100k/u.item'\n",
        "    rid_to_name = {}\n",
        "    name_to_rid = {}\n",
        "    with io.open(file_name, 'r', encoding='ISO-8859-1') as f:\n",
        "        for line in f:\n",
        "            line = line.split('|')\n",
        "            rid_to_name[line[0]] = line[1]\n",
        "            name_to_rid[line[1]] = line[0]\n",
        "\n",
        "    return rid_to_name, name_to_rid\n",
        "\n",
        "\n",
        "def get_top_n(predictions, n=10):\n",
        "    '''Return the top-N recommendation for each user from a set of predictions.\n",
        "\n",
        "    Args:\n",
        "        predictions(list of Prediction objects): The list of predictions, as\n",
        "            returned by the test method of an algorithm.\n",
        "        n(int): The number of recommendation to output for each user. Default\n",
        "            is 10.\n",
        "\n",
        "    Returns:\n",
        "    A dict where keys are user (raw) ids and values are lists of tuples:\n",
        "        [(raw item id, rating estimation), ...] of size n.\n",
        "    '''\n",
        "\n",
        "    # First map the predictions to each user.\n",
        "    top_n = defaultdict(list) # This is used to group a sequence of key-value pairs into a dictionary of lists\n",
        "    for uid, iid, true_r, est, _ in predictions:\n",
        "        top_n[uid].append((iid, est))\n",
        "\n",
        "    # Then sort the predictions for each user and retrieve the k highest ones.\n",
        "    for uid, user_ratings in top_n.items():\n",
        "        user_ratings.sort(key=lambda x: x[1], reverse=True)\n",
        "        top_n[uid] = user_ratings[:n]\n",
        "\n",
        "    return top_n"
      ]
    },
    {
      "attachments": {},
      "cell_type": "markdown",
      "metadata": {
        "id": "yGCx7IflRsgR"
      },
      "source": [
        "### 2.2 Visualizing the recommendations\n",
        "\n",
        "We can see for each user what are the top recommended movies."
      ]
    },
    {
      "cell_type": "code",
      "execution_count": null,
      "metadata": {
        "colab": {
          "base_uri": "https://localhost:8080/"
        },
        "id": "fs5qEf-xRqu5",
        "outputId": "69b0a1fb-b80c-414d-b252-c326fe6e2eaa"
      },
      "outputs": [],
      "source": [
        "# Get top 10 movies for all users\n",
        "top_n = get_top_n(predictions)\n",
        "\n",
        "# Top 10 movies for user 196\n",
        "top_n['196']"
      ]
    },
    {
      "cell_type": "code",
      "execution_count": null,
      "metadata": {
        "colab": {
          "base_uri": "https://localhost:8080/",
          "height": 1000
        },
        "id": "TtlypKiCRkyx",
        "outputId": "a53cfe1b-49d7-4dfd-e13b-4c0694f661c9"
      },
      "outputs": [],
      "source": [
        "# Show covers\n",
        "import re\n",
        "from IPython.display import Image\n",
        "from IPython.display import display, HTML\n",
        "\n",
        "top_n = get_top_n(predictions, n=10)\n",
        "\n",
        "# Read the mappings raw id <-> movie name\n",
        "rid_to_name, name_to_rid = read_item_names()\n",
        "\n",
        "# Print the recommended items for user id 1\n",
        "uid = '196'\n",
        "user_ratings = top_n[uid]\n",
        "recommended_items = [iid for (iid, _) in user_ratings]\n",
        "\n",
        "print('User id and list of item id:')\n",
        "print(uid, recommended_items)\n",
        "\n",
        "# Convert ids into names\n",
        "item_names = [rid_to_name[rid]\n",
        "              for rid in recommended_items]\n",
        "\n",
        "print('\\nUser id and list of item names:')\n",
        "print(uid, item_names)\n",
        "\n",
        "print('\\nMovies list:')\n",
        "# Show name, url and covers\n",
        "for name in item_names:\n",
        "    print('\\nName: ', name)\n",
        "    clean_name = re.sub(r'\\([^)]*\\)', '', name) # this remove the year of the movie which is in between paranthesis\n",
        "    try:\n",
        "      url = week6.TMDB().get_poster_path_by_name(clean_name)\n",
        "    except:\n",
        "      url = None\n",
        "    print('url: ', url)\n",
        "    if url:\n",
        "        display(Image(url=url))"
      ]
    },
    {
      "attachments": {},
      "cell_type": "markdown",
      "metadata": {
        "id": "nwLE-UGxR9T2"
      },
      "source": [
        "### 2.3 Cross-validation using surprise\n",
        "This package also provides for you built-in cross-validation to split the data to multiple folds."
      ]
    },
    {
      "cell_type": "code",
      "execution_count": null,
      "metadata": {
        "colab": {
          "base_uri": "https://localhost:8080/"
        },
        "id": "qj7695zqR03K",
        "outputId": "e592f9cf-8877-4630-cba0-46d048e5e96d"
      },
      "outputs": [],
      "source": [
        "from surprise.model_selection import cross_validate\n",
        "from surprise import SVD\n",
        "\n",
        "algo = SVD()\n",
        "\n",
        "# Run 5-fold cross-validation and print results.\n",
        "cross_validate(algo, data, measures=['RMSE'], cv=5, verbose=True);"
      ]
    },
    {
      "attachments": {},
      "cell_type": "markdown",
      "metadata": {
        "id": "Oe0jsWpdSDcW"
      },
      "source": [
        "#### User-based collaborative filtering with surprise!"
      ]
    },
    {
      "cell_type": "code",
      "execution_count": null,
      "metadata": {
        "colab": {
          "base_uri": "https://localhost:8080/"
        },
        "id": "M33op77uSAhX",
        "outputId": "623440cb-60a3-4148-fee8-fc18f03b07fb"
      },
      "outputs": [],
      "source": [
        "from surprise import KNNWithMeans\n",
        "\n",
        "sim_options = {\n",
        "    'name': 'pearson', #let's use pearson similarity which can be seen as mean-centered cosine similarity\n",
        "    'user_based': True #we will do user-based CF\n",
        "}\n",
        "knn_means = KNNWithMeans(k=40, min_k=1, sim_options=sim_options, verbose=False)\n",
        "\n",
        "# Run 5-fold cross-validation and print results.\n",
        "cross_validate(knn_means, data, measures=['RMSE'], cv=5, verbose=True);"
      ]
    },
    {
      "attachments": {},
      "cell_type": "markdown",
      "metadata": {
        "id": "EPus0WuNQTu-"
      },
      "source": [
        "### 2.4 Precision - Recall @k"
      ]
    },
    {
      "cell_type": "code",
      "execution_count": null,
      "metadata": {
        "id": "4YygiDmbSGeC"
      },
      "outputs": [],
      "source": [
        "def precision_recall_at_k(predictions, k=10, threshold=3.5):\n",
        "    '''Return precision and recall at k metrics for each user.'''\n",
        "\n",
        "    # First map the predictions to each user.\n",
        "    user_est_true = defaultdict(list)\n",
        "    for uid, _, true_r, est, _ in predictions:\n",
        "        user_est_true[uid].append((est, true_r))\n",
        "\n",
        "    precisions = dict()\n",
        "    recalls = dict()\n",
        "    for uid, user_ratings in user_est_true.items():\n",
        "\n",
        "        # Sort user ratings by estimated value\n",
        "        user_ratings.sort(key=lambda x: x[0], reverse=True)\n",
        "\n",
        "        # Number of relevant items\n",
        "        n_rel = sum((true_r >= threshold) for (_, true_r) in user_ratings)\n",
        "\n",
        "        # Number of recommended items in top k\n",
        "        n_rec_k = sum((est >= threshold) for (est, _) in user_ratings[:k])\n",
        "\n",
        "        # Number of relevant and recommended items in top k\n",
        "        n_rel_and_rec_k = sum(((true_r >= threshold) and (est >= threshold))\n",
        "                              for (est, true_r) in user_ratings[:k])\n",
        "\n",
        "        # Precision@K: Proportion of recommended items that are relevant\n",
        "        precisions[uid] = n_rel_and_rec_k / n_rec_k if n_rec_k != 0 else 1\n",
        "\n",
        "        # Recall@K: Proportion of relevant items that are recommended\n",
        "        recalls[uid] = n_rel_and_rec_k / n_rel if n_rel != 0 else 1\n",
        "\n",
        "    return precisions, recalls"
      ]
    },
    {
      "cell_type": "code",
      "execution_count": null,
      "metadata": {
        "colab": {
          "base_uri": "https://localhost:8080/",
          "height": 318
        },
        "id": "vHK1LMXYSPis",
        "outputId": "7beb8448-1267-4512-acf3-212c1172852c"
      },
      "outputs": [],
      "source": [
        "trainset, testset = train_test_split(data, test_size=0.2)\n",
        "algo = SVD()\n",
        "\n",
        "algo.fit(trainset)\n",
        "predictions = algo.test(testset)\n",
        "\n",
        "precision = []\n",
        "recall = []\n",
        "for k in range(10):\n",
        "    precisions, recalls = precision_recall_at_k(predictions, k=k, threshold=3.5) # rating > 3 = relevant, rating < 3 = irrelevant\n",
        "\n",
        "    # Precision and recall can then be averaged over all users\n",
        "    precision.append( sum(prec for prec in precisions.values()) / len(precisions) )\n",
        "    recall.append( sum(rec for rec in recalls.values()) / len(recalls) )\n",
        "\n",
        "plt.plot(range(10), recall, 'ro-', label=\"recall\")\n",
        "plt.plot(range(10), precision, 'go-', label=\"precision\")\n",
        "plt.title(\"precision and recall for SVD\")\n",
        "plt.legend()\n",
        "plt.show();\n",
        "\n",
        "precisions, recalls = precision_recall_at_k(predictions, k=20, threshold=3.5)\n",
        "\n",
        "print(\"precision @ 20 for SVD\", sum(prec for prec in precisions.values()) / len(precisions))\n",
        "print(\"recall @ 20 for SVD\", sum(rec for rec in recalls.values()) / len(recalls))"
      ]
    },
    {
      "cell_type": "code",
      "execution_count": null,
      "metadata": {
        "colab": {
          "base_uri": "https://localhost:8080/",
          "height": 318
        },
        "id": "t34ttk2LSRiP",
        "outputId": "520e4cfe-14ad-4ec3-f466-446f4c1f0887"
      },
      "outputs": [],
      "source": [
        "algo = KNNWithMeans(k=40, min_k=1, sim_options=sim_options, verbose=False)\n",
        "\n",
        "algo.fit(trainset)\n",
        "predictions = algo.test(testset)\n",
        "\n",
        "precision = []\n",
        "recall = []\n",
        "for k in range(10):\n",
        "    precisions, recalls = precision_recall_at_k(predictions, k=k, threshold=3.5) # rating > 3 = relevant, rating < 3 = irrelevant\n",
        "\n",
        "    # Precision and recall can then be averaged over all users\n",
        "    precision.append( sum(prec for prec in precisions.values()) / len(precisions) )\n",
        "    recall.append( sum(rec for rec in recalls.values()) / len(recalls) )\n",
        "\n",
        "\n",
        "plt.plot(range(10), recall, 'ro-', label=\"recall\")\n",
        "plt.plot(range(10), precision, 'go-', label=\"precision\")\n",
        "plt.legend()\n",
        "plt.title(\"precision and recall for user-based knn\")\n",
        "plt.show();\n",
        "\n",
        "precisions, recalls = precision_recall_at_k(predictions, k=20, threshold=3.5)\n",
        "\n",
        "print(\"precision @ 20 for user-based knn\", sum(prec for prec in precisions.values()) / len(precisions))\n",
        "print(\"recall @ 20 for user-based knn\", sum(rec for rec in recalls.values()) / len(recalls))"
      ]
    },
    {
      "attachments": {},
      "cell_type": "markdown",
      "metadata": {
        "id": "Dl6U1X9tSWS2"
      },
      "source": [
        "#### Precision-recall curve\n",
        "We will now observe the area under precision recall curve for tow methods: SVD and KNN."
      ]
    },
    {
      "cell_type": "code",
      "execution_count": null,
      "metadata": {
        "colab": {
          "base_uri": "https://localhost:8080/",
          "height": 295
        },
        "id": "pLLQAQ3JST84",
        "outputId": "cb8e36fd-f803-4952-cb76-8ea72de86a89"
      },
      "outputs": [],
      "source": [
        "from inspect import signature\n",
        "\n",
        "algo = SVD()\n",
        "\n",
        "algo.fit(trainset)\n",
        "predictions = algo.test(testset)\n",
        "\n",
        "precision = []\n",
        "recall = []\n",
        "for k in range(20):\n",
        "    precisions, recalls = precision_recall_at_k(predictions, k=k, threshold=3.5) \n",
        "\n",
        "    # Precision and recall can then be averaged over all users\n",
        "    precision.append( sum(prec for prec in precisions.values()) / len(precisions) )\n",
        "    recall.append( sum(rec for rec in recalls.values()) / len(recalls) )\n",
        "\n",
        "# In matplotlib < 1.5, plt.fill_between does not have a 'step' argument\n",
        "step_kwargs = ({'step': 'post'}\n",
        "               if 'step' in signature(plt.fill_between).parameters\n",
        "               else {})\n",
        "plt.step(recall, precision, color='b', alpha=0.2,\n",
        "         where='post')\n",
        "plt.fill_between(recall, precision, alpha=0.2, color='b', **step_kwargs)\n",
        "\n",
        "plt.xlabel('Recall')\n",
        "plt.ylabel('Precision')\n",
        "plt.title('Precision-Recall curve for SVD');"
      ]
    },
    {
      "cell_type": "code",
      "execution_count": null,
      "metadata": {
        "colab": {
          "base_uri": "https://localhost:8080/",
          "height": 295
        },
        "id": "arIFHLFMSZa7",
        "outputId": "59f2189f-378c-414e-f2eb-bccd16e70374"
      },
      "outputs": [],
      "source": [
        "algo =  KNNWithMeans(k=40, min_k=1, sim_options=sim_options, verbose=False)\n",
        "\n",
        "algo.fit(trainset)\n",
        "predictions = algo.test(testset)\n",
        "\n",
        "precision = []\n",
        "recall = []\n",
        "for k in range(20):\n",
        "    precisions, recalls = precision_recall_at_k(predictions, k=k, threshold=3.5) \n",
        "\n",
        "    # Precision and recall can then be averaged over all users\n",
        "    precision.append( sum(prec for prec in precisions.values()) / len(precisions) )\n",
        "    recall.append( sum(rec for rec in recalls.values()) / len(recalls) )\n",
        "\n",
        "# In matplotlib < 1.5, plt.fill_between does not have a 'step' argument\n",
        "step_kwargs = ({'step': 'post'}\n",
        "               if 'step' in signature(plt.fill_between).parameters\n",
        "               else {})\n",
        "plt.step(recall, precision, color='b', alpha=0.2,\n",
        "         where='post')\n",
        "plt.fill_between(recall, precision, alpha=0.2, color='b', **step_kwargs)\n",
        "\n",
        "plt.xlabel('Recall')\n",
        "plt.ylabel('Precision')\n",
        "plt.title('Precision-Recall curve for user-based KNN');"
      ]
    },
    {
      "attachments": {},
      "cell_type": "markdown",
      "metadata": {
        "id": "B7MDnHBBSdhi"
      },
      "source": [
        "### 2.5 Tuning hyper-parameters with surprise\n",
        "As we saw we have built-in cross-validation in this package. We can use this to tune the hyper-parameters of our recommender system, eg tuning the number of neighbours in KNN or the number of factors (or the reduced dimensionality) in SVD."
      ]
    },
    {
      "cell_type": "code",
      "execution_count": null,
      "metadata": {
        "colab": {
          "base_uri": "https://localhost:8080/"
        },
        "id": "QAbGgPd-SbKh",
        "outputId": "d7682e08-140a-4c3e-f03c-765201f6c7ae"
      },
      "outputs": [],
      "source": [
        "from surprise.model_selection import GridSearchCV\n",
        "SVD_grid_search = GridSearchCV(SVD, param_grid={'n_factors': [50, 100, 200, 300]}, measures=['RMSE'], cv=5,\n",
        "                               refit=True, joblib_verbose=2, n_jobs=-1)\n",
        "SVD_grid_search.fit(data)"
      ]
    },
    {
      "cell_type": "code",
      "execution_count": null,
      "metadata": {
        "colab": {
          "base_uri": "https://localhost:8080/"
        },
        "id": "kphNP84fSiL2",
        "outputId": "4cfde2f6-4949-4268-d748-b617ed4e66dd"
      },
      "outputs": [],
      "source": [
        "print(\"best parameter:\", SVD_grid_search.best_params)\n",
        "print(\"best rmse: \", SVD_grid_search.best_score)\n",
        "# you can even see the whole cv results\n",
        "print(\"\\n\")\n",
        "SVD_grid_search.cv_results"
      ]
    },
    {
      "attachments": {},
      "cell_type": "markdown",
      "metadata": {
        "id": "qijBtDFGSmPa"
      },
      "source": [
        "Now for KNN"
      ]
    },
    {
      "cell_type": "code",
      "execution_count": null,
      "metadata": {
        "colab": {
          "base_uri": "https://localhost:8080/"
        },
        "id": "7XJ2HIxaSjzt",
        "outputId": "7b2ec0f8-6ebb-4fb7-d366-3ff39533b42b"
      },
      "outputs": [],
      "source": [
        "print(sim_options)"
      ]
    },
    {
      "cell_type": "code",
      "execution_count": null,
      "metadata": {
        "colab": {
          "base_uri": "https://localhost:8080/"
        },
        "id": "hst8xKOvSokf",
        "outputId": "198bbc4d-5f21-42b1-8a31-d196585b4008"
      },
      "outputs": [],
      "source": [
        "KNN_grid_search = GridSearchCV(KNNWithMeans, param_grid={'k': [20, 30, 40, 50], \n",
        "                                                         'sim_options': {'name': ['pearson'], 'user_based': [True]}}, \n",
        "                               measures=['RMSE'], cv=5,\n",
        "                               refit=True, joblib_verbose=2, n_jobs=-1)\n",
        "KNN_grid_search.fit(data)"
      ]
    },
    {
      "cell_type": "code",
      "execution_count": null,
      "metadata": {
        "colab": {
          "base_uri": "https://localhost:8080/"
        },
        "id": "nbzLXSHxSp_X",
        "outputId": "8a393f62-c70b-4992-9806-e777deb3342e"
      },
      "outputs": [],
      "source": [
        "print(\"best parameter:\", KNN_grid_search.best_params)\n",
        "print(\"best rmse: \", KNN_grid_search.best_score)\n",
        "# you can even see the whole cv results\n",
        "print(\"\\n\")\n",
        "KNN_grid_search.cv_results"
      ]
    },
    {
      "attachments": {},
      "cell_type": "markdown",
      "metadata": {
        "id": "N7WFcS8eStYP"
      },
      "source": [
        "Let's save the best SVD model. "
      ]
    },
    {
      "cell_type": "code",
      "execution_count": null,
      "metadata": {
        "id": "FPD_sr1mSrW2"
      },
      "outputs": [],
      "source": [
        "best_model_svd = SVD_grid_search.best_estimator['rmse']"
      ]
    },
    {
      "cell_type": "code",
      "execution_count": null,
      "metadata": {
        "id": "-Xj9Uiq7Svxm"
      },
      "outputs": [],
      "source": [
        "import pickle\n",
        "file_name = \"best_model_svd\"\n",
        "pickle.dump(best_model_svd, open(file_name, 'wb'))"
      ]
    },
    {
      "cell_type": "code",
      "execution_count": null,
      "metadata": {
        "colab": {
          "base_uri": "https://localhost:8080/"
        },
        "id": "fzauiinvSxTn",
        "outputId": "27049398-be1c-40d8-8c57-b8aa359f8da5"
      },
      "outputs": [],
      "source": [
        "m = pickle.load(open(\"best_model_svd\", 'rb'))\n",
        "m.predict('6', '908')"
      ]
    },
    {
      "cell_type": "code",
      "execution_count": null,
      "metadata": {
        "id": "Sz6kxaOT70Al"
      },
      "outputs": [],
      "source": []
    }
  ],
  "metadata": {
    "colab": {
      "collapsed_sections": [],
      "include_colab_link": true,
      "name": "Recommender_systems.ipynb",
      "provenance": []
    },
    "kernelspec": {
      "display_name": "Python 3",
      "language": "python",
      "name": "python3"
    },
    "language_info": {
      "codemirror_mode": {
        "name": "ipython",
        "version": 3
      },
      "file_extension": ".py",
      "mimetype": "text/x-python",
      "name": "python",
      "nbconvert_exporter": "python",
      "pygments_lexer": "ipython3",
      "version": "3.9.15"
    }
  },
  "nbformat": 4,
  "nbformat_minor": 0
}
