{
  "cells": [
    {
      "cell_type": "markdown",
      "metadata": {},
      "source": [
        "# Connecting IOT to Google Cloud\n",
        "\n",
        "\n",
        "IOT devices can be a powerful tool when collaborating efficiently together.\n",
        "\n",
        "In order to ensure efficient collaboration, a cloud solution is crucial.\n",
        "\n",
        "In the context of this class, we will be using the [Google Cloud Engine](https://console.cloud.google.com)."
      ]
    },
    {
      "cell_type": "markdown",
      "metadata": {},
      "source": [
        "### Today's walkthrough:\n",
        "\n",
        "- Cloud Endpoint setup \n",
        "    - Cloud functions\n",
        "    - Cloud run\n",
        "- m5 stacks configuration "
      ]
    },
    {
      "cell_type": "markdown",
      "metadata": {},
      "source": [
        "## Cloud Endpoint setup\n",
        "### FUNCTION AS A SERVICE\n",
        "#### Cloud console setup\n",
        "To set up our Cloud engine, we have to first go to the google cloud console. \n",
        "This is where our computer will execute the functions we predefined (on the Google Cloud console) once we call them from any device. \n",
        "Here we will see how to use the Function as a Service feature. \n",
        "To acccess it you have to see all products from the console. After this, you have to select \"serverless\" and \"Cloud functions\".\n",
        "\n",
        "After this, you have to select \"serverless\" and \"Cloud functions\".\n",
        "\n",
        "![](static/images/FaasI1.png)\n",
        "![](static/images/FaasI2.png)\n",
        "After this page, you will be prompted to create a new function. Here are the main things to look out or when you do this:\n",
        "![](static/images/FaaS1.png)\n",
        "1. This defines the environment, meaning the performances of\n",
        "our engine. For most cases, 1st gen is sufficient; no need to dig\n",
        "deeper. For the few cases where this would prove insufficient,\n",
        "2nd generation is here to pick up the slack. An example where\n",
        "we could use different ones would be to train a model and to\n",
        "predict a value with this given model.\n",
        "2. This defines our internal name for the function. It is also\n",
        "mentioned to the API link (the entry point to the API).\n",
        "3. This 3rd point is where you get the (automatically generated)\n",
        "API link. This is an entry point to your function. (You can also\n",
        "find it later on, so don’t worry if you don’t save it).\n",
        "⇒ Once everything is finished here, you just have to select \"Enregistrer\"/\"save\". On the next page, you will be prompted to set a new\n",
        "function.\n",
        "![](static/images/FaaS2.png)\n",
        "You can freely edit this function to suit your needs"
      ]
    },
    {
      "cell_type": "markdown",
      "metadata": {},
      "source": [
        "### Cloud Run\n",
        "Another efficient way to host an entire environment to the cloud is through a docker application\n",
        "\n",
        "\n",
        "Docker applications allow us to efficiently test our application locally (on your device), and, deploy them as is to a server.\n",
        "\n",
        "In our case, we have built a simple flask app which you may find under the name \"main.py\" in this directory.\n",
        "\n",
        "In order to convert this file into a docker image, a dockerfile has to be created.\n",
        "\n",
        "More details on how to create said image can be found [here](https://docs.docker.com/build/building/base-images/)\n",
        "\n",
        "_note for TA's_ do a demonstration on how to install docker at this stage and create an image\n",
        "\n",
        "If you have difficulty creating your image, you may reuse [this one: docker.io/skonsta/iot-flask-server:latest](docker.io/skonsta/iot-flask-server:latest)"
      ]
    },
    {
      "cell_type": "markdown",
      "metadata": {},
      "source": [
        "#### Deploying a docker image on cloud run:\n",
        "To deploy a docker image on cloud run, you have to create a new run service on the [cloud console](https://console.cloud.google.com/run)\n",
        "\n",
        "On the new service creation page, you have to pay particular attention to 3 parameters:\n",
        "- The URL where the image may be found\n",
        "- Whether or not to allow unauthorized calls (You won't need to create a security token to communicate from your iot device to the cloud)\n",
        "- The port on which the service will be running, it needs to be aligned in flask, dockerfile and GCE, in our case we will use the port 80.\n",
        "\n",
        "The other parameters will affect cost effectiveness. \n",
        "![](static/images/cloudrun1.png)![](static/images/cloudrun2.png)![](static/images/cloudrun4.png)"
      ]
    },
    {
      "cell_type": "markdown",
      "metadata": {},
      "source": [
        "Once your Cloud Run is setup, you will obtain a url from which you may reach your application."
      ]
    },
    {
      "cell_type": "markdown",
      "metadata": {},
      "source": [
        "# Your turn:\n",
        "Setup your docker and Cloud Run\n",
        "\n",
        "_Note for TA's_: there are exercises printed on the html file"
      ]
    },
    {
      "cell_type": "markdown",
      "metadata": {
        "id": "EdoqCWWmeAlu"
      },
      "source": [
        "## Connecting m5 devices to cloud functions \n",
        "\n",
        "The simplest and most intuitive way to connect an iOT device to a cloud platform, is through api request calls."
      ]
    },
    {
      "cell_type": "code",
      "execution_count": null,
      "metadata": {
        "id": "05rSlAJZjJem"
      },
      "outputs": [],
      "source": [
        "# Sending Data to a POST Cloud Function\n",
        "try:\n",
        "  req = urequests.request(method='POST', url='Your_URL_here',json={data}, headers={})\n",
        "  gc.collect()\n",
        "  req.close()\n",
        "except:\n",
        "  pass"
      ]
    },
    {
      "cell_type": "code",
      "execution_count": null,
      "metadata": {
        "id": "vuuAu7_ljjWf"
      },
      "outputs": [],
      "source": [
        "# Retrieving Data From a POST Cloud Function\n",
        "try:\n",
        "  req = urequests.request(method='GET', url='Your_URL_here', headers={})\n",
        "  result = req.text\n",
        "  gc.collect()\n",
        "  req.close()\n",
        "except:\n",
        "  pass"
      ]
    },
    {
      "cell_type": "markdown",
      "metadata": {
        "id": "fTVc9IKMoG7M"
      },
      "source": [
        "On the server side two functions would be needed, one to receive the data, and one to send it. Those can be similar to the ones developped during the first lab of the semester.\n",
        "\n",
        "⚠️ Those functions must have http requests enabled."
      ]
    },
    {
      "cell_type": "markdown",
      "metadata": {
        "id": "wQ8FRyh3pT72"
      },
      "source": [
        "## Regularly updating the data and collecting server details\n",
        "In most environments where you will need an endless loop, the option while True can be exploited.\n",
        "\n",
        "This option, allows us to repeate an api call for as long as needed."
      ]
    },
    {
      "cell_type": "code",
      "execution_count": null,
      "metadata": {
        "id": "wxgGAmzxiujq"
      },
      "outputs": [],
      "source": [
        "while True:\n",
        "  # This will create an endless loop in any Python and micropython environment,\n",
        "  # It can be used to continuously execute the contents of the function\n",
        "  pass"
      ]
    },
    {
      "cell_type": "markdown",
      "metadata": {
        "id": "7bML2bepp8hJ"
      },
      "source": [
        "It is not recommended to have an endless loop executing instantly.\n",
        "\n",
        "In most practical situations it is recommended to intefrate a timer function ensuring that this function will not be executed all that often.\n",
        "\n",
        "This is particularly true when API calls are concerned in order to ensure no accidental DOS will happen and that no excessive amount of requests will be done (as those can quickly cost too much)\n"
      ]
    },
    {
      "cell_type": "code",
      "execution_count": null,
      "metadata": {
        "id": "T5w7dumjp8Lo"
      },
      "outputs": [],
      "source": [
        "while True:\n",
        "  #Your code here\n",
        "  wait(1) # The delay to wait between executions of your code, in miliseconds."
      ]
    },
    {
      "cell_type": "markdown",
      "metadata": {
        "id": "6vH27ddirNBI"
      },
      "source": [
        "If in some situation you want to break this loop (for example if the network got disconnected), you may use the \"break\" python keywork.\n",
        "\n",
        "This keyword will automatically stop the loop"
      ]
    },
    {
      "cell_type": "code",
      "execution_count": null,
      "metadata": {
        "id": "unKX7RIor3lX"
      },
      "outputs": [],
      "source": [
        "while True:\n",
        "  #Your code here\n",
        "\n",
        "  if !wifiCfg.wlan_sta.isconnected(): #check if the wifi connection is disconnected\n",
        "    break\n",
        "  wait(1)"
      ]
    },
    {
      "cell_type": "markdown",
      "metadata": {
        "id": "X5xEm528fKYM"
      },
      "source": [
        "# Creating a Flask endpoint for your IOT device\n"
      ]
    },
    {
      "cell_type": "code",
      "execution_count": null,
      "metadata": {
        "id": "FWps_BaYfPBY"
      },
      "outputs": [],
      "source": [
        "@app.route('/addData')\n",
        "def createcm():\n",
        "   value1  = request.args.get('value1', None)\n",
        "   value2  = request.args.get('value2', None)\n",
        "   if value1 != None and value2 !=None:\n",
        "      #Your code here\n",
        "      return \"Data Received Successfully\"\n"
      ]
    }
  ],
  "metadata": {
    "colab": {
      "provenance": []
    },
    "kernelspec": {
      "display_name": "Python 3",
      "name": "python3"
    },
    "language_info": {
      "name": "python"
    }
  },
  "nbformat": 4,
  "nbformat_minor": 0
}
