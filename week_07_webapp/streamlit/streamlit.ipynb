{
 "cells": [
  {
   "cell_type": "code",
   "execution_count": 1,
   "metadata": {},
   "outputs": [],
   "source": [
    "import streamlit as st"
   ]
  },
  {
   "attachments": {},
   "cell_type": "markdown",
   "metadata": {},
   "source": [
    "## INSTALLATION"
   ]
  },
  {
   "cell_type": "code",
   "execution_count": null,
   "metadata": {},
   "outputs": [],
   "source": [
    "!pip install --upgrade streamlit"
   ]
  },
  {
   "cell_type": "code",
   "execution_count": null,
   "metadata": {},
   "outputs": [],
   "source": [
    "# Let's run the demo app to discover what Streamlit is all about\n",
    "!streamlit hello"
   ]
  },
  {
   "attachments": {},
   "cell_type": "markdown",
   "metadata": {},
   "source": [
    "## DATA"
   ]
  },
  {
   "cell_type": "code",
   "execution_count": 1,
   "metadata": {},
   "outputs": [],
   "source": [
    "import pandas as pd"
   ]
  },
  {
   "cell_type": "code",
   "execution_count": 4,
   "metadata": {},
   "outputs": [
    {
     "data": {
      "text/html": [
       "<div>\n",
       "<style scoped>\n",
       "    .dataframe tbody tr th:only-of-type {\n",
       "        vertical-align: middle;\n",
       "    }\n",
       "\n",
       "    .dataframe tbody tr th {\n",
       "        vertical-align: top;\n",
       "    }\n",
       "\n",
       "    .dataframe thead th {\n",
       "        text-align: right;\n",
       "    }\n",
       "</style>\n",
       "<table border=\"1\" class=\"dataframe\">\n",
       "  <thead>\n",
       "    <tr style=\"text-align: right;\">\n",
       "      <th></th>\n",
       "      <th>Date/Time</th>\n",
       "      <th>Lat</th>\n",
       "      <th>Lon</th>\n",
       "      <th>Base</th>\n",
       "    </tr>\n",
       "  </thead>\n",
       "  <tbody>\n",
       "    <tr>\n",
       "      <th>664379</th>\n",
       "      <td>2014-09-03 11:54:00</td>\n",
       "      <td>40.6874</td>\n",
       "      <td>-73.9258</td>\n",
       "      <td>B02682</td>\n",
       "    </tr>\n",
       "    <tr>\n",
       "      <th>195968</th>\n",
       "      <td>2014-09-20 11:30:00</td>\n",
       "      <td>40.7309</td>\n",
       "      <td>-74.0029</td>\n",
       "      <td>B02598</td>\n",
       "    </tr>\n",
       "    <tr>\n",
       "      <th>886635</th>\n",
       "      <td>2014-09-09 17:58:00</td>\n",
       "      <td>40.7282</td>\n",
       "      <td>-74.0071</td>\n",
       "      <td>B02764</td>\n",
       "    </tr>\n",
       "    <tr>\n",
       "      <th>295832</th>\n",
       "      <td>2014-09-03 07:01:00</td>\n",
       "      <td>40.7139</td>\n",
       "      <td>-74.0104</td>\n",
       "      <td>B02617</td>\n",
       "    </tr>\n",
       "    <tr>\n",
       "      <th>955105</th>\n",
       "      <td>2014-09-20 19:30:00</td>\n",
       "      <td>40.6694</td>\n",
       "      <td>-73.9868</td>\n",
       "      <td>B02764</td>\n",
       "    </tr>\n",
       "    <tr>\n",
       "      <th>689128</th>\n",
       "      <td>2014-09-06 16:54:00</td>\n",
       "      <td>40.7487</td>\n",
       "      <td>-73.9840</td>\n",
       "      <td>B02682</td>\n",
       "    </tr>\n",
       "    <tr>\n",
       "      <th>1014748</th>\n",
       "      <td>2014-09-29 06:27:00</td>\n",
       "      <td>40.6870</td>\n",
       "      <td>-73.9968</td>\n",
       "      <td>B02764</td>\n",
       "    </tr>\n",
       "    <tr>\n",
       "      <th>237263</th>\n",
       "      <td>2014-09-25 21:32:00</td>\n",
       "      <td>40.7298</td>\n",
       "      <td>-74.0041</td>\n",
       "      <td>B02598</td>\n",
       "    </tr>\n",
       "    <tr>\n",
       "      <th>163554</th>\n",
       "      <td>2014-09-16 18:16:00</td>\n",
       "      <td>40.7449</td>\n",
       "      <td>-73.9872</td>\n",
       "      <td>B02598</td>\n",
       "    </tr>\n",
       "    <tr>\n",
       "      <th>463237</th>\n",
       "      <td>2014-09-15 11:56:00</td>\n",
       "      <td>40.7666</td>\n",
       "      <td>-73.9611</td>\n",
       "      <td>B02617</td>\n",
       "    </tr>\n",
       "  </tbody>\n",
       "</table>\n",
       "</div>"
      ],
      "text/plain": [
       "                  Date/Time      Lat      Lon    Base\n",
       "664379  2014-09-03 11:54:00  40.6874 -73.9258  B02682\n",
       "195968  2014-09-20 11:30:00  40.7309 -74.0029  B02598\n",
       "886635  2014-09-09 17:58:00  40.7282 -74.0071  B02764\n",
       "295832  2014-09-03 07:01:00  40.7139 -74.0104  B02617\n",
       "955105  2014-09-20 19:30:00  40.6694 -73.9868  B02764\n",
       "689128  2014-09-06 16:54:00  40.7487 -73.9840  B02682\n",
       "1014748 2014-09-29 06:27:00  40.6870 -73.9968  B02764\n",
       "237263  2014-09-25 21:32:00  40.7298 -74.0041  B02598\n",
       "163554  2014-09-16 18:16:00  40.7449 -73.9872  B02598\n",
       "463237  2014-09-15 11:56:00  40.7666 -73.9611  B02617"
      ]
     },
     "execution_count": 4,
     "metadata": {},
     "output_type": "execute_result"
    }
   ],
   "source": [
    "df = pd.read_csv(\"https://github.com/streamlit/demo-uber-nyc-pickups/raw/main/uber-raw-data-sep14.csv.gz\", compression=\"gzip\", parse_dates=[\"Date/Time\"])\n",
    "df.sample(10)"
   ]
  },
  {
   "cell_type": "code",
   "execution_count": 5,
   "metadata": {},
   "outputs": [
    {
     "data": {
      "text/plain": [
       "Date/Time    datetime64[ns]\n",
       "Lat                 float64\n",
       "Lon                 float64\n",
       "Base                 object\n",
       "dtype: object"
      ]
     },
     "execution_count": 5,
     "metadata": {},
     "output_type": "execute_result"
    }
   ],
   "source": [
    "df.dtypes"
   ]
  },
  {
   "cell_type": "code",
   "execution_count": null,
   "metadata": {},
   "outputs": [],
   "source": []
  }
 ],
 "metadata": {
  "kernelspec": {
   "display_name": "base",
   "language": "python",
   "name": "python3"
  },
  "language_info": {
   "codemirror_mode": {
    "name": "ipython",
    "version": 3
   },
   "file_extension": ".py",
   "mimetype": "text/x-python",
   "name": "python",
   "nbconvert_exporter": "python",
   "pygments_lexer": "ipython3",
   "version": "3.9.15"
  },
  "orig_nbformat": 4
 },
 "nbformat": 4,
 "nbformat_minor": 2
}
