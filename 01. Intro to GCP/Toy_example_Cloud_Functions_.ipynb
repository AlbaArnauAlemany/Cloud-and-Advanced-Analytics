{
  "nbformat": 4,
  "nbformat_minor": 0,
  "metadata": {
    "colab": {
      "provenance": []
    },
    "kernelspec": {
      "name": "python3",
      "display_name": "Python 3"
    },
    "language_info": {
      "name": "python"
    }
  },
  "cells": [
    {
      "cell_type": "code",
      "execution_count": null,
      "metadata": {
        "id": "wapBfoKtS00f"
      },
      "outputs": [],
      "source": [
        "import requests\n",
        "url = \"\" # Insert here the URL of your Cloud function\n",
        "data = {'name': 'Roberto'}\n",
        "response = requests.post(url, data = data)\n",
        "print(response.content)"
      ]
    },
    {
      "cell_type": "code",
      "source": [],
      "metadata": {
        "id": "fdun2n91Taxv"
      },
      "execution_count": null,
      "outputs": []
    }
  ]
}