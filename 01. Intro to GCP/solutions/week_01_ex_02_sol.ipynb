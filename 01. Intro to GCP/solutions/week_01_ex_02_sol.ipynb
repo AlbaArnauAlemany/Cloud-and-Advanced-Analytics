{
  "cells": [
    {
      "cell_type": "markdown",
      "metadata": {
        "id": "OO9aQhqOlEt9"
      },
      "source": [
        "# Solution"
      ]
    },
    {
      "cell_type": "markdown",
      "metadata": {
        "id": "YFu3YAtflICC"
      },
      "source": [
        "This is the function to be written on GCloud"
      ]
    },
    {
      "cell_type": "code",
      "execution_count": null,
      "metadata": {
        "id": "0IPZHn7-lAeB"
      },
      "outputs": [],
      "source": [
        "import functions_framework\n",
        "import requests\n",
        "import json\n",
        "\n",
        "@functions_framework.http\n",
        "def request_stock(request):\n",
        "    request_json = request.get_json(silent=True)\n",
        "    request_args = request.args\n",
        "\n",
        "    if request_json and 'stock' in request_json:\n",
        "        stock = request_json['stock']\n",
        "    elif request_args and 'stock' in request_args:\n",
        "        stock = request_args['stock']\n",
        "    else:\n",
        "        stock = 'ZM'\t\n",
        "\n",
        "    r = requests.get('https://www.alphavantage.co/query?function=TIME_SERIES_INTRADAY&symbol={}&interval=5min&apikey=YOURAPIKEY'.format(stock))\n",
        "    obj = json.loads(r.text)\n",
        "    date = obj[\"Meta Data\"]['3. Last Refreshed']\n",
        "    latest_stock_values = obj['Time Series (5min)'][date]\n",
        "\n",
        "    return_text = \"Latest stock values for {0}({1}): {2}\".format(stock, date, json.dumps(latest_stock_values))\n",
        "    return return_text\n"
      ]
    },
    {
      "cell_type": "markdown",
      "metadata": {
        "id": "-jpRMwBalSAI"
      },
      "source": [
        "This is the code to call it"
      ]
    },
    {
      "cell_type": "code",
      "execution_count": null,
      "metadata": {
        "id": "9oqrFqXylNNo"
      },
      "outputs": [],
      "source": [
        "import requests\n",
        "url = \"YOURFUNCTLINK\" # Insert here the URL of your Cloud function\n",
        "data = {\"stock\":\"IBM\"}\n",
        "response = requests.post(url, data = data)\n",
        "print(response.content)"
      ]
    }
  ],
  "metadata": {
    "colab": {
      "provenance": []
    },
    "kernelspec": {
      "display_name": "base",
      "language": "python",
      "name": "python3"
    },
    "language_info": {
      "codemirror_mode": {
        "name": "ipython",
        "version": 3
      },
      "file_extension": ".py",
      "mimetype": "text/x-python",
      "name": "python",
      "nbconvert_exporter": "python",
      "pygments_lexer": "ipython3",
      "version": "3.9.15"
    },
    "vscode": {
      "interpreter": {
        "hash": "b0cc462c96df3621bcc58e01fadcdf9264a069c5c4bbf07201077bb349d3c6bf"
      }
    }
  },
  "nbformat": 4,
  "nbformat_minor": 0
}
