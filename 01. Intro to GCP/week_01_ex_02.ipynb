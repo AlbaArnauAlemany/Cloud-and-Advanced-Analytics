{
  "cells": [
    {
      "cell_type": "markdown",
      "metadata": {
        "id": "Q_S_R0BIx3BG"
      },
      "source": [
        "# Code for the cloud function exercise\n"
      ]
    },
    {
      "cell_type": "markdown",
      "metadata": {
        "id": "bXbA2eSFlyfX"
      },
      "source": [
        "Create your free API Key from alphavintage.co.\n",
        "Then, open separately a web page to see the JSON data we work with: https://www.alphavantage.co/query?function=TIME_SERIES_INTRADAY&symbol=AAPL&interval=5min&apikey=YOURKEY\n"
        "The following is the “Hello world” cloud function from which you should start."
      ]
    },
    {
      "cell_type": "code",
      "execution_count": null,
      "metadata": {
        "id": "VqoaXKVS1Q1i"
      },
      "outputs": [],
      "source": [
        "# this is the code provided by default by GCP for the hello world app (python). Use it as the baseline!\n",
        "\n",
        "def hello_world(request):\n",
        "    \"\"\"Responds to any HTTP request.\n",
        "    Args:\n",
        "        request (flask.Request): HTTP request object.\n",
        "    Returns:\n",
        "        The response text or any set of values that can be turned into a\n",
        "        Response object using\n",
        "        `make_response <http://flask.pocoo.org/docs/1.0/api/#flask.Flask.make_response>`.\n",
        "    \"\"\"\n",
        "    request_json = request.get_json()\n",
        "    if request.args and 'message' in request.args:\n",
        "        return request.args.get('message')\n",
        "    elif request_json and 'message' in request_json:\n",
        "        return request_json['message']\n",
        "    else:\n",
        "        return f'Hello World!'"
      ]
    },
    {
      "cell_type": "markdown",
      "metadata": {
        "id": "wjdP9VhA08VX"
      },
      "source": [
        "# Some further explanation\n",
        "\n",
        "To extract the precise info, it's important to inspect the json file! The following is the code to extract the needed info from the api response. You should include this in the cloud function."
      ]
    },
    {
      "cell_type": "code",
      "execution_count": null,
      "metadata": {},
      "outputs": [],
      "source": [
        "import requests\n",
        "import json"
      ]
    },
    {
      "cell_type": "code",
      "execution_count": null,
      "metadata": {
        "id": "zRevuZRPmLsS"
      },
      "outputs": [],
      "source": [
        "# this is the json data read by the function\n",
        "r = requests.get('https://www.alphavantage.co/query?function=TIME_SERIES_DAILY&symbol={}&apikey=YOURAPIKEY'.format('ZM'))"
      ]
    },
    {
      "cell_type": "code",
      "execution_count": null,
      "metadata": {
        "colab": {
          "base_uri": "https://localhost:8080/",
          "height": 200
        },
        "id": "pK_CVG4JmcIm",
        "outputId": "501f3d78-7a27-466c-e8cb-48155b621d54"
      },
      "outputs": [],
      "source": [
        "# you can have a look at it with .text\n",
        "r.text"
      ]
    },
    {
      "cell_type": "code",
      "execution_count": null,
      "metadata": {
        "colab": {
          "base_uri": "https://localhost:8080/"
        },
        "id": "cbIFzZ4dyZpz",
        "outputId": "9209e8b1-65e0-4666-c422-e6f3021439b1"
      },
      "outputs": [],
      "source": [
        "# or even better in a nice josn format\n",
        "json.loads(r.text)"
      ]
    },
    {
      "cell_type": "code",
      "execution_count": null,
      "metadata": {
        "colab": {
          "base_uri": "https://localhost:8080/",
          "height": 57
        },
        "id": "slCfyHltniYC",
        "outputId": "0bd6228f-c4a6-4269-96a4-8fbe5c614505"
      },
      "outputs": [],
      "source": [
        "# to extract the latest date from our json object\n",
        "date = json.loads(r.text)[\"Meta Data\"]['3. Last Refreshed']\n",
        "print(date)"
      ]
    },
    {
      "cell_type": "code",
      "execution_count": null,
      "metadata": {
        "colab": {
          "base_uri": "https://localhost:8080/",
          "height": 75
        },
        "id": "QUVlh4GvrkNU",
        "outputId": "c7db7e37-63b6-467b-d544-7f75fb173c98"
      },
      "outputs": [],
      "source": [
        "# to extract the values for this latest date in a flat format\n",
        "json.dumps(json.loads(r.text)['Time Series (5 min)'][date])"
      ]
    }
  ],
  "metadata": {
    "colab": {
      "provenance": []
    },
    "kernelspec": {
      "display_name": "base",
      "language": "python",
      "name": "python3"
    },
    "language_info": {
      "codemirror_mode": {
        "name": "ipython",
        "version": 3
      },
      "file_extension": ".py",
      "mimetype": "text/x-python",
      "name": "python",
      "nbconvert_exporter": "python",
      "pygments_lexer": "ipython3",
      "version": "3.9.15"
    },
    "vscode": {
      "interpreter": {
        "hash": "b0cc462c96df3621bcc58e01fadcdf9264a069c5c4bbf07201077bb349d3c6bf"
      }
    }
  },
  "nbformat": 4,
  "nbformat_minor": 0
}
