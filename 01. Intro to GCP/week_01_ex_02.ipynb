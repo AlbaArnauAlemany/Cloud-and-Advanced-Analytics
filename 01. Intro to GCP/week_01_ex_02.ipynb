{
  "cells": [
    {
      "cell_type": "markdown",
      "metadata": {
        "id": "Q_S_R0BIx3BG"
      },
      "source": [
        "# Code for the cloud function exercise\n"
      ]
    },
    {
      "attachments": {},
      "cell_type": "markdown",
      "metadata": {},
      "source": [
        "The goal of this exercise is to allow you to gain familiarity with Cloud Functions. You will create a cloud function that, given the ticker of a company, will return the last value of the stock recorded, using an API.\n",
        "\n",
        "You will need to do 2 things: write a function on gcp in Python and call the function from a notebook (either in Colab or in Jupyter). \n",
        "\n",
        "The function will need to be based on the default “Hello world” function (below). You will need to add a call to the api, and extract the relevant info from the api response (the lines of code to do this are also available below).\n",
        "\n",
        "Finally, the code to call the function from a Python notebook is provided as well.\n"
      ]
    },
    {
      "attachments": {},
      "cell_type": "markdown",
      "metadata": {},
      "source": [
        "## Template for the cloud function"
      ]
    },
    {
      "attachments": {},
      "cell_type": "markdown",
      "metadata": {
        "id": "bXbA2eSFlyfX"
      },
      "source": [
        "First, create your free API Key from alphavintage.co.\n",
        "Then, open separately a web page to see the JSON data we work with: https://www.alphavantage.co/query?function=TIME_SERIES_INTRADAY&symbol=AAPL&interval=5min&apikey=YOURKEY\n",
        "\n",
        "The following is the “Hello world” cloud function from which you should start. \n"
      ]
    },
    {
      "cell_type": "code",
      "execution_count": null,
      "metadata": {
        "id": "VqoaXKVS1Q1i"
      },
      "outputs": [],
      "source": [
        "# this is the code provided by default by GCP for the hello world app (python). Use it as the baseline!\n",
        "\n",
        "def hello_world(request):\n",
        "    \"\"\"Responds to any HTTP request.\n",
        "    Args:\n",
        "        request (flask.Request): HTTP request object.\n",
        "    Returns:\n",
        "        The response text or any set of values that can be turned into a\n",
        "        Response object using\n",
        "        `make_response <http://flask.pocoo.org/docs/1.0/api/#flask.Flask.make_response>`.\n",
        "    \"\"\"\n",
        "    request_json = request.get_json()\n",
        "    if request.args and 'message' in request.args:\n",
        "        return request.args.get('message')\n",
        "    elif request_json and 'message' in request_json:\n",
        "        return request_json['message']\n",
        "    else:\n",
        "        return f'Hello World!'"
      ]
    },
    {
      "attachments": {},
      "cell_type": "markdown",
      "metadata": {
        "id": "wjdP9VhA08VX"
      },
      "source": [
        "# Extracting the relevant info from the API response\n",
        "\n",
        "To extract the precise info, it's important to inspect the json file! The following is the code to extract the needed info from the api response. You should include this in the cloud function.\n"
      ]
    },
    {
      "cell_type": "code",
      "execution_count": null,
      "metadata": {
        "id": "zRevuZRPmLsS"
      },
      "outputs": [],
      "source": [
        "import requests\n",
        "import json\n",
        "\n",
        "# this is the json data read by the function\n",
        "r = requests.get('https://www.alphavantage.co/query?function=TIME_SERIES_DAILY&symbol={}&apikey=YOURAPIKEY'.format('ZM'))"
      ]
    },
    {
      "cell_type": "code",
      "execution_count": null,
      "metadata": {
        "colab": {
          "base_uri": "https://localhost:8080/",
          "height": 200
        },
        "id": "pK_CVG4JmcIm",
        "outputId": "501f3d78-7a27-466c-e8cb-48155b621d54"
      },
      "outputs": [],
      "source": [
        "# you can have a look at it with .text\n",
        "r.text"
      ]
    },
    {
      "cell_type": "code",
      "execution_count": null,
      "metadata": {
        "colab": {
          "base_uri": "https://localhost:8080/"
        },
        "id": "cbIFzZ4dyZpz",
        "outputId": "9209e8b1-65e0-4666-c422-e6f3021439b1"
      },
      "outputs": [],
      "source": [
        "# or even better in a nice json format\n",
        "json.loads(r.text)"
      ]
    },
    {
      "cell_type": "code",
      "execution_count": null,
      "metadata": {
        "colab": {
          "base_uri": "https://localhost:8080/",
          "height": 57
        },
        "id": "slCfyHltniYC",
        "outputId": "0bd6228f-c4a6-4269-96a4-8fbe5c614505"
      },
      "outputs": [],
      "source": [
        "# to extract the latest date from our json object\n",
        "date = json.loads(r.text)[\"Meta Data\"]['3. Last Refreshed']\n",
        "print(date)"
      ]
    },
    {
      "cell_type": "code",
      "execution_count": null,
      "metadata": {
        "colab": {
          "base_uri": "https://localhost:8080/",
          "height": 75
        },
        "id": "QUVlh4GvrkNU",
        "outputId": "c7db7e37-63b6-467b-d544-7f75fb173c98"
      },
      "outputs": [],
      "source": [
        "# to extract the values for this latest date in a flat format\n",
        "json.dumps(json.loads(r.text)['Time Series (5 min)'][date])"
      ]
    },
    {
      "attachments": {},
      "cell_type": "markdown",
      "metadata": {},
      "source": [
        "# Calling the function"
      ]
    },
    {
      "attachments": {},
      "cell_type": "markdown",
      "metadata": {},
      "source": [
        "The followings are the lines of code to call the cloud function from Colab or Jupyter. "
      ]
    },
    {
      "cell_type": "code",
      "execution_count": null,
      "metadata": {},
      "outputs": [],
      "source": [
        "url = \"\" # Insert here the URL of your Cloud function\n",
        "data = {'stock': 'ZM'}\n",
        "response = requests.post(url, data = data)\n",
        "print(response.content)"
      ]
    }
  ],
  "metadata": {
    "colab": {
      "provenance": []
    },
    "kernelspec": {
      "display_name": "nostoivenv",
      "language": "python",
      "name": "python3"
    },
    "language_info": {
      "codemirror_mode": {
        "name": "ipython",
        "version": 3
      },
      "file_extension": ".py",
      "mimetype": "text/x-python",
      "name": "python",
      "nbconvert_exporter": "python",
      "pygments_lexer": "ipython3",
      "version": "3.8.0"
    },
    "vscode": {
      "interpreter": {
        "hash": "5f0d6077b5f47924a573dc823c7b5e9e8bd103af2cded8e218b995083323f23c"
      }
    }
  },
  "nbformat": 4,
  "nbformat_minor": 0
}
