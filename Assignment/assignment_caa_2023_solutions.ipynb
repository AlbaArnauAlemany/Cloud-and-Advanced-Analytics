{
  "cells": [
    {
      "cell_type": "markdown",
      "metadata": {
        "id": "MebLMgxNmbDR"
      },
      "source": [
        "<h1><b><center>Cloud and Advanced Analytics: Personal Assignment 2023</center></b></h1>"
      ]
    },
    {
      "attachments": {},
      "cell_type": "markdown",
      "metadata": {
        "id": "9-im1klQmbDT"
      },
      "source": [
        "**Contents**: the assignment covers 3 topics:\n",
        "1. BigQuery\n",
        "2. IoT \n",
        "3. Recommender Systems in Python\n",
        "\n",
        "**Due: Apr 2, 2023, 23.59pm** <u>(notebook + quiz)</u>\n",
        "\n",
        "**Clarifications**: You can post your questions in slack channel #assignments. If necessary we will update the notebook accordingly (so make sure to check for updates on GitHub). \n",
        "\n",
        "**Grading**: The personal assignment is worth **30%** of your final grade. For your work to be graded, you must:\n",
        "\n",
        "* Upload your completed notebook on [Moodle](https://moodle.unil.ch/mod/assign/view.php?id=1482850&forceview=1)\n",
        "* Answer all questions in the Moodle Quiz. We will check that your quiz answers reflect the responses provided in the notebook. \n",
        "\n",
        ">Note: You can only complete the quiz one time. Have your notebook with the answers ready for answering the quiz. \n",
        "\n",
        "**Personal work**: Note that this assignment represents strictly *personal* work. Do not share it with your colleagues. Just do as much as you can on your own. Your code will be compared to that your colleagues. In case of statistically high similarity, you will receive a grade of zero.\n",
        "\n",
        "\n",
        "Good Luck and Enjoy ☀"
      ]
    },
    {
      "cell_type": "markdown",
      "metadata": {
        "id": "iFhaDH4EmbDV"
      },
      "source": [
        "----"
      ]
    },
    {
      "cell_type": "markdown",
      "metadata": {
        "id": "bGwn5QuXmbDW"
      },
      "source": [
        "# Phase 1: BigQuery and SQL"
      ]
    },
    {
      "cell_type": "markdown",
      "metadata": {
        "id": "F6p8Oo2cmbDX"
      },
      "source": [
        "In this first part, you will explore a dataset using Google BigQuery. Similar to week 2, you will connect to BigQuery, upload the data and access it in the notebook. Your job is to write SQL queries to answer the questions below. \n",
        "\n",
        "**Caution**: Do not forget that each user receives a limited amount of free data processing every month in BigQuery, which can be used to run queries on any dataset. Given the size of the datasets that you will query, performing a lot of queries can result in exceeding your free monthly quota. Therefore, you should try to avoid queries that have a big output. The solution is simple: always remember to use the **LIMIT** keyword (especially if you are not sure about the output of your query) to limit the size of the output. You can also write the query on the Google Console, and it will estimate the size of the query. Consider that you have 4TB in total.\n"
      ]
    },
    {
      "cell_type": "markdown",
      "metadata": {
        "id": "9Z-7kfZqmbDY"
      },
      "source": [
        "## Connecting to BigQuery"
      ]
    },
    {
      "cell_type": "markdown",
      "metadata": {
        "id": "DYaAVqgtmbDZ"
      },
      "source": [
        "To make things easier, we advise you to work in **Google Colab**. "
      ]
    },
    {
      "cell_type": "markdown",
      "metadata": {
        "id": "fHmYtbLGmbDZ"
      },
      "source": [
        "**For Google Colab users**"
      ]
    },
    {
      "cell_type": "code",
      "execution_count": null,
      "metadata": {
        "colab": {
          "base_uri": "https://localhost:8080/"
        },
        "id": "UDtZ4UhnmbDa",
        "outputId": "5c550fe0-7fb6-4dba-85b5-4c2c16f7c212"
      },
      "outputs": [
        {
          "name": "stdout",
          "output_type": "stream",
          "text": [
            "Authenticated\n"
          ]
        }
      ],
      "source": [
        "from google.colab import auth\n",
        "\n",
        "auth.authenticate_user()\n",
        "print(\"Authenticated\")"
      ]
    },
    {
      "cell_type": "markdown",
      "metadata": {
        "id": "uFpBJbYYmbDc"
      },
      "source": [
        "**For Jupyter users**"
      ]
    },
    {
      "cell_type": "markdown",
      "metadata": {
        "id": "aeG2pVMQmbDd"
      },
      "source": [
        "Make sure to replace \"PATH_TO_CREDENTIALS_FILE\" with the *absolute* path to the JSON service account key, e.g., \"C:/Users/John/credentials.json\"."
      ]
    },
    {
      "cell_type": "code",
      "execution_count": null,
      "metadata": {
        "id": "jt5UDPUYmbDe"
      },
      "outputs": [],
      "source": [
        "!pip install google-cloud-bigquery"
      ]
    },
    {
      "cell_type": "code",
      "execution_count": null,
      "metadata": {
        "id": "M-mnxbDqmbDg"
      },
      "outputs": [],
      "source": [
        "import os\n",
        "PROJECT_NAME = \"cloud-analytics-init\" # REPLACE WITH YOUR PROJECT NAME\n",
        "# The following line will try to locate the `google_key.json` file in the parent directory of this git repository.\n",
        "PATH_TO_CREDENTIALS_FILE = os.path.join(os.path.dirname(os.path.dirname(os.path.dirname(os.getcwd()))), \"google_key.json\") # REPLACE WITH YOUR PATH TO KEY\n",
        "\n",
        "os.environ[\"GOOGLE_APPLICATION_CREDENTIALS\"] = PATH_TO_CREDENTIALS_FILE"
      ]
    },
    {
      "cell_type": "markdown",
      "metadata": {
        "id": "4b-z-3RvmbDh"
      },
      "source": [
        "**Everyone**"
      ]
    },
    {
      "cell_type": "markdown",
      "metadata": {
        "id": "bzI_iAM4mbDi"
      },
      "source": [
        "Make sure to replace the above `PROJECT_NAME` with the ID of one of your Google Cloud projects, where you upload the data from the dats folder of the assignment."
      ]
    },
    {
      "cell_type": "code",
      "execution_count": null,
      "metadata": {
        "id": "g8E2GZAFmbDj"
      },
      "outputs": [],
      "source": [
        "import pandas as pd\n",
        "from google.cloud import bigquery\n",
        "\n",
        "\n",
        "# Create a client for public datasets\n",
        "client = bigquery.Client(project=\"caa-course-sandbox\")\n"
      ]
    },
    {
      "cell_type": "markdown",
      "metadata": {
        "id": "sjnZwo-XmbDk"
      },
      "source": [
        "## 1.1: Public datasets"
      ]
    },
    {
      "cell_type": "markdown",
      "metadata": {
        "id": "_MfIRxo4mbDm"
      },
      "source": [
        "In this very first part, we will be using public datasets available on Google Cloud. For each question, answer by writing a query and executing it on Google BigQuery."
      ]
    },
    {
      "cell_type": "markdown",
      "metadata": {
        "id": "sXBgTBNCmbDn"
      },
      "source": [
        "Use the df `bigquery-public-data.samples.gsod`. \n",
        "#### Question 1.1.1\n",
        "> How many rows are in the gsod dataset for the year 1929?"
      ]
    },
    {
      "cell_type": "code",
      "execution_count": null,
      "metadata": {
        "colab": {
          "base_uri": "https://localhost:8080/"
        },
        "id": "f_oXDeV9mbDo",
        "outputId": "709c17a0-6eef-4a17-d501-bf21029b4f36"
      },
      "outputs": [
        {
          "name": "stdout",
          "output_type": "stream",
          "text": [
            "2081\n"
          ]
        }
      ],
      "source": [
        "# Define the SQL query to retrieve data from a BigQuery dataset\n",
        "query = \"\"\"\n",
        "SELECT COUNT(*) as num_rows\n",
        "FROM `bigquery-public-data.samples.gsod`\n",
        "WHERE year = 1929\n",
        "\"\"\"\n",
        "# Execute the query and get the result\n",
        "result = client.query(query).to_dataframe()\n",
        "\n",
        "# Define the correct answer\n",
        "correct_answer = result['num_rows'][0]\n",
        "print(correct_answer)"
      ]
    },
    {
      "cell_type": "markdown",
      "metadata": {
        "id": "xJnMjRAImbDp"
      },
      "source": [
        "Use the df `bigquery-public-data.world_bank_intl_education.international_education`.\n",
        "#### Question 1.1.2\n",
        "> How many distinct countries are represented in the international_education dataset for the year 2016?\n",
        "> \n",
        "> How many rows are in the international_education dataset for the year 2016?"
      ]
    },
    {
      "cell_type": "code",
      "execution_count": null,
      "metadata": {
        "colab": {
          "base_uri": "https://localhost:8080/"
        },
        "id": "5wa-SLxwmbDq",
        "outputId": "bb81b6ef-5584-4ed2-f87a-0665725d0db1"
      },
      "outputs": [
        {
          "name": "stdout",
          "output_type": "stream",
          "text": [
            "238\n",
            "16460\n"
          ]
        }
      ],
      "source": [
        "\n",
        "# Define the SQL query to retrieve data from a BigQuery dataset\n",
        "query = \"\"\"\n",
        "SELECT\n",
        "    COUNT(DISTINCT country_name) as num_countries,\n",
        "    COUNT(*) as total_rows\n",
        "FROM `bigquery-public-data.world_bank_intl_education.international_education`\n",
        "WHERE year = 2016\n",
        "\"\"\"\n",
        "\n",
        "# Execute the query and get the result\n",
        "result = client.query(query).to_dataframe()\n",
        "\n",
        "# Define the correct answers\n",
        "correct_num_countries = result['num_countries'][0]\n",
        "correct_total_rows = result['total_rows'][0]\n",
        "print(correct_num_countries)\n",
        "print(correct_total_rows)"
      ]
    },
    {
      "cell_type": "markdown",
      "metadata": {
        "id": "kAtt7UkGmbDr"
      },
      "source": [
        "#### Question 1.1.3\n",
        ">What was the average arrival delay and average departure delay for all flights from SFO to LAX in the years from 2000 to 2015 (both included), using the df bigquery-samples.airline_ontime_data.flights?"
      ]
    },
    {
      "cell_type": "code",
      "execution_count": null,
      "metadata": {
        "colab": {
          "base_uri": "https://localhost:8080/"
        },
        "id": "_EBqVNyJxgXQ",
        "outputId": "1a93338b-92df-4448-918c-396079f23988"
      },
      "outputs": [
        {
          "name": "stdout",
          "output_type": "stream",
          "text": [
            "Average arrival delay: 6.72 minutes\n",
            "Average departure delay: 9.45 minutes\n"
          ]
        }
      ],
      "source": [
        "# Define the SQL query to retrieve data from a BigQuery dataset\n",
        "query = \"\"\"\n",
        "SELECT\n",
        "    AVG(SAFE_CAST(arrival_delay AS FLOAT64)) as avg_arr_delay,\n",
        "    AVG(SAFE_CAST(departure_delay AS FLOAT64)) as avg_dep_delay\n",
        "FROM `bigquery-samples.airline_ontime_data.flights`\n",
        "WHERE date >= '2000-01-01' AND date <= '2015-12-31' AND\n",
        "      departure_airport = 'SFO' AND arrival_airport = 'LAX'\n",
        "\"\"\"\n",
        "\n",
        "# Execute the query and get the result\n",
        "result = client.query(query).to_dataframe()\n",
        "\n",
        "# Display the result to the user\n",
        "\n",
        "print(\"Average arrival delay:\", round(result['avg_arr_delay'][0], 2), \"minutes\")\n",
        "print(\"Average departure delay:\", round(result['avg_dep_delay'][0], 2), \"minutes\")\n"
      ]
    },
    {
      "cell_type": "markdown",
      "metadata": {
        "id": "Ox3g1JonmbDs"
      },
      "source": [
        "## 1.2: Private dataset"
      ]
    },
    {
      "cell_type": "markdown",
      "metadata": {
        "id": "EWDHUl4RmbDt"
      },
      "source": [
        "Now, you will need to create a Database on GCP, like we did in the lab of week2. You will find all the files to upload in the \"data\" folder. The folder contains 7 tables.\n",
        "\n",
        "**You will first need to upload them all, in the same BigQuery database, as different tables.**\n",
        "\n",
        "The database is regarding an HR department of the company BestCompanyEver. For this exercise, you will be the main Data Scientist of BestCompanyEver, and you will need to produce the queries to extract relevant data from the database. \n",
        "\n",
        "Once again, answer the questions by writing and executing a query on BigQuery.\n",
        "\n",
        "The following is the structure of the database:\n",
        "\n",
        "\n",
        "<img src=\"database-model-hr-new.gif\" alt=\"Alternative text\" />\n",
        "\n",
        "\n",
        "\n",
        "\n",
        "\n",
        "Credits for the df: w3resource"
      ]
    },
    {
      "cell_type": "markdown",
      "metadata": {
        "id": "pjrPhp-smbDu"
      },
      "source": [
        "#### Question 1.2.1\n",
        "> Connect to your BigQuery dataset and list the tables"
      ]
    },
    {
      "cell_type": "code",
      "execution_count": null,
      "metadata": {
        "colab": {
          "base_uri": "https://localhost:8080/"
        },
        "id": "mIzVpv18mbDv",
        "outputId": "00c3c12e-2f4d-4324-f056-1dea6fc12618"
      },
      "outputs": [
        {
          "name": "stdout",
          "output_type": "stream",
          "text": [
            "countries\n",
            "departments\n",
            "employees\n",
            "job_history\n",
            "jobs\n",
            "locations\n",
            "regions\n"
          ]
        }
      ],
      "source": [
        "# Create a \"Client\" object\n",
        "#client = bigquery.Client(project=\"YOUR-PROJECT-ID\")\n",
        "dataset_ref = client.dataset(\"hr\", project=\"caa-course-sandbox\") \n",
        "dataset = client.get_dataset(dataset_ref)\n",
        "# List the tables in the dataset\n",
        "tables = list(client.list_tables(dataset))\n",
        "for table in tables:  \n",
        "    print(table.table_id)\n"
      ]
    },
    {
      "cell_type": "markdown",
      "metadata": {
        "id": "cK7Wp8Q2mbDv"
      },
      "source": [
        "#### Question 1.2.2\n",
        "> Display the name, surname, salary and department number in descending order by salary of the employees. Limit the number of rows of the answer to 10."
      ]
    },
    {
      "cell_type": "code",
      "execution_count": null,
      "metadata": {
        "colab": {
          "base_uri": "https://localhost:8080/",
          "height": 359
        },
        "id": "RdN1trdrmbDw",
        "outputId": "8b826b69-eafd-418e-9373-c4784e17e172"
      },
      "outputs": [
        {
          "data": {
            "text/html": [
              "\n",
              "  <div id=\"df-98733748-e6b0-48f1-9d6d-c465ad198e5a\">\n",
              "    <div class=\"colab-df-container\">\n",
              "      <div>\n",
              "<style scoped>\n",
              "    .dataframe tbody tr th:only-of-type {\n",
              "        vertical-align: middle;\n",
              "    }\n",
              "\n",
              "    .dataframe tbody tr th {\n",
              "        vertical-align: top;\n",
              "    }\n",
              "\n",
              "    .dataframe thead th {\n",
              "        text-align: right;\n",
              "    }\n",
              "</style>\n",
              "<table border=\"1\" class=\"dataframe\">\n",
              "  <thead>\n",
              "    <tr style=\"text-align: right;\">\n",
              "      <th></th>\n",
              "      <th>first_name</th>\n",
              "      <th>last_name</th>\n",
              "      <th>salary</th>\n",
              "      <th>department_id</th>\n",
              "    </tr>\n",
              "  </thead>\n",
              "  <tbody>\n",
              "    <tr>\n",
              "      <th>0</th>\n",
              "      <td>Steven</td>\n",
              "      <td>King</td>\n",
              "      <td>24000</td>\n",
              "      <td>90</td>\n",
              "    </tr>\n",
              "    <tr>\n",
              "      <th>1</th>\n",
              "      <td>Lex</td>\n",
              "      <td>De Haan</td>\n",
              "      <td>17000</td>\n",
              "      <td>90</td>\n",
              "    </tr>\n",
              "    <tr>\n",
              "      <th>2</th>\n",
              "      <td>Neena</td>\n",
              "      <td>Kochhar</td>\n",
              "      <td>17000</td>\n",
              "      <td>90</td>\n",
              "    </tr>\n",
              "    <tr>\n",
              "      <th>3</th>\n",
              "      <td>John</td>\n",
              "      <td>Russell</td>\n",
              "      <td>14000</td>\n",
              "      <td>80</td>\n",
              "    </tr>\n",
              "    <tr>\n",
              "      <th>4</th>\n",
              "      <td>Karen</td>\n",
              "      <td>Partners</td>\n",
              "      <td>13500</td>\n",
              "      <td>80</td>\n",
              "    </tr>\n",
              "    <tr>\n",
              "      <th>5</th>\n",
              "      <td>Michael</td>\n",
              "      <td>Hartstein</td>\n",
              "      <td>13000</td>\n",
              "      <td>20</td>\n",
              "    </tr>\n",
              "    <tr>\n",
              "      <th>6</th>\n",
              "      <td>Shelley</td>\n",
              "      <td>Higgins</td>\n",
              "      <td>12000</td>\n",
              "      <td>110</td>\n",
              "    </tr>\n",
              "    <tr>\n",
              "      <th>7</th>\n",
              "      <td>Alberto</td>\n",
              "      <td>Errazuriz</td>\n",
              "      <td>12000</td>\n",
              "      <td>80</td>\n",
              "    </tr>\n",
              "    <tr>\n",
              "      <th>8</th>\n",
              "      <td>Nancy</td>\n",
              "      <td>Greenberg</td>\n",
              "      <td>12000</td>\n",
              "      <td>100</td>\n",
              "    </tr>\n",
              "    <tr>\n",
              "      <th>9</th>\n",
              "      <td>Lisa</td>\n",
              "      <td>Ozer</td>\n",
              "      <td>11500</td>\n",
              "      <td>80</td>\n",
              "    </tr>\n",
              "  </tbody>\n",
              "</table>\n",
              "</div>\n",
              "      <button class=\"colab-df-convert\" onclick=\"convertToInteractive('df-98733748-e6b0-48f1-9d6d-c465ad198e5a')\"\n",
              "              title=\"Convert this dataframe to an interactive table.\"\n",
              "              style=\"display:none;\">\n",
              "        \n",
              "  <svg xmlns=\"http://www.w3.org/2000/svg\" height=\"24px\"viewBox=\"0 0 24 24\"\n",
              "       width=\"24px\">\n",
              "    <path d=\"M0 0h24v24H0V0z\" fill=\"none\"/>\n",
              "    <path d=\"M18.56 5.44l.94 2.06.94-2.06 2.06-.94-2.06-.94-.94-2.06-.94 2.06-2.06.94zm-11 1L8.5 8.5l.94-2.06 2.06-.94-2.06-.94L8.5 2.5l-.94 2.06-2.06.94zm10 10l.94 2.06.94-2.06 2.06-.94-2.06-.94-.94-2.06-.94 2.06-2.06.94z\"/><path d=\"M17.41 7.96l-1.37-1.37c-.4-.4-.92-.59-1.43-.59-.52 0-1.04.2-1.43.59L10.3 9.45l-7.72 7.72c-.78.78-.78 2.05 0 2.83L4 21.41c.39.39.9.59 1.41.59.51 0 1.02-.2 1.41-.59l7.78-7.78 2.81-2.81c.8-.78.8-2.07 0-2.86zM5.41 20L4 18.59l7.72-7.72 1.47 1.35L5.41 20z\"/>\n",
              "  </svg>\n",
              "      </button>\n",
              "      \n",
              "  <style>\n",
              "    .colab-df-container {\n",
              "      display:flex;\n",
              "      flex-wrap:wrap;\n",
              "      gap: 12px;\n",
              "    }\n",
              "\n",
              "    .colab-df-convert {\n",
              "      background-color: #E8F0FE;\n",
              "      border: none;\n",
              "      border-radius: 50%;\n",
              "      cursor: pointer;\n",
              "      display: none;\n",
              "      fill: #1967D2;\n",
              "      height: 32px;\n",
              "      padding: 0 0 0 0;\n",
              "      width: 32px;\n",
              "    }\n",
              "\n",
              "    .colab-df-convert:hover {\n",
              "      background-color: #E2EBFA;\n",
              "      box-shadow: 0px 1px 2px rgba(60, 64, 67, 0.3), 0px 1px 3px 1px rgba(60, 64, 67, 0.15);\n",
              "      fill: #174EA6;\n",
              "    }\n",
              "\n",
              "    [theme=dark] .colab-df-convert {\n",
              "      background-color: #3B4455;\n",
              "      fill: #D2E3FC;\n",
              "    }\n",
              "\n",
              "    [theme=dark] .colab-df-convert:hover {\n",
              "      background-color: #434B5C;\n",
              "      box-shadow: 0px 1px 3px 1px rgba(0, 0, 0, 0.15);\n",
              "      filter: drop-shadow(0px 1px 2px rgba(0, 0, 0, 0.3));\n",
              "      fill: #FFFFFF;\n",
              "    }\n",
              "  </style>\n",
              "\n",
              "      <script>\n",
              "        const buttonEl =\n",
              "          document.querySelector('#df-98733748-e6b0-48f1-9d6d-c465ad198e5a button.colab-df-convert');\n",
              "        buttonEl.style.display =\n",
              "          google.colab.kernel.accessAllowed ? 'block' : 'none';\n",
              "\n",
              "        async function convertToInteractive(key) {\n",
              "          const element = document.querySelector('#df-98733748-e6b0-48f1-9d6d-c465ad198e5a');\n",
              "          const dataTable =\n",
              "            await google.colab.kernel.invokeFunction('convertToInteractive',\n",
              "                                                     [key], {});\n",
              "          if (!dataTable) return;\n",
              "\n",
              "          const docLinkHtml = 'Like what you see? Visit the ' +\n",
              "            '<a target=\"_blank\" href=https://colab.research.google.com/notebooks/data_table.ipynb>data table notebook</a>'\n",
              "            + ' to learn more about interactive tables.';\n",
              "          element.innerHTML = '';\n",
              "          dataTable['output_type'] = 'display_data';\n",
              "          await google.colab.output.renderOutput(dataTable, element);\n",
              "          const docLink = document.createElement('div');\n",
              "          docLink.innerHTML = docLinkHtml;\n",
              "          element.appendChild(docLink);\n",
              "        }\n",
              "      </script>\n",
              "    </div>\n",
              "  </div>\n",
              "  "
            ],
            "text/plain": [
              "  first_name  last_name  salary  department_id\n",
              "0     Steven       King   24000             90\n",
              "1        Lex    De Haan   17000             90\n",
              "2      Neena    Kochhar   17000             90\n",
              "3       John    Russell   14000             80\n",
              "4      Karen   Partners   13500             80\n",
              "5    Michael  Hartstein   13000             20\n",
              "6    Shelley    Higgins   12000            110\n",
              "7    Alberto  Errazuriz   12000             80\n",
              "8      Nancy  Greenberg   12000            100\n",
              "9       Lisa       Ozer   11500             80"
            ]
          },
          "execution_count": 29,
          "metadata": {},
          "output_type": "execute_result"
        }
      ],
      "source": [
        "query = \"\"\"SELECT first_name, last_name, salary,  department_id\n",
        "  FROM hr.employees\n",
        "   ORDER BY salary DESC\n",
        "   LIMIT 10;\"\"\"\n",
        "\n",
        "\n",
        "# Execute the query and get the result\n",
        "result = client.query(query).to_dataframe()\n",
        "\n",
        "# Display the result to the user\n",
        "result\n",
        "\n"
      ]
    },
    {
      "cell_type": "markdown",
      "metadata": {
        "id": "yRbD6uP7mbDx"
      },
      "source": [
        "#### Question 1.2.3\n",
        ">Display the first name, last name, salary and department id for those employees whose first name ends with the letter 'd' or 'n' or 's' and also arrange the result in descending order by department id. Out of those, display ONLY the ones with salary higher than 10000."
      ]
    },
    {
      "cell_type": "code",
      "execution_count": null,
      "metadata": {
        "colab": {
          "base_uri": "https://localhost:8080/",
          "height": 204
        },
        "id": "hQfgxRBBmbDy",
        "outputId": "37edd24e-743a-4e23-f07a-1d2d6f20c6bc"
      },
      "outputs": [
        {
          "data": {
            "text/html": [
              "\n",
              "  <div id=\"df-a9f26bc2-e927-4913-b8d6-5ee0510d403d\">\n",
              "    <div class=\"colab-df-container\">\n",
              "      <div>\n",
              "<style scoped>\n",
              "    .dataframe tbody tr th:only-of-type {\n",
              "        vertical-align: middle;\n",
              "    }\n",
              "\n",
              "    .dataframe tbody tr th {\n",
              "        vertical-align: top;\n",
              "    }\n",
              "\n",
              "    .dataframe thead th {\n",
              "        text-align: right;\n",
              "    }\n",
              "</style>\n",
              "<table border=\"1\" class=\"dataframe\">\n",
              "  <thead>\n",
              "    <tr style=\"text-align: right;\">\n",
              "      <th></th>\n",
              "      <th>first_name</th>\n",
              "      <th>last_name</th>\n",
              "      <th>salary</th>\n",
              "      <th>department_id</th>\n",
              "    </tr>\n",
              "  </thead>\n",
              "  <tbody>\n",
              "    <tr>\n",
              "      <th>0</th>\n",
              "      <td>Shelley</td>\n",
              "      <td>Higgins</td>\n",
              "      <td>12000</td>\n",
              "      <td>110</td>\n",
              "    </tr>\n",
              "    <tr>\n",
              "      <th>1</th>\n",
              "      <td>Nancy</td>\n",
              "      <td>Greenberg</td>\n",
              "      <td>12000</td>\n",
              "      <td>100</td>\n",
              "    </tr>\n",
              "    <tr>\n",
              "      <th>2</th>\n",
              "      <td>Steven</td>\n",
              "      <td>King</td>\n",
              "      <td>24000</td>\n",
              "      <td>90</td>\n",
              "    </tr>\n",
              "    <tr>\n",
              "      <th>3</th>\n",
              "      <td>Neena</td>\n",
              "      <td>Kochhar</td>\n",
              "      <td>17000</td>\n",
              "      <td>90</td>\n",
              "    </tr>\n",
              "    <tr>\n",
              "      <th>4</th>\n",
              "      <td>Den</td>\n",
              "      <td>Raphaely</td>\n",
              "      <td>11000</td>\n",
              "      <td>30</td>\n",
              "    </tr>\n",
              "  </tbody>\n",
              "</table>\n",
              "</div>\n",
              "      <button class=\"colab-df-convert\" onclick=\"convertToInteractive('df-a9f26bc2-e927-4913-b8d6-5ee0510d403d')\"\n",
              "              title=\"Convert this dataframe to an interactive table.\"\n",
              "              style=\"display:none;\">\n",
              "        \n",
              "  <svg xmlns=\"http://www.w3.org/2000/svg\" height=\"24px\"viewBox=\"0 0 24 24\"\n",
              "       width=\"24px\">\n",
              "    <path d=\"M0 0h24v24H0V0z\" fill=\"none\"/>\n",
              "    <path d=\"M18.56 5.44l.94 2.06.94-2.06 2.06-.94-2.06-.94-.94-2.06-.94 2.06-2.06.94zm-11 1L8.5 8.5l.94-2.06 2.06-.94-2.06-.94L8.5 2.5l-.94 2.06-2.06.94zm10 10l.94 2.06.94-2.06 2.06-.94-2.06-.94-.94-2.06-.94 2.06-2.06.94z\"/><path d=\"M17.41 7.96l-1.37-1.37c-.4-.4-.92-.59-1.43-.59-.52 0-1.04.2-1.43.59L10.3 9.45l-7.72 7.72c-.78.78-.78 2.05 0 2.83L4 21.41c.39.39.9.59 1.41.59.51 0 1.02-.2 1.41-.59l7.78-7.78 2.81-2.81c.8-.78.8-2.07 0-2.86zM5.41 20L4 18.59l7.72-7.72 1.47 1.35L5.41 20z\"/>\n",
              "  </svg>\n",
              "      </button>\n",
              "      \n",
              "  <style>\n",
              "    .colab-df-container {\n",
              "      display:flex;\n",
              "      flex-wrap:wrap;\n",
              "      gap: 12px;\n",
              "    }\n",
              "\n",
              "    .colab-df-convert {\n",
              "      background-color: #E8F0FE;\n",
              "      border: none;\n",
              "      border-radius: 50%;\n",
              "      cursor: pointer;\n",
              "      display: none;\n",
              "      fill: #1967D2;\n",
              "      height: 32px;\n",
              "      padding: 0 0 0 0;\n",
              "      width: 32px;\n",
              "    }\n",
              "\n",
              "    .colab-df-convert:hover {\n",
              "      background-color: #E2EBFA;\n",
              "      box-shadow: 0px 1px 2px rgba(60, 64, 67, 0.3), 0px 1px 3px 1px rgba(60, 64, 67, 0.15);\n",
              "      fill: #174EA6;\n",
              "    }\n",
              "\n",
              "    [theme=dark] .colab-df-convert {\n",
              "      background-color: #3B4455;\n",
              "      fill: #D2E3FC;\n",
              "    }\n",
              "\n",
              "    [theme=dark] .colab-df-convert:hover {\n",
              "      background-color: #434B5C;\n",
              "      box-shadow: 0px 1px 3px 1px rgba(0, 0, 0, 0.15);\n",
              "      filter: drop-shadow(0px 1px 2px rgba(0, 0, 0, 0.3));\n",
              "      fill: #FFFFFF;\n",
              "    }\n",
              "  </style>\n",
              "\n",
              "      <script>\n",
              "        const buttonEl =\n",
              "          document.querySelector('#df-a9f26bc2-e927-4913-b8d6-5ee0510d403d button.colab-df-convert');\n",
              "        buttonEl.style.display =\n",
              "          google.colab.kernel.accessAllowed ? 'block' : 'none';\n",
              "\n",
              "        async function convertToInteractive(key) {\n",
              "          const element = document.querySelector('#df-a9f26bc2-e927-4913-b8d6-5ee0510d403d');\n",
              "          const dataTable =\n",
              "            await google.colab.kernel.invokeFunction('convertToInteractive',\n",
              "                                                     [key], {});\n",
              "          if (!dataTable) return;\n",
              "\n",
              "          const docLinkHtml = 'Like what you see? Visit the ' +\n",
              "            '<a target=\"_blank\" href=https://colab.research.google.com/notebooks/data_table.ipynb>data table notebook</a>'\n",
              "            + ' to learn more about interactive tables.';\n",
              "          element.innerHTML = '';\n",
              "          dataTable['output_type'] = 'display_data';\n",
              "          await google.colab.output.renderOutput(dataTable, element);\n",
              "          const docLink = document.createElement('div');\n",
              "          docLink.innerHTML = docLinkHtml;\n",
              "          element.appendChild(docLink);\n",
              "        }\n",
              "      </script>\n",
              "    </div>\n",
              "  </div>\n",
              "  "
            ],
            "text/plain": [
              "  first_name  last_name  salary  department_id\n",
              "0    Shelley    Higgins   12000            110\n",
              "1      Nancy  Greenberg   12000            100\n",
              "2     Steven       King   24000             90\n",
              "3      Neena    Kochhar   17000             90\n",
              "4        Den   Raphaely   11000             30"
            ]
          },
          "execution_count": 34,
          "metadata": {},
          "output_type": "execute_result"
        }
      ],
      "source": [
        "query=\"\"\"SELECT first_name, last_name, salary, department_id \n",
        "FROM hr.employees \n",
        "WHERE (first_name LIKE '%D%' OR first_name LIKE '%S%' OR first_name LIKE '%N%') \n",
        "  AND salary > 10000 \n",
        "ORDER BY department_id DESC;\"\"\"\n",
        "\n",
        "\n",
        "\n",
        "# Execute the query and get the result\n",
        "result = client.query(query).to_dataframe()\n",
        "\n",
        "# Display the result to the user\n",
        "result\n",
        "\n"
      ]
    },
    {
      "attachments": {},
      "cell_type": "markdown",
      "metadata": {
        "id": "wrT_iQLqmbDz"
      },
      "source": [
        "#### Question 1.2.4\n",
        "> Display the ID for those employees who did two or more jobs in the past."
      ]
    },
    {
      "cell_type": "code",
      "execution_count": null,
      "metadata": {
        "colab": {
          "base_uri": "https://localhost:8080/",
          "height": 142
        },
        "id": "g1rOKWprmbD0",
        "outputId": "3d56cf5a-5a35-4311-aa4c-f424e26a5df6"
      },
      "outputs": [
        {
          "data": {
            "text/html": [
              "\n",
              "  <div id=\"df-f311cce6-b295-4e84-b7a4-49ff7d429efe\">\n",
              "    <div class=\"colab-df-container\">\n",
              "      <div>\n",
              "<style scoped>\n",
              "    .dataframe tbody tr th:only-of-type {\n",
              "        vertical-align: middle;\n",
              "    }\n",
              "\n",
              "    .dataframe tbody tr th {\n",
              "        vertical-align: top;\n",
              "    }\n",
              "\n",
              "    .dataframe thead th {\n",
              "        text-align: right;\n",
              "    }\n",
              "</style>\n",
              "<table border=\"1\" class=\"dataframe\">\n",
              "  <thead>\n",
              "    <tr style=\"text-align: right;\">\n",
              "      <th></th>\n",
              "      <th>employee_id</th>\n",
              "    </tr>\n",
              "  </thead>\n",
              "  <tbody>\n",
              "    <tr>\n",
              "      <th>0</th>\n",
              "      <td>176</td>\n",
              "    </tr>\n",
              "    <tr>\n",
              "      <th>1</th>\n",
              "      <td>200</td>\n",
              "    </tr>\n",
              "    <tr>\n",
              "      <th>2</th>\n",
              "      <td>101</td>\n",
              "    </tr>\n",
              "  </tbody>\n",
              "</table>\n",
              "</div>\n",
              "      <button class=\"colab-df-convert\" onclick=\"convertToInteractive('df-f311cce6-b295-4e84-b7a4-49ff7d429efe')\"\n",
              "              title=\"Convert this dataframe to an interactive table.\"\n",
              "              style=\"display:none;\">\n",
              "        \n",
              "  <svg xmlns=\"http://www.w3.org/2000/svg\" height=\"24px\"viewBox=\"0 0 24 24\"\n",
              "       width=\"24px\">\n",
              "    <path d=\"M0 0h24v24H0V0z\" fill=\"none\"/>\n",
              "    <path d=\"M18.56 5.44l.94 2.06.94-2.06 2.06-.94-2.06-.94-.94-2.06-.94 2.06-2.06.94zm-11 1L8.5 8.5l.94-2.06 2.06-.94-2.06-.94L8.5 2.5l-.94 2.06-2.06.94zm10 10l.94 2.06.94-2.06 2.06-.94-2.06-.94-.94-2.06-.94 2.06-2.06.94z\"/><path d=\"M17.41 7.96l-1.37-1.37c-.4-.4-.92-.59-1.43-.59-.52 0-1.04.2-1.43.59L10.3 9.45l-7.72 7.72c-.78.78-.78 2.05 0 2.83L4 21.41c.39.39.9.59 1.41.59.51 0 1.02-.2 1.41-.59l7.78-7.78 2.81-2.81c.8-.78.8-2.07 0-2.86zM5.41 20L4 18.59l7.72-7.72 1.47 1.35L5.41 20z\"/>\n",
              "  </svg>\n",
              "      </button>\n",
              "      \n",
              "  <style>\n",
              "    .colab-df-container {\n",
              "      display:flex;\n",
              "      flex-wrap:wrap;\n",
              "      gap: 12px;\n",
              "    }\n",
              "\n",
              "    .colab-df-convert {\n",
              "      background-color: #E8F0FE;\n",
              "      border: none;\n",
              "      border-radius: 50%;\n",
              "      cursor: pointer;\n",
              "      display: none;\n",
              "      fill: #1967D2;\n",
              "      height: 32px;\n",
              "      padding: 0 0 0 0;\n",
              "      width: 32px;\n",
              "    }\n",
              "\n",
              "    .colab-df-convert:hover {\n",
              "      background-color: #E2EBFA;\n",
              "      box-shadow: 0px 1px 2px rgba(60, 64, 67, 0.3), 0px 1px 3px 1px rgba(60, 64, 67, 0.15);\n",
              "      fill: #174EA6;\n",
              "    }\n",
              "\n",
              "    [theme=dark] .colab-df-convert {\n",
              "      background-color: #3B4455;\n",
              "      fill: #D2E3FC;\n",
              "    }\n",
              "\n",
              "    [theme=dark] .colab-df-convert:hover {\n",
              "      background-color: #434B5C;\n",
              "      box-shadow: 0px 1px 3px 1px rgba(0, 0, 0, 0.15);\n",
              "      filter: drop-shadow(0px 1px 2px rgba(0, 0, 0, 0.3));\n",
              "      fill: #FFFFFF;\n",
              "    }\n",
              "  </style>\n",
              "\n",
              "      <script>\n",
              "        const buttonEl =\n",
              "          document.querySelector('#df-f311cce6-b295-4e84-b7a4-49ff7d429efe button.colab-df-convert');\n",
              "        buttonEl.style.display =\n",
              "          google.colab.kernel.accessAllowed ? 'block' : 'none';\n",
              "\n",
              "        async function convertToInteractive(key) {\n",
              "          const element = document.querySelector('#df-f311cce6-b295-4e84-b7a4-49ff7d429efe');\n",
              "          const dataTable =\n",
              "            await google.colab.kernel.invokeFunction('convertToInteractive',\n",
              "                                                     [key], {});\n",
              "          if (!dataTable) return;\n",
              "\n",
              "          const docLinkHtml = 'Like what you see? Visit the ' +\n",
              "            '<a target=\"_blank\" href=https://colab.research.google.com/notebooks/data_table.ipynb>data table notebook</a>'\n",
              "            + ' to learn more about interactive tables.';\n",
              "          element.innerHTML = '';\n",
              "          dataTable['output_type'] = 'display_data';\n",
              "          await google.colab.output.renderOutput(dataTable, element);\n",
              "          const docLink = document.createElement('div');\n",
              "          docLink.innerHTML = docLinkHtml;\n",
              "          element.appendChild(docLink);\n",
              "        }\n",
              "      </script>\n",
              "    </div>\n",
              "  </div>\n",
              "  "
            ],
            "text/plain": [
              "   employee_id\n",
              "0          176\n",
              "1          200\n",
              "2          101"
            ]
          },
          "execution_count": 35,
          "metadata": {},
          "output_type": "execute_result"
        }
      ],
      "source": [
        "query=\"\"\"SELECT employee_id \n",
        "\tFROM hr.job_history \n",
        "\t\tGROUP BY employee_id \n",
        "\t\t\tHAVING COUNT(*) >=2;\"\"\"\n",
        "\n",
        "\n",
        "# Execute the query and get the result\n",
        "result = client.query(query).to_dataframe()\n",
        "\n",
        "# Display the result to the user\n",
        "result\n",
        "\n"
      ]
    },
    {
      "cell_type": "markdown",
      "metadata": {
        "id": "iRZwMDVambD1"
      },
      "source": [
        "#### Question 1.2.5\n",
        "> Calculate the average salary of employees who have held the same job title for at least 6 months. Hint: filter out the cases in which there is no end date."
      ]
    },
    {
      "cell_type": "code",
      "execution_count": null,
      "metadata": {
        "colab": {
          "base_uri": "https://localhost:8080/",
          "height": 80
        },
        "id": "0tMqHHWwmbD1",
        "outputId": "c03f72d8-e160-43dd-f1ad-1bbe5707029a"
      },
      "outputs": [
        {
          "data": {
            "text/html": [
              "\n",
              "  <div id=\"df-1536605d-cb4d-468d-b493-585bb2ef4fe9\">\n",
              "    <div class=\"colab-df-container\">\n",
              "      <div>\n",
              "<style scoped>\n",
              "    .dataframe tbody tr th:only-of-type {\n",
              "        vertical-align: middle;\n",
              "    }\n",
              "\n",
              "    .dataframe tbody tr th {\n",
              "        vertical-align: top;\n",
              "    }\n",
              "\n",
              "    .dataframe thead th {\n",
              "        text-align: right;\n",
              "    }\n",
              "</style>\n",
              "<table border=\"1\" class=\"dataframe\">\n",
              "  <thead>\n",
              "    <tr style=\"text-align: right;\">\n",
              "      <th></th>\n",
              "      <th>avg_salary</th>\n",
              "    </tr>\n",
              "  </thead>\n",
              "  <tbody>\n",
              "    <tr>\n",
              "      <th>0</th>\n",
              "      <td>6500.0</td>\n",
              "    </tr>\n",
              "  </tbody>\n",
              "</table>\n",
              "</div>\n",
              "      <button class=\"colab-df-convert\" onclick=\"convertToInteractive('df-1536605d-cb4d-468d-b493-585bb2ef4fe9')\"\n",
              "              title=\"Convert this dataframe to an interactive table.\"\n",
              "              style=\"display:none;\">\n",
              "        \n",
              "  <svg xmlns=\"http://www.w3.org/2000/svg\" height=\"24px\"viewBox=\"0 0 24 24\"\n",
              "       width=\"24px\">\n",
              "    <path d=\"M0 0h24v24H0V0z\" fill=\"none\"/>\n",
              "    <path d=\"M18.56 5.44l.94 2.06.94-2.06 2.06-.94-2.06-.94-.94-2.06-.94 2.06-2.06.94zm-11 1L8.5 8.5l.94-2.06 2.06-.94-2.06-.94L8.5 2.5l-.94 2.06-2.06.94zm10 10l.94 2.06.94-2.06 2.06-.94-2.06-.94-.94-2.06-.94 2.06-2.06.94z\"/><path d=\"M17.41 7.96l-1.37-1.37c-.4-.4-.92-.59-1.43-.59-.52 0-1.04.2-1.43.59L10.3 9.45l-7.72 7.72c-.78.78-.78 2.05 0 2.83L4 21.41c.39.39.9.59 1.41.59.51 0 1.02-.2 1.41-.59l7.78-7.78 2.81-2.81c.8-.78.8-2.07 0-2.86zM5.41 20L4 18.59l7.72-7.72 1.47 1.35L5.41 20z\"/>\n",
              "  </svg>\n",
              "      </button>\n",
              "      \n",
              "  <style>\n",
              "    .colab-df-container {\n",
              "      display:flex;\n",
              "      flex-wrap:wrap;\n",
              "      gap: 12px;\n",
              "    }\n",
              "\n",
              "    .colab-df-convert {\n",
              "      background-color: #E8F0FE;\n",
              "      border: none;\n",
              "      border-radius: 50%;\n",
              "      cursor: pointer;\n",
              "      display: none;\n",
              "      fill: #1967D2;\n",
              "      height: 32px;\n",
              "      padding: 0 0 0 0;\n",
              "      width: 32px;\n",
              "    }\n",
              "\n",
              "    .colab-df-convert:hover {\n",
              "      background-color: #E2EBFA;\n",
              "      box-shadow: 0px 1px 2px rgba(60, 64, 67, 0.3), 0px 1px 3px 1px rgba(60, 64, 67, 0.15);\n",
              "      fill: #174EA6;\n",
              "    }\n",
              "\n",
              "    [theme=dark] .colab-df-convert {\n",
              "      background-color: #3B4455;\n",
              "      fill: #D2E3FC;\n",
              "    }\n",
              "\n",
              "    [theme=dark] .colab-df-convert:hover {\n",
              "      background-color: #434B5C;\n",
              "      box-shadow: 0px 1px 3px 1px rgba(0, 0, 0, 0.15);\n",
              "      filter: drop-shadow(0px 1px 2px rgba(0, 0, 0, 0.3));\n",
              "      fill: #FFFFFF;\n",
              "    }\n",
              "  </style>\n",
              "\n",
              "      <script>\n",
              "        const buttonEl =\n",
              "          document.querySelector('#df-1536605d-cb4d-468d-b493-585bb2ef4fe9 button.colab-df-convert');\n",
              "        buttonEl.style.display =\n",
              "          google.colab.kernel.accessAllowed ? 'block' : 'none';\n",
              "\n",
              "        async function convertToInteractive(key) {\n",
              "          const element = document.querySelector('#df-1536605d-cb4d-468d-b493-585bb2ef4fe9');\n",
              "          const dataTable =\n",
              "            await google.colab.kernel.invokeFunction('convertToInteractive',\n",
              "                                                     [key], {});\n",
              "          if (!dataTable) return;\n",
              "\n",
              "          const docLinkHtml = 'Like what you see? Visit the ' +\n",
              "            '<a target=\"_blank\" href=https://colab.research.google.com/notebooks/data_table.ipynb>data table notebook</a>'\n",
              "            + ' to learn more about interactive tables.';\n",
              "          element.innerHTML = '';\n",
              "          dataTable['output_type'] = 'display_data';\n",
              "          await google.colab.output.renderOutput(dataTable, element);\n",
              "          const docLink = document.createElement('div');\n",
              "          docLink.innerHTML = docLinkHtml;\n",
              "          element.appendChild(docLink);\n",
              "        }\n",
              "      </script>\n",
              "    </div>\n",
              "  </div>\n",
              "  "
            ],
            "text/plain": [
              "   avg_salary\n",
              "0      6500.0"
            ]
          },
          "execution_count": 45,
          "metadata": {},
          "output_type": "execute_result"
        }
      ],
      "source": [
        "query = \"\"\"SELECT AVG(e.salary) AS avg_salary\n",
        "FROM hr.employees e\n",
        "INNER JOIN hr.job_history jh ON e.employ_id = jh.employee_id\n",
        "WHERE jh.end_date_ IS NOT NULL\n",
        "  AND DATE_DIFF(jh.end_date_, jh.start_date, MONTH) >=6\n",
        "  AND e.job_id = jh.job_id\n",
        "\"\"\"\n",
        "\n",
        "\n",
        "# Execute the query and get the result\n",
        "result = client.query(query).to_dataframe()\n",
        "\n",
        "# Display the result to the user\n",
        "result\n",
        "\n",
        "\n",
        "\n"
      ]
    },
    {
      "attachments": {},
      "cell_type": "markdown",
      "metadata": {
        "id": "q1ihZugNmbD2"
      },
      "source": [
        "#### Question 1.2.6\n",
        "> Find the top 1 country with the highest average salary for employees in management positions. Hint: consider the table \"jobs\" to understand which jobs are management ones. (Challenging)"
      ]
    },
    {
      "cell_type": "code",
      "execution_count": null,
      "metadata": {
        "colab": {
          "base_uri": "https://localhost:8080/",
          "height": 80
        },
        "id": "KaTaeE0w93E9",
        "outputId": "7cc7f3ec-c98d-4f00-fcef-f207b0274cde"
      },
      "outputs": [
        {
          "data": {
            "text/html": [
              "\n",
              "  <div id=\"df-dbb40f88-a94e-4de3-9a75-3fa4cc6a2752\">\n",
              "    <div class=\"colab-df-container\">\n",
              "      <div>\n",
              "<style scoped>\n",
              "    .dataframe tbody tr th:only-of-type {\n",
              "        vertical-align: middle;\n",
              "    }\n",
              "\n",
              "    .dataframe tbody tr th {\n",
              "        vertical-align: top;\n",
              "    }\n",
              "\n",
              "    .dataframe thead th {\n",
              "        text-align: right;\n",
              "    }\n",
              "</style>\n",
              "<table border=\"1\" class=\"dataframe\">\n",
              "  <thead>\n",
              "    <tr style=\"text-align: right;\">\n",
              "      <th></th>\n",
              "      <th>country_name</th>\n",
              "      <th>f0_</th>\n",
              "    </tr>\n",
              "  </thead>\n",
              "  <tbody>\n",
              "    <tr>\n",
              "      <th>0</th>\n",
              "      <td>Canada</td>\n",
              "      <td>13000.0</td>\n",
              "    </tr>\n",
              "  </tbody>\n",
              "</table>\n",
              "</div>\n",
              "      <button class=\"colab-df-convert\" onclick=\"convertToInteractive('df-dbb40f88-a94e-4de3-9a75-3fa4cc6a2752')\"\n",
              "              title=\"Convert this dataframe to an interactive table.\"\n",
              "              style=\"display:none;\">\n",
              "        \n",
              "  <svg xmlns=\"http://www.w3.org/2000/svg\" height=\"24px\"viewBox=\"0 0 24 24\"\n",
              "       width=\"24px\">\n",
              "    <path d=\"M0 0h24v24H0V0z\" fill=\"none\"/>\n",
              "    <path d=\"M18.56 5.44l.94 2.06.94-2.06 2.06-.94-2.06-.94-.94-2.06-.94 2.06-2.06.94zm-11 1L8.5 8.5l.94-2.06 2.06-.94-2.06-.94L8.5 2.5l-.94 2.06-2.06.94zm10 10l.94 2.06.94-2.06 2.06-.94-2.06-.94-.94-2.06-.94 2.06-2.06.94z\"/><path d=\"M17.41 7.96l-1.37-1.37c-.4-.4-.92-.59-1.43-.59-.52 0-1.04.2-1.43.59L10.3 9.45l-7.72 7.72c-.78.78-.78 2.05 0 2.83L4 21.41c.39.39.9.59 1.41.59.51 0 1.02-.2 1.41-.59l7.78-7.78 2.81-2.81c.8-.78.8-2.07 0-2.86zM5.41 20L4 18.59l7.72-7.72 1.47 1.35L5.41 20z\"/>\n",
              "  </svg>\n",
              "      </button>\n",
              "      \n",
              "  <style>\n",
              "    .colab-df-container {\n",
              "      display:flex;\n",
              "      flex-wrap:wrap;\n",
              "      gap: 12px;\n",
              "    }\n",
              "\n",
              "    .colab-df-convert {\n",
              "      background-color: #E8F0FE;\n",
              "      border: none;\n",
              "      border-radius: 50%;\n",
              "      cursor: pointer;\n",
              "      display: none;\n",
              "      fill: #1967D2;\n",
              "      height: 32px;\n",
              "      padding: 0 0 0 0;\n",
              "      width: 32px;\n",
              "    }\n",
              "\n",
              "    .colab-df-convert:hover {\n",
              "      background-color: #E2EBFA;\n",
              "      box-shadow: 0px 1px 2px rgba(60, 64, 67, 0.3), 0px 1px 3px 1px rgba(60, 64, 67, 0.15);\n",
              "      fill: #174EA6;\n",
              "    }\n",
              "\n",
              "    [theme=dark] .colab-df-convert {\n",
              "      background-color: #3B4455;\n",
              "      fill: #D2E3FC;\n",
              "    }\n",
              "\n",
              "    [theme=dark] .colab-df-convert:hover {\n",
              "      background-color: #434B5C;\n",
              "      box-shadow: 0px 1px 3px 1px rgba(0, 0, 0, 0.15);\n",
              "      filter: drop-shadow(0px 1px 2px rgba(0, 0, 0, 0.3));\n",
              "      fill: #FFFFFF;\n",
              "    }\n",
              "  </style>\n",
              "\n",
              "      <script>\n",
              "        const buttonEl =\n",
              "          document.querySelector('#df-dbb40f88-a94e-4de3-9a75-3fa4cc6a2752 button.colab-df-convert');\n",
              "        buttonEl.style.display =\n",
              "          google.colab.kernel.accessAllowed ? 'block' : 'none';\n",
              "\n",
              "        async function convertToInteractive(key) {\n",
              "          const element = document.querySelector('#df-dbb40f88-a94e-4de3-9a75-3fa4cc6a2752');\n",
              "          const dataTable =\n",
              "            await google.colab.kernel.invokeFunction('convertToInteractive',\n",
              "                                                     [key], {});\n",
              "          if (!dataTable) return;\n",
              "\n",
              "          const docLinkHtml = 'Like what you see? Visit the ' +\n",
              "            '<a target=\"_blank\" href=https://colab.research.google.com/notebooks/data_table.ipynb>data table notebook</a>'\n",
              "            + ' to learn more about interactive tables.';\n",
              "          element.innerHTML = '';\n",
              "          dataTable['output_type'] = 'display_data';\n",
              "          await google.colab.output.renderOutput(dataTable, element);\n",
              "          const docLink = document.createElement('div');\n",
              "          docLink.innerHTML = docLinkHtml;\n",
              "          element.appendChild(docLink);\n",
              "        }\n",
              "      </script>\n",
              "    </div>\n",
              "  </div>\n",
              "  "
            ],
            "text/plain": [
              "  country_name      f0_\n",
              "0       Canada  13000.0"
            ]
          },
          "execution_count": 52,
          "metadata": {},
          "output_type": "execute_result"
        }
      ],
      "source": [
        "query =\"\"\"\n",
        "SELECT countries.country_name, AVG(salary) \n",
        "FROM (\n",
        "  SELECT employees.job_id, salary, department_id \n",
        "  FROM hr.employees \n",
        "  INNER JOIN hr.jobs \n",
        "  ON employees.job_id = jobs.job_id \n",
        "  WHERE job_title LIKE '%Manager%'\n",
        ") AS manager_salaries\n",
        "INNER JOIN hr.departments \n",
        "ON manager_salaries.department_id = departments.department_id\n",
        "INNER JOIN hr.locations \n",
        "ON departments.location_id = locations.location_id\n",
        "INNER JOIN hr.countries \n",
        "ON locations.country_id = countries.country_id\n",
        "GROUP BY countries.country_id, countries.country_name\n",
        "ORDER BY AVG(salary) DESC\n",
        "LIMIT 1;\"\"\"\n",
        "\n",
        "\n",
        "# Execute the query and get the result\n",
        "result = client.query(query).to_dataframe()\n",
        "\n",
        "# Display the result to the user\n",
        "result\n"
      ]
    },
    {
      "attachments": {},
      "cell_type": "markdown",
      "metadata": {
        "id": "pfvPLbPzmbD3"
      },
      "source": [
        "#### Question 1.2.7 \n",
        "> Retrieve the details (name and surname) of the employees who have a salary above their department average. Order the result alphabetically by first_name. Limit the result at the top 3. (challenging)"
      ]
    },
    {
      "cell_type": "code",
      "execution_count": null,
      "metadata": {
        "colab": {
          "base_uri": "https://localhost:8080/",
          "height": 142
        },
        "id": "7dPXe2MimbD3",
        "outputId": "13a16af5-1b23-4d71-b34d-18e4e2874c3e"
      },
      "outputs": [
        {
          "data": {
            "text/html": [
              "\n",
              "  <div id=\"df-ce29381a-935b-47c6-b92a-b84e642609e7\">\n",
              "    <div class=\"colab-df-container\">\n",
              "      <div>\n",
              "<style scoped>\n",
              "    .dataframe tbody tr th:only-of-type {\n",
              "        vertical-align: middle;\n",
              "    }\n",
              "\n",
              "    .dataframe tbody tr th {\n",
              "        vertical-align: top;\n",
              "    }\n",
              "\n",
              "    .dataframe thead th {\n",
              "        text-align: right;\n",
              "    }\n",
              "</style>\n",
              "<table border=\"1\" class=\"dataframe\">\n",
              "  <thead>\n",
              "    <tr style=\"text-align: right;\">\n",
              "      <th></th>\n",
              "      <th>first_name</th>\n",
              "      <th>last_name</th>\n",
              "    </tr>\n",
              "  </thead>\n",
              "  <tbody>\n",
              "    <tr>\n",
              "      <th>0</th>\n",
              "      <td>Adam</td>\n",
              "      <td>Fripp</td>\n",
              "    </tr>\n",
              "    <tr>\n",
              "      <th>1</th>\n",
              "      <td>Alberto</td>\n",
              "      <td>Errazuriz</td>\n",
              "    </tr>\n",
              "    <tr>\n",
              "      <th>2</th>\n",
              "      <td>Alexander</td>\n",
              "      <td>Hunold</td>\n",
              "    </tr>\n",
              "  </tbody>\n",
              "</table>\n",
              "</div>\n",
              "      <button class=\"colab-df-convert\" onclick=\"convertToInteractive('df-ce29381a-935b-47c6-b92a-b84e642609e7')\"\n",
              "              title=\"Convert this dataframe to an interactive table.\"\n",
              "              style=\"display:none;\">\n",
              "        \n",
              "  <svg xmlns=\"http://www.w3.org/2000/svg\" height=\"24px\"viewBox=\"0 0 24 24\"\n",
              "       width=\"24px\">\n",
              "    <path d=\"M0 0h24v24H0V0z\" fill=\"none\"/>\n",
              "    <path d=\"M18.56 5.44l.94 2.06.94-2.06 2.06-.94-2.06-.94-.94-2.06-.94 2.06-2.06.94zm-11 1L8.5 8.5l.94-2.06 2.06-.94-2.06-.94L8.5 2.5l-.94 2.06-2.06.94zm10 10l.94 2.06.94-2.06 2.06-.94-2.06-.94-.94-2.06-.94 2.06-2.06.94z\"/><path d=\"M17.41 7.96l-1.37-1.37c-.4-.4-.92-.59-1.43-.59-.52 0-1.04.2-1.43.59L10.3 9.45l-7.72 7.72c-.78.78-.78 2.05 0 2.83L4 21.41c.39.39.9.59 1.41.59.51 0 1.02-.2 1.41-.59l7.78-7.78 2.81-2.81c.8-.78.8-2.07 0-2.86zM5.41 20L4 18.59l7.72-7.72 1.47 1.35L5.41 20z\"/>\n",
              "  </svg>\n",
              "      </button>\n",
              "      \n",
              "  <style>\n",
              "    .colab-df-container {\n",
              "      display:flex;\n",
              "      flex-wrap:wrap;\n",
              "      gap: 12px;\n",
              "    }\n",
              "\n",
              "    .colab-df-convert {\n",
              "      background-color: #E8F0FE;\n",
              "      border: none;\n",
              "      border-radius: 50%;\n",
              "      cursor: pointer;\n",
              "      display: none;\n",
              "      fill: #1967D2;\n",
              "      height: 32px;\n",
              "      padding: 0 0 0 0;\n",
              "      width: 32px;\n",
              "    }\n",
              "\n",
              "    .colab-df-convert:hover {\n",
              "      background-color: #E2EBFA;\n",
              "      box-shadow: 0px 1px 2px rgba(60, 64, 67, 0.3), 0px 1px 3px 1px rgba(60, 64, 67, 0.15);\n",
              "      fill: #174EA6;\n",
              "    }\n",
              "\n",
              "    [theme=dark] .colab-df-convert {\n",
              "      background-color: #3B4455;\n",
              "      fill: #D2E3FC;\n",
              "    }\n",
              "\n",
              "    [theme=dark] .colab-df-convert:hover {\n",
              "      background-color: #434B5C;\n",
              "      box-shadow: 0px 1px 3px 1px rgba(0, 0, 0, 0.15);\n",
              "      filter: drop-shadow(0px 1px 2px rgba(0, 0, 0, 0.3));\n",
              "      fill: #FFFFFF;\n",
              "    }\n",
              "  </style>\n",
              "\n",
              "      <script>\n",
              "        const buttonEl =\n",
              "          document.querySelector('#df-ce29381a-935b-47c6-b92a-b84e642609e7 button.colab-df-convert');\n",
              "        buttonEl.style.display =\n",
              "          google.colab.kernel.accessAllowed ? 'block' : 'none';\n",
              "\n",
              "        async function convertToInteractive(key) {\n",
              "          const element = document.querySelector('#df-ce29381a-935b-47c6-b92a-b84e642609e7');\n",
              "          const dataTable =\n",
              "            await google.colab.kernel.invokeFunction('convertToInteractive',\n",
              "                                                     [key], {});\n",
              "          if (!dataTable) return;\n",
              "\n",
              "          const docLinkHtml = 'Like what you see? Visit the ' +\n",
              "            '<a target=\"_blank\" href=https://colab.research.google.com/notebooks/data_table.ipynb>data table notebook</a>'\n",
              "            + ' to learn more about interactive tables.';\n",
              "          element.innerHTML = '';\n",
              "          dataTable['output_type'] = 'display_data';\n",
              "          await google.colab.output.renderOutput(dataTable, element);\n",
              "          const docLink = document.createElement('div');\n",
              "          docLink.innerHTML = docLinkHtml;\n",
              "          element.appendChild(docLink);\n",
              "        }\n",
              "      </script>\n",
              "    </div>\n",
              "  </div>\n",
              "  "
            ],
            "text/plain": [
              "  first_name  last_name\n",
              "0       Adam      Fripp\n",
              "1    Alberto  Errazuriz\n",
              "2  Alexander     Hunold"
            ]
          },
          "execution_count": 56,
          "metadata": {},
          "output_type": "execute_result"
        }
      ],
      "source": [
        "query=\"\"\"SELECT first_name, last_name from `hr.employees` AS emp\n",
        "WHERE emp.salary > ( \n",
        "  SELECT AVG(emp2.salary) from hr.employees AS emp2\n",
        "  WHERE emp2.department_id = emp.department_id\n",
        ")\n",
        "ORDER BY first_name\n",
        "LIMIT 3\n",
        "\"\"\"\n",
        "# Execute the query and get the result\n",
        "result = client.query(query).to_dataframe()\n",
        "\n",
        "# Display the result to the user\n",
        "result\n"
      ]
    },
    {
      "cell_type": "markdown",
      "metadata": {
        "id": "ARCRrEUcmbD4"
      },
      "source": [
        "# IoT Qs"
      ]
    },
    {
      "cell_type": "markdown",
      "metadata": {
        "id": "p19ai28fTrSY"
      },
      "source": [
        "Open flow.M5Stack, create a program that does the following:\n",
        "- On setup, for 35 times it checks whether the M5Stack is charging. If it is, it calls a function called \"dosomething\" that plays tone lowA for 1 beat\n",
        "- When button A is pressed, it waits 1 second, then it sets the background screen to red, then the label called label0 needs to show TVOC from CO2 sensor. \n",
        "\n",
        "Paste the microPython code in the following cell."
      ]
    },
    {
      "cell_type": "code",
      "execution_count": null,
      "metadata": {
        "id": "6HL7MFkkTGS3"
      },
      "outputs": [],
      "source": [
        "\"\"\"from m5stack import *\n",
        "from m5ui import *\n",
        "from uiflow import *\n",
        "import time\n",
        "import unit\n",
        "\n",
        "\n",
        "setScreenColor(0x222222)\n",
        "tvoc_0 = unit.get(unit.TVOC, unit.PORTA)\n",
        "\n",
        "\n",
        "\n",
        "\n",
        "\n",
        "\n",
        "label0 = M5TextBox(139, 107, \"label0\", lcd.FONT_Default, 0xFFFFFF, rotate=0)\n",
        "\n",
        "# Describe this function...\n",
        "def dosomething():\n",
        "  speaker.sing(220, 1)\n",
        "\n",
        "\n",
        "def buttonA_wasPressed():\n",
        "  # global params\n",
        "  wait(1)\n",
        "  setScreenColor(0xff0000)\n",
        "  label0.setText(str(tvoc_0.TVOC))\n",
        "  pass\n",
        "btnA.wasPressed(buttonA_wasPressed)\n",
        "\n",
        "\n",
        "for count in range(35):\n",
        "  if power.isCharging():\n",
        "    dosomething()\n",
        "  else:\n",
        "    pass\"\"\""
      ]
    },
    {
      "cell_type": "markdown",
      "metadata": {
        "id": "eqm9XsQPPEGV"
      },
      "source": [
        "Answer briefly in a markdown cell.\n",
        "\n",
        ">Which kinds of Google cloud services do you use to send data from IoT devices to BigQuery?\n",
        ">\n",
        ">Connect a CO2 sensor to the M5Stack. What measurements can you gather with the sensor?\n"
      ]
    },
    {
      "cell_type": "markdown",
      "metadata": {
        "id": "k0Fzv3elmbD5"
      },
      "source": [
        "# Phase 2: Recommenders in Python"
      ]
    },
    {
      "cell_type": "markdown",
      "metadata": {
        "id": "Nvx4Lty1mbD5"
      },
      "source": [
        "## 2.1: Movielens (KNN and SVD)"
      ]
    },
    {
      "cell_type": "markdown",
      "metadata": {
        "id": "clxYz_5bmbD5"
      },
      "source": [
        "Using the surprise library, with item-based collaborative filtering, find the top 10 recommended films to watch for a given user, similar to what we have seen in the lab. [Documentation about surprise is available here](http://surpriselib.com/).\n",
        "\n",
        "We will use the 100k MovieLens dataset, smaller as compared to what we have used before. Follow the guiding steps below and answer the two questions.\n",
        "\n",
        "**First install the library and import the required packages**"
      ]
    },
    {
      "cell_type": "code",
      "execution_count": 1,
      "metadata": {
        "colab": {
          "base_uri": "https://localhost:8080/"
        },
        "id": "slLOUw6lmbD6",
        "outputId": "c0782be2-9c19-4341-e7b2-593ab0a91a8f"
      },
      "outputs": [
        {
          "name": "stdout",
          "output_type": "stream",
          "text": [
            "Collecting surprise\n",
            "  Using cached surprise-0.1-py2.py3-none-any.whl (1.8 kB)\n",
            "Collecting scikit-surprise\n",
            "  Using cached scikit-surprise-1.1.3.tar.gz (771 kB)\n",
            "  Preparing metadata (setup.py) ... \u001b[?25ldone\n",
            "\u001b[?25hCollecting joblib>=1.0.0\n",
            "  Using cached joblib-1.2.0-py3-none-any.whl (297 kB)\n",
            "Collecting numpy>=1.17.3\n",
            "  Using cached numpy-1.24.2-cp311-cp311-macosx_10_9_x86_64.whl (19.8 MB)\n",
            "Collecting scipy>=1.3.2\n",
            "  Downloading scipy-1.10.1-cp311-cp311-macosx_10_9_x86_64.whl (35.0 MB)\n",
            "\u001b[2K     \u001b[90m━━━━━━━━━━━━━━━━━━━━━━━━━━━━━━━━━━━━━━━━\u001b[0m \u001b[32m35.0/35.0 MB\u001b[0m \u001b[31m3.2 MB/s\u001b[0m eta \u001b[36m0:00:00\u001b[0m00:01\u001b[0m00:01\u001b[0mm\n",
            "\u001b[?25hBuilding wheels for collected packages: scikit-surprise\n",
            "  Building wheel for scikit-surprise (setup.py) ... \u001b[?25ldone\n",
            "\u001b[?25h  Created wheel for scikit-surprise: filename=scikit_surprise-1.1.3-cp311-cp311-macosx_10_9_x86_64.whl size=1129821 sha256=9e208ca59df098624401c431a57eb0020af3338933046f311cc2ebb12df42575\n",
            "  Stored in directory: /Users/rob/Library/Caches/pip/wheels/f4/2b/26/e2a5eae55d3b7688995e66abe7f40473aac6c95ddd8ee174a8\n",
            "Successfully built scikit-surprise\n",
            "Installing collected packages: numpy, joblib, scipy, scikit-surprise, surprise\n",
            "Successfully installed joblib-1.2.0 numpy-1.24.2 scikit-surprise-1.1.3 scipy-1.10.1 surprise-0.1\n"
          ]
        }
      ],
      "source": [
        "!pip install surprise"
      ]
    },
    {
      "cell_type": "code",
      "execution_count": 9,
      "metadata": {
        "id": "iMTXMT3ombD6"
      },
      "outputs": [],
      "source": [
        "# Import packages\n",
        "from surprise import KNNBasic, KNNWithMeans\n",
        "from surprise import Dataset\n",
        "from surprise.model_selection import GridSearchCV\n",
        "from collections import defaultdict\n",
        "from surprise import get_dataset_dir\n",
        "from surprise.model_selection import train_test_split\n",
        "import io\n",
        "import random\n",
        "import numpy as np\n",
        "from utils import *\n",
        "\n",
        "my_seed = 42 # DO NOT CHANGE THIS LINE\n",
        "random.seed(my_seed)\n",
        "np.random.seed(my_seed)"
      ]
    },
    {
      "cell_type": "markdown",
      "metadata": {
        "id": "2m-AiVWrmbD6"
      },
      "source": [
        "**Load the data using the built-in dataset `ml-100k`**"
      ]
    },
    {
      "cell_type": "code",
      "execution_count": 3,
      "metadata": {
        "id": "_k_2Q4armbD7"
      },
      "outputs": [
        {
          "name": "stdout",
          "output_type": "stream",
          "text": [
            "Dataset ml-100k could not be found. Do you want to download it? [Y/n] Trying to download dataset from https://files.grouplens.org/datasets/movielens/ml-100k.zip...\n",
            "Done! Dataset ml-100k has been saved to /Users/rob/.surprise_data/ml-100k\n"
          ]
        }
      ],
      "source": [
        "\n",
        "data = Dataset.load_builtin('ml-100k')"
      ]
    },
    {
      "cell_type": "markdown",
      "metadata": {
        "id": "snE47ffImbD-"
      },
      "source": [
        "**Use the full dataset and the `build_full_trainset()` method to build a trainset object. Then use the `build_anti_testset()` method for building the trainset.**"
      ]
    },
    {
      "cell_type": "code",
      "execution_count": 4,
      "metadata": {
        "id": "TxxkLRZ3mbD_"
      },
      "outputs": [],
      "source": [
        "\n",
        "trainset = data.build_full_trainset()\n",
        "\n",
        "testset = trainset.build_anti_testset() "
      ]
    },
    {
      "cell_type": "markdown",
      "metadata": {
        "id": "DI08PfjsmbD7"
      },
      "source": [
        "\n",
        "There are two \"dumb\" recommenders that are often used as baselines: the Normal Predictor and the Baseline Estimate.\n",
        "The Normal Predictor is an algorithm predicting a random rating based on the distribution of the training set, which is assumed to be normal. Set the seed equal to 42. \n",
        "The baseline estimate for an unknown rating $r_{ui}$ is denoted by $b_{ui}$ and accounts for the user and item effects: $$b_{ui} = \\mu + b_u + b_i$$ where $b_u$ and $b_i$ indicate the observed deviations of user u and item i, respectively, from the average. (see section 2.1 of Koren, 2010 for more details)\n",
        "\n",
        "**Instantiate a Normal Predictor and a Baseline Estimator. Fit them on the training set. Then, compute the Normal Predictor and the Baseline Estimate for user 140 and item 4 (you should use Surprise). Round the answer to the second decimal point (i.e. 5.315 -> 5.32)**"
      ]
    },
    {
      "cell_type": "code",
      "execution_count": 5,
      "metadata": {
        "colab": {
          "base_uri": "https://localhost:8080/"
        },
        "id": "llNgFykxmbD8",
        "outputId": "53114c00-a192-4c33-ae8c-ed251e85899e"
      },
      "outputs": [
        {
          "name": "stdout",
          "output_type": "stream",
          "text": [
            "4.09\n",
            "Estimating biases using als...\n",
            "3.74\n"
          ]
        }
      ],
      "source": [
        "from surprise import NormalPredictor, BaselineOnly\n",
        "\n",
        "my_seed = 42 # DO NOT CHANGE THIS LINE\n",
        "random.seed(my_seed)\n",
        "np.random.seed(my_seed)\n",
        "\n",
        "#YOUR CODE HERE\n",
        "normalP = NormalPredictor()\n",
        "normalP.fit(trainset)\n",
        "estNormalP = normalP.estimate()\n",
        "print(round(estNormalP, 2))\n",
        "\n",
        "\n",
        "baseline = BaselineOnly()\n",
        "baseline.fit(trainset)\n",
        "estBaseline = baseline.estimate(140,4)\n",
        "print(round(estBaseline, 2))"
      ]
    },
    {
      "cell_type": "markdown",
      "metadata": {
        "id": "bi--KcwVmbD8"
      },
      "source": [
        "> 2.1.0: What's the prediction given by the normal predictor for user 140 and item 4? And the baseline estimate?"
      ]
    },
    {
      "cell_type": "markdown",
      "metadata": {
        "id": "a24PG_LWmbD8"
      },
      "source": [
        "### 2.1.1 Item-based Collaborative filtering in KNN"
      ]
    },
    {
      "cell_type": "markdown",
      "metadata": {
        "id": "GkWvCA1SmbD9"
      },
      "source": [
        "**Use GridSearchCV to find the best number of neighbours (k) for a KNNWithMeans item-based algorithm. Use the complete dataset (not split).**  \n",
        "using root-mean-square-error (RMSE) and the following parameter grid `param_grid={'k': [10, 25, 45, 55], 'sim_options': {'name': ['pearson'], 'user_based': [False]}}`\n",
        "other parameters `cv=4, refit=True, joblib_verbose=2, n_jobs=-1`"
      ]
    },
    {
      "cell_type": "code",
      "execution_count": null,
      "metadata": {
        "colab": {
          "base_uri": "https://localhost:8080/"
        },
        "id": "LMwDaHbzmbD9",
        "outputId": "9f41885a-dfe4-44b8-cc37-c228dc4539ad"
      },
      "outputs": [
        {
          "name": "stderr",
          "output_type": "stream",
          "text": [
            "[Parallel(n_jobs=-1)]: Using backend LokyBackend with 2 concurrent workers.\n",
            "[Parallel(n_jobs=-1)]: Done  16 out of  16 | elapsed:  1.4min finished\n"
          ]
        },
        {
          "name": "stdout",
          "output_type": "stream",
          "text": [
            "Computing the pearson similarity matrix...\n",
            "Done computing similarity matrix.\n"
          ]
        }
      ],
      "source": [
        "my_seed = 42 # DO NOT CHANGE THIS LINE\n",
        "random.seed(my_seed)\n",
        "np.random.seed(my_seed)\n",
        "\n",
        "KNN_grid_search = GridSearchCV(KNNWithMeans, param_grid={'k': [10, 25, 45, 55], \n",
        "                                                         'sim_options': {'name': ['pearson'], 'user_based': [False]}}, \n",
        "                               measures=['RMSE'], cv=4,\n",
        "                               refit=True, joblib_verbose=2, n_jobs=-1)\n",
        "KNN_grid_search.fit(data)"
      ]
    },
    {
      "cell_type": "markdown",
      "metadata": {
        "id": "dNsXQe-XmbD9"
      },
      "source": [
        "> 2.1.1: What is the optimal k for which GridSearchCV returned the best RMSE score?\n",
        "\n"
      ]
    },
    {
      "cell_type": "code",
      "execution_count": null,
      "metadata": {
        "colab": {
          "base_uri": "https://localhost:8080/"
        },
        "id": "ExW63VFlmbD-",
        "outputId": "76e8e1c0-7de8-4fb9-c5e5-b2942558ede9"
      },
      "outputs": [
        {
          "name": "stdout",
          "output_type": "stream",
          "text": [
            "best parameter: {'rmse': {'k': 55, 'sim_options': {'name': 'pearson', 'user_based': False}}}\n",
            "best rmse:  {'rmse': 0.9416388342386743}\n"
          ]
        }
      ],
      "source": [
        "print(\"best parameter:\", KNN_grid_search.best_params)\n",
        "print(\"best rmse: \", KNN_grid_search.best_score)"
      ]
    },
    {
      "cell_type": "markdown",
      "metadata": {
        "id": "91ITqfxLmbD_"
      },
      "source": [
        "**Instantiate the KNNWithMeans algorithm using the best k value retrieved above: `KNNWithMeans(k=YOUR_RETRIEVED_VALUE, min_k=1, sim_options=sim_options, verbose=False)`**  \n",
        "KNNWithMeans takes into account the mean ratings of each user. You can read more about it here: [Documentation](https://surprise.readthedocs.io/en/stable/knn_inspired.html)\n",
        "\n",
        "`sim_options` needs to be the same as before. "
      ]
    },
    {
      "cell_type": "markdown",
      "metadata": {
        "id": "qViJYAzvmbEA"
      },
      "source": [
        "**Fit the model on the training set and predict ratings on the test set. (It will take a couple of minutes)**"
      ]
    },
    {
      "cell_type": "code",
      "execution_count": 32,
      "metadata": {
        "id": "WEKljdUn_7RP"
      },
      "outputs": [],
      "source": [
        "# Load data\n",
        "data = Dataset.load_builtin('ml-100k') # there are a couple of famous Rec System datasets available in this library\n",
        "trainset = data.build_full_trainset()\n",
        "\n",
        "random.seed(my_seed)\n",
        "np.random.seed(my_seed)\n",
        "\n",
        "\n",
        "# Define options and create instance of class\n",
        "sim_options = {\n",
        "    'name': 'pearson', # let's use pearson similarity which can be seen as mean-centered cosine similarity\n",
        "    'user_based': False \n",
        "}\n",
        "knn_means = KNNWithMeans(k=KNN_grid_search.best_params[\"rmse\"][\"k\"], min_k=1, sim_options=sim_options, verbose=False)\n",
        "\n",
        "\n",
        "\n",
        "# Fit model\n",
        "knn_means.fit(trainset)\n",
        "\n",
        "# Predict ratings for all pairs (u, i) that are NOT in the training set.\n",
        "testset = trainset.build_anti_testset() \n",
        "predictions = knn_means.test(testset)"
      ]
    },
    {
      "cell_type": "markdown",
      "metadata": {
        "id": "aFkmWemJmbEB"
      },
      "source": [
        "**Find the top 20 predictions for the user 100 (you can use helper functions used in the labs)**"
      ]
    },
    {
      "cell_type": "code",
      "execution_count": 37,
      "metadata": {
        "colab": {
          "base_uri": "https://localhost:8080/"
        },
        "id": "0Pth4xyymbEB",
        "outputId": "ffbea8b7-8ef0-4690-a89a-84452a65f5ff"
      },
      "outputs": [
        {
          "data": {
            "text/plain": [
              "[('1189', 5),\n",
              " ('1500', 5),\n",
              " ('814', 5),\n",
              " ('1536', 5),\n",
              " ('1293', 5),\n",
              " ('1599', 5),\n",
              " ('1653', 5),\n",
              " ('1467', 5),\n",
              " ('1122', 5),\n",
              " ('1201', 5),\n",
              " ('1064', 4.71676605264943),\n",
              " ('114', 4.517024072255383),\n",
              " ('169', 4.460312406226903),\n",
              " ('1642', 4.422925224093107),\n",
              " ('868', 4.406710641019919),\n",
              " ('1524', 4.385518568793411),\n",
              " ('1456', 4.379773599027038),\n",
              " ('1639', 4.333333333333333),\n",
              " ('318', 4.290533345217262),\n",
              " ('1125', 4.25)]"
            ]
          },
          "execution_count": 37,
          "metadata": {},
          "output_type": "execute_result"
        }
      ],
      "source": [
        "# YOUR CODE HERE\n",
        "#from utils.py import *\n",
        "top_n = get_top_n(predictions, n=20)\n",
        "top_n[\"100\"]"
      ]
    },
    {
      "cell_type": "markdown",
      "metadata": {
        "id": "yPnsua4ambEC"
      },
      "source": [
        "### 2.1.2 User-based Collaborative filtering in KNN"
      ]
    },
    {
      "cell_type": "markdown",
      "metadata": {
        "id": "6chfS4UQmbEC"
      },
      "source": [
        "**Now, using the same value for k that you found above and the same training and test set, fit a KNN model with User-based collaborative filtering (all other parameters must be left unchanged).**"
      ]
    },
    {
      "cell_type": "code",
      "execution_count": 38,
      "metadata": {
        "id": "D2z1KngcmbEC"
      },
      "outputs": [],
      "source": [
        "random.seed(my_seed)\n",
        "np.random.seed(my_seed)\n",
        "\n",
        "\n",
        "# Define options and create instance of class\n",
        "sim_options = {\n",
        "    'name': 'pearson', # let's use pearson similarity which can be seen as mean-centered cosine similarity\n",
        "    'user_based': True \n",
        "}\n",
        "knn_means = KNNWithMeans(k=KNN_grid_search.best_params[\"rmse\"][\"k\"], min_k=1, sim_options=sim_options, verbose=False)\n",
        "\n",
        "\n",
        "\n",
        "# Fit model\n",
        "knn_means.fit(trainset)\n",
        "\n",
        "# Predict ratings for all pairs (u, i) that are NOT in the training set.\n",
        "testset = trainset.build_anti_testset() \n",
        "predictions = knn_means.test(testset)"
      ]
    },
    {
      "cell_type": "markdown",
      "metadata": {
        "id": "gFRec2WLmbED"
      },
      "source": [
        "**Once again, find the top 20 predictions for user 100 (you can use helper functions used in the labs).**"
      ]
    },
    {
      "cell_type": "code",
      "execution_count": 40,
      "metadata": {
        "colab": {
          "base_uri": "https://localhost:8080/"
        },
        "id": "YXe7yFSimbED",
        "outputId": "4dc2d37b-732a-4f03-fd6d-7023c9f906b9"
      },
      "outputs": [
        {
          "data": {
            "text/plain": [
              "[('814', 4.9703123334399315),\n",
              " ('851', 4.857027247454124),\n",
              " ('1536', 4.7724229446890645),\n",
              " ('1467', 4.416536105967811),\n",
              " ('1293', 4.38775210870818),\n",
              " ('1653', 4.361914257228315),\n",
              " ('1429', 4.28627983051033),\n",
              " ('1500', 4.282082324455206),\n",
              " ('1642', 4.2783740735041516),\n",
              " ('113', 4.221851641773584),\n",
              " ('1189', 4.216166630439447),\n",
              " ('1449', 4.214538036861534),\n",
              " ('1175', 4.184036653281956),\n",
              " ('1367', 4.162514030162149),\n",
              " ('1585', 4.159767413089199),\n",
              " ('1651', 4.159767413089199),\n",
              " ('1639', 4.159767413089199),\n",
              " ('1650', 4.159767413089199),\n",
              " ('1631', 4.159767413089199),\n",
              " ('1636', 4.159767413089199)]"
            ]
          },
          "execution_count": 40,
          "metadata": {},
          "output_type": "execute_result"
        }
      ],
      "source": [
        "# YOUR CODE HERE\n",
        "from utils.py import *\n",
        "top_n = get_top_n(predictions, n=20)\n",
        "top_n[\"100\"]"
      ]
    },
    {
      "cell_type": "markdown",
      "metadata": {
        "id": "89K8GcVhmbEE"
      },
      "source": [
        "### 2.1.3: Matrix Factorization"
      ]
    },
    {
      "cell_type": "markdown",
      "metadata": {
        "id": "zRtLdJA0mbEE"
      },
      "source": [
        "Now, we will be using the SVD matrix factorization method on the same problem. "
      ]
    },
    {
      "cell_type": "markdown",
      "metadata": {
        "id": "bmnfwR1umbEE"
      },
      "source": [
        "**Run a 5-fold cross validation using RMSE on a singular value decomposition algorithm, on the full dataset.**"
      ]
    },
    {
      "cell_type": "code",
      "execution_count": 41,
      "metadata": {
        "colab": {
          "base_uri": "https://localhost:8080/"
        },
        "id": "84CSPrLFmbEE",
        "outputId": "3cea078b-80a4-48d6-d200-b5f95c8b21d7"
      },
      "outputs": [
        {
          "name": "stdout",
          "output_type": "stream",
          "text": [
            "Evaluating RMSE of algorithm SVD on 5 split(s).\n",
            "\n",
            "                  Fold 1  Fold 2  Fold 3  Fold 4  Fold 5  Mean    Std     \n",
            "RMSE (testset)    0.9355  0.9351  0.9405  0.9374  0.9346  0.9366  0.0022  \n",
            "Fit time          1.35    1.39    1.50    1.83    1.38    1.49    0.18    \n",
            "Test time         0.16    0.15    0.25    0.17    0.23    0.19    0.04    \n"
          ]
        },
        {
          "data": {
            "text/plain": [
              "{'test_rmse': array([0.93552801, 0.93508199, 0.94052991, 0.9373669 , 0.93459892]),\n",
              " 'fit_time': (1.3512763977050781,\n",
              "  1.390824794769287,\n",
              "  1.501483678817749,\n",
              "  1.8326098918914795,\n",
              "  1.3844380378723145),\n",
              " 'test_time': (0.15918946266174316,\n",
              "  0.14778661727905273,\n",
              "  0.25342392921447754,\n",
              "  0.1698756217956543,\n",
              "  0.23023080825805664)}"
            ]
          },
          "execution_count": 41,
          "metadata": {},
          "output_type": "execute_result"
        }
      ],
      "source": [
        "# YOUR CODE HERE\n",
        "from surprise.model_selection import cross_validate\n",
        "from surprise import SVD\n",
        "\n",
        "random.seed(my_seed)\n",
        "np.random.seed(my_seed)\n",
        "\n",
        "algo = SVD()\n",
        "\n",
        "# Run 5-fold cross-validation and print results.\n",
        "cross_validate(algo, data, measures=['RMSE'], cv=5, verbose=True)\n"
      ]
    },
    {
      "cell_type": "markdown",
      "metadata": {
        "id": "pzUacpCDmbEF"
      },
      "source": [
        "**Now, fit a SVD on the trainset and compute predictions on the testset (using the same train set and test set as before). Then, find the top 20 predictions for user 100.**\n",
        "You can use helper functions used in the labs"
      ]
    },
    {
      "cell_type": "code",
      "execution_count": 45,
      "metadata": {
        "colab": {
          "base_uri": "https://localhost:8080/"
        },
        "id": "MW694fNVmbEF",
        "outputId": "e8720f4e-59c7-4e60-faac-50cf26aba822"
      },
      "outputs": [
        {
          "data": {
            "text/plain": [
              "[('318', 4.274791300224256),\n",
              " ('22', 4.251638315493811),\n",
              " ('64', 4.228429679721632),\n",
              " ('114', 4.172495768117867),\n",
              " ('513', 4.094406975403808),\n",
              " ('59', 4.06918227791095),\n",
              " ('12', 4.04994053478945),\n",
              " ('408', 4.029916189453773),\n",
              " ('963', 4.0268618913516585),\n",
              " ('357', 4.007681982989534),\n",
              " ('178', 4.005231192275642),\n",
              " ('511', 3.9963876488736294),\n",
              " ('516', 3.995093456648734),\n",
              " ('190', 3.9787208351222882),\n",
              " ('519', 3.97633356164986),\n",
              " ('1019', 3.9502146886701826),\n",
              " ('489', 3.9462538276978),\n",
              " ('187', 3.935594437965357),\n",
              " ('694', 3.9284217922804787),\n",
              " ('199', 3.914499029656482)]"
            ]
          },
          "execution_count": 45,
          "metadata": {},
          "output_type": "execute_result"
        }
      ],
      "source": [
        "# YOUR CODE HERE\n",
        "\n",
        "random.seed(my_seed)\n",
        "np.random.seed(my_seed)\n",
        "\n",
        "algo.fit(trainset)\n",
        "predictions = algo.test(testset)\n",
        "top_n = get_top_n(predictions, n=20)\n",
        "top_n[\"100\"]"
      ]
    },
    {
      "cell_type": "markdown",
      "metadata": {
        "id": "2k7HyGTTmbEG"
      },
      "source": [
        "In recommender systems, we often use Recall@k and Precision@k to measure the accuracy of the recommendations. \n",
        "\n",
        "Recall@k= (Relevant_Items_Recommended in top-k) / (Relevant_Items)\n",
        "\n",
        "Precision@k= (Relevant_Items_Recommended in top-k) / (k_Items_Recommended)\n",
        "\n",
        "**Considering as relevant the recommendations with rating greater or equal than 4, compute the average precision and recall @2,30, using an SVD algorithm, and the usual train and test dataframes.**\n",
        "You can use helper functions used in the labs"
      ]
    },
    {
      "attachments": {},
      "cell_type": "markdown",
      "metadata": {},
      "source": [
        "BOTH VERSION 1 and 2 WILL BE ACCEPTED."
      ]
    },
    {
      "cell_type": "code",
      "execution_count": 15,
      "metadata": {
        "colab": {
          "base_uri": "https://localhost:8080/"
        },
        "id": "UMIFLy8xmbEG",
        "outputId": "65392154-53f9-488e-acf9-2ba795d25ad2"
      },
      "outputs": [
        {
          "name": "stdout",
          "output_type": "stream",
          "text": [
            "k =  2 precision =  0.030752916224814422 recall =  1.0\n",
            "k =  30 precision =  0.030752916224814422 recall =  1.0\n"
          ]
        }
      ],
      "source": [
        "# Version 1\n",
        "from surprise import SVD\n",
        "\n",
        "\n",
        "random.seed(my_seed)\n",
        "np.random.seed(my_seed)\n",
        "\n",
        "algo = SVD()\n",
        "\n",
        "algo.fit(trainset)\n",
        "predictions = algo.test(testset)\n",
        "\n",
        "k_vals = [2,30]\n",
        "\n",
        "\n",
        "for k in k_vals:\n",
        "    precisions, recalls = precision_recall_at_k(predictions, k=k, threshold=4) # rating >= 4 -> relevant, rating < 4 -> irrelevant\n",
        "\n",
        "    # Precision and recall can then be averaged over all users\n",
        "    precision = sum(prec for prec in precisions.values()) / len(precisions) \n",
        "    recall =  sum(rec for rec in recalls.values()) / len(recalls) \n",
        "    print(\"k = \", k, \"precision = \", precision, \"recall = \", recall)\n"
      ]
    },
    {
      "cell_type": "code",
      "execution_count": 16,
      "metadata": {},
      "outputs": [
        {
          "name": "stdout",
          "output_type": "stream",
          "text": [
            "k =  2 precision =  0.8936170212765957 recall =  0.1681385161984644\n",
            "k =  30 precision =  0.8703578316835745 recall =  0.3379017969065891\n"
          ]
        }
      ],
      "source": [
        "# Version 2\n",
        "from surprise import SVD\n",
        "\n",
        "\n",
        "data = Dataset.load_builtin('ml-100k')\n",
        "trainset, testset = train_test_split(data, test_size=.20, random_state=my_seed)\n",
        "\n",
        "\n",
        "random.seed(my_seed)\n",
        "np.random.seed(my_seed)\n",
        "\n",
        "algo = SVD()\n",
        "\n",
        "algo.fit(trainset)\n",
        "predictions = algo.test(testset)\n",
        "\n",
        "k_vals = [2,30]\n",
        "\n",
        "\n",
        "for k in k_vals:\n",
        "    precisions, recalls = precision_recall_at_k(predictions, k=k, threshold=4) # rating >= 4 -> relevant, rating < 4 -> irrelevant\n",
        "\n",
        "    # Precision and recall can then be averaged over all users\n",
        "    precision = sum(prec for prec in precisions.values()) / len(precisions) \n",
        "    recall =  sum(rec for rec in recalls.values()) / len(recalls) \n",
        "    print(\"k = \", k, \"precision = \", precision, \"recall = \", recall)\n"
      ]
    },
    {
      "cell_type": "markdown",
      "metadata": {
        "id": "bMc9KL0lmbEI"
      },
      "source": [
        "## 2.2: Recipes (baseline recommender from scratch)"
      ]
    },
    {
      "cell_type": "markdown",
      "metadata": {
        "id": "cHMI_f1mmbEI"
      },
      "source": [
        "For this exercise you are not allowed to use the Surprise library. You will be asked to implement a very \"dumb\" recommender, normally used as baseline. \n",
        "\n",
        "For this exercise, consider the dataframe recipe_ratings.csv. The dataset contains food recipes with the ratings that were given by the users of a Cooking website. To know more, check: *Generating Personalized Recipes from Historical User Preferences*, Bodhisattwa Prasad Majumder, Shuyang Li, Jianmo Ni, Julian McAuley EMNLP, 2019 https://www.aclweb.org/anthology/D19-1613/.\n",
        "\n",
        "All the needed data cleaning has already been done. \n",
        "\n",
        "**Implement a baseline recommender that recommends the 10 most popular recipes to all users. Use only the training data.**"
      ]
    },
    {
      "cell_type": "code",
      "execution_count": 115,
      "metadata": {
        "id": "J0xDlHvqmbEI"
      },
      "outputs": [],
      "source": [
        "import pandas as pd\n",
        "train_data = pd.read_csv('recipes_train_data.csv')\n",
        "test_data = pd.read_csv('recipes_test_data.csv')\n",
        "\n",
        "# Calculate the mean rating for each recipe\n",
        "recipe_ratings = train_data.groupby('item_id')['rating'].mean()\n",
        "\n",
        "# Get the most popular recipes\n",
        "popular_recipes = recipe_ratings.sort_values(ascending=False).index[:10]\n",
        "\n",
        "# Define the baseline recommender function\n",
        "def baseline_recommender(user_id):\n",
        "    return popular_recipes\n",
        "\n"
      ]
    },
    {
      "cell_type": "markdown",
      "metadata": {
        "id": "nEtP4KB1mbEJ"
      },
      "source": [
        "> Fitting the recommender on the training set, what's the first recommended recipe to user 37?"
      ]
    },
    {
      "cell_type": "code",
      "execution_count": 59,
      "metadata": {
        "colab": {
          "base_uri": "https://localhost:8080/"
        },
        "id": "sXsbu7vIEG6k",
        "outputId": "940915c5-3f46-40ae-f204-f962d4c2b320"
      },
      "outputs": [
        {
          "data": {
            "text/plain": [
              "Int64Index([86659, 140886, 69988, 69982, 34014, 69981, 34018, 140916, 34027,\n",
              "            140906],\n",
              "           dtype='int64', name='item_id')"
            ]
          },
          "execution_count": 59,
          "metadata": {},
          "output_type": "execute_result"
        }
      ],
      "source": [
        "baseline_recommender(37) # you could give whatever you want as input, nothing changes"
      ]
    },
    {
      "cell_type": "markdown",
      "metadata": {
        "id": "Sv6o3F2vmbEJ"
      },
      "source": [
        "**Now, instead of doing top-K recommendation, we predict the ratings. Create a simple predictor for the ratings that, given a couple (user, item) predicts the rating as the mean rating of that user. See it like this: let's say you've been to 20  restaurants and reviewed them on tripadvisor. On average, you gave 3 stars. This recommender should predict 3 as your future ratings. PAY ATTENTION: if in the test set there is a user which was not present in the training set, your recommender should predict the \"global average\": the average of all ratings of the training set. Fit this recommender on the train data and compute the MSE on the test data.**"
      ]
    },
    {
      "cell_type": "code",
      "execution_count": 110,
      "metadata": {
        "colab": {
          "base_uri": "https://localhost:8080/"
        },
        "id": "OZhCpFnrmbEJ",
        "outputId": "29a24b4c-5457-4953-dc77-851a717d5f7a"
      },
      "outputs": [
        {
          "name": "stdout",
          "output_type": "stream",
          "text": [
            "Mean squared error: 5.339175716071459\n"
          ]
        }
      ],
      "source": [
        "from sklearn.metrics import mean_squared_error\n",
        "import numpy as np\n",
        "\n",
        "global_avg = np.mean(train_data[\"rating\"])\n",
        "\n",
        "predictions = train_data.groupby('user_id').mean()[\"rating\"]\n",
        "\n",
        "\n",
        "#join the predictions to the test data\n",
        "test_data = test_data.join(predictions, on=\"user_id\", rsuffix=\"_pred\")\n",
        "test_data=test_data.fillna(global_avg)\n",
        "\n",
        "# Calculate the mean squared error between the predicted ratings and the actual ratings in the test set\n",
        "mse = mean_squared_error(test_data['rating'], test_data['rating_pred'])\n",
        "\n",
        "print(f\"Mean squared error: {mse}\")"
      ]
    },
    {
      "cell_type": "markdown",
      "metadata": {
        "id": "NCPdVEyLmbEL"
      },
      "source": [
        "> Report the MSE you obtained"
      ]
    },
    {
      "cell_type": "markdown",
      "metadata": {
        "id": "x-FzW3fymbEL"
      },
      "source": [
        "# Theory"
      ]
    },
    {
      "cell_type": "markdown",
      "metadata": {
        "id": "GZpxn1kBmbEM"
      },
      "source": [
        "Which of the following is NOT a type of recommender system?\n",
        "- [ ] Content-based filtering\n",
        "- [ ] Collaborative filtering\n",
        "- [ ] Hybrid filtering\n",
        "- [x] Deep learning filtering\n",
        "\n",
        "Which of the following evaluation metrics is NOT used to evaluate recommender systems?\n",
        "- [ ] Mean Absolute Error (MAE)\n",
        "- [ ] Root Mean Squared Error (RMSE)\n",
        "- [ ] Accuracy\n",
        "- [x] F1 Score\n",
        "\n",
        "Which of the following is used in item-based collaborative filtering?\n",
        "- [ ] K-means clustering\n",
        "- [ ] Apriori algorithm\n",
        "- [x] Cosine similarity\n",
        "- [ ] None of the above\n",
        "\n"
      ]
    },
    {
      "cell_type": "code",
      "execution_count": null,
      "metadata": {
        "id": "b13HLckvO-Ct"
      },
      "outputs": [],
      "source": []
    }
  ],
  "metadata": {
    "colab": {
      "provenance": []
    },
    "kernelspec": {
      "display_name": "prova",
      "language": "python",
      "name": "python3"
    },
    "language_info": {
      "codemirror_mode": {
        "name": "ipython",
        "version": 3
      },
      "file_extension": ".py",
      "mimetype": "text/x-python",
      "name": "python",
      "nbconvert_exporter": "python",
      "pygments_lexer": "ipython3",
      "version": "3.11.2"
    },
    "orig_nbformat": 4,
    "vscode": {
      "interpreter": {
        "hash": "ff05eee511f4a22dcc7e3a42672481f65375abda67a373ab17f32ff8005fde4a"
      }
    }
  },
  "nbformat": 4,
  "nbformat_minor": 0
}
