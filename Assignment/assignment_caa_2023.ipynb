{
  "cells": [
    {
      "cell_type": "markdown",
      "metadata": {
        "id": "MebLMgxNmbDR"
      },
      "source": [
        "<h1><b><center>Cloud and Advanced Analytics: Personal Assignment 2023</center></b></h1>"
      ]
    },
    {
      "attachments": {},
      "cell_type": "markdown",
      "metadata": {
        "id": "9-im1klQmbDT"
      },
      "source": [
        "**Contents**: the assignment covers 3 topics:\n",
        "1. BigQuery\n",
        "2. IoT \n",
        "3. Recommender Systems in Python\n",
        "\n",
        "**Due: Apr 4, 2023, 23.59pm** <u>(notebook + quiz)</u>\n",
        "\n",
        "**Clarifications**: You can post your questions in slack channel #assignments. If necessary we will update the notebook accordingly (so make sure to check for updates on GitHub). \n",
        "\n",
        "**Grading**: The personal assignment is worth **30%** of your final grade. For your work to be graded, you must:\n",
        "\n",
        "* Upload your completed notebook on [Moodle](https://moodle.unil.ch/mod/assign/view.php?id=1482850&forceview=1)\n",
        "* Answer all questions in the Moodle Quiz. We will check that your quiz answers reflect the responses provided in the notebook. \n",
        "\n",
        ">Note: You can only complete the quiz one time. Have your notebook with the answers ready for answering the quiz. \n",
        "\n",
        "**Personal work**: Note that this assignment represents strictly *personal* work. Do not share it with your colleagues. Just do as much as you can on your own. Your code will be compared to that your colleagues. In case of statistically high similarity, you will receive a grade of zero.\n",
        "\n",
        "> Over the whole assignment, where you find the seed lines of code, DO NOT REMOVE THEM, and write your code below them, in the same cell. Otherwise you'll obtain different results, hard to verify.\n",
        ">\n",
        "> The quiz will contain mainly questions related to the answers of this notebook. Each question in the quiz will have an identifier telling you where to find the answer in the notebook. Be aware: in the quiz you will find also some more theoretical-leaning questions.\n",
        "\n",
        "Good Luck and Enjoy ☀"
      ]
    },
    {
      "cell_type": "markdown",
      "metadata": {
        "id": "iFhaDH4EmbDV"
      },
      "source": [
        "----"
      ]
    },
    {
      "cell_type": "markdown",
      "metadata": {
        "id": "bGwn5QuXmbDW"
      },
      "source": [
        "# Phase 1: BigQuery and SQL"
      ]
    },
    {
      "cell_type": "markdown",
      "metadata": {
        "id": "F6p8Oo2cmbDX"
      },
      "source": [
        "In this first part, you will explore a dataset using Google BigQuery. Similar to week 2, you will connect to BigQuery, upload the data and access it in the notebook. Your job is to write SQL queries to answer the questions below. \n",
        "\n",
        "**Caution**: Do not forget that each user receives a limited amount of free data processing every month in BigQuery, which can be used to run queries on any dataset. Given the size of the datasets that you will query, performing a lot of queries can result in exceeding your free monthly quota. Therefore, you should try to avoid queries that have a big output. The solution is simple: always remember to use the **LIMIT** keyword (especially if you are not sure about the output of your query) to limit the size of the output. You can also write the query on the Google Console, and it will estimate the size of the query. Consider that you have 4TB in total.\n"
      ]
    },
    {
      "cell_type": "markdown",
      "metadata": {
        "id": "9Z-7kfZqmbDY"
      },
      "source": [
        "## Connecting to BigQuery"
      ]
    },
    {
      "cell_type": "markdown",
      "metadata": {
        "id": "DYaAVqgtmbDZ"
      },
      "source": [
        "To make things easier, we advise you to work in **Google Colab**. "
      ]
    },
    {
      "cell_type": "markdown",
      "metadata": {
        "id": "fHmYtbLGmbDZ"
      },
      "source": [
        "**For Google Colab users**"
      ]
    },
    {
      "cell_type": "code",
      "execution_count": null,
      "metadata": {
        "colab": {
          "base_uri": "https://localhost:8080/"
        },
        "id": "UDtZ4UhnmbDa",
        "outputId": "5c550fe0-7fb6-4dba-85b5-4c2c16f7c212"
      },
      "outputs": [],
      "source": [
        "from google.colab import auth\n",
        "\n",
        "auth.authenticate_user()\n",
        "print(\"Authenticated\")"
      ]
    },
    {
      "cell_type": "markdown",
      "metadata": {
        "id": "uFpBJbYYmbDc"
      },
      "source": [
        "**For Jupyter users**"
      ]
    },
    {
      "cell_type": "markdown",
      "metadata": {
        "id": "aeG2pVMQmbDd"
      },
      "source": [
        "Make sure to replace \"PATH_TO_CREDENTIALS_FILE\" with the *absolute* path to the JSON service account key, e.g., \"C:/Users/John/credentials.json\"."
      ]
    },
    {
      "cell_type": "code",
      "execution_count": null,
      "metadata": {
        "id": "jt5UDPUYmbDe"
      },
      "outputs": [],
      "source": [
        "!pip install google-cloud-bigquery"
      ]
    },
    {
      "cell_type": "code",
      "execution_count": null,
      "metadata": {
        "id": "M-mnxbDqmbDg"
      },
      "outputs": [],
      "source": [
        "import os\n",
        "PROJECT_NAME = \"cloud-analytics-init\" # REPLACE WITH YOUR PROJECT NAME\n",
        "# The following line will try to locate the `google_key.json` file in the parent directory of this git repository.\n",
        "PATH_TO_CREDENTIALS_FILE = os.path.join(os.path.dirname(os.path.dirname(os.path.dirname(os.getcwd()))), \"google_key.json\") # REPLACE WITH YOUR PATH TO KEY\n",
        "\n",
        "os.environ[\"GOOGLE_APPLICATION_CREDENTIALS\"] = PATH_TO_CREDENTIALS_FILE"
      ]
    },
    {
      "cell_type": "markdown",
      "metadata": {
        "id": "4b-z-3RvmbDh"
      },
      "source": [
        "**Everyone**"
      ]
    },
    {
      "cell_type": "markdown",
      "metadata": {
        "id": "bzI_iAM4mbDi"
      },
      "source": [
        "Make sure to replace the above `PROJECT_NAME` with the ID of one of your Google Cloud projects, where you upload the data from the dats folder of the assignment."
      ]
    },
    {
      "cell_type": "code",
      "execution_count": null,
      "metadata": {
        "id": "g8E2GZAFmbDj"
      },
      "outputs": [],
      "source": [
        "import pandas as pd\n",
        "from google.cloud import bigquery\n",
        "\n",
        "\n",
        "# Create a client for public datasets\n",
        "client = bigquery.Client(project=\"caa-course-sandbox\")\n"
      ]
    },
    {
      "cell_type": "markdown",
      "metadata": {
        "id": "sjnZwo-XmbDk"
      },
      "source": [
        "## 1.1: Public datasets"
      ]
    },
    {
      "cell_type": "markdown",
      "metadata": {
        "id": "_MfIRxo4mbDm"
      },
      "source": [
        "In this very first part, we will be using public datasets available on Google Cloud. For each question, answer by writing a query and executing it on Google BigQuery."
      ]
    },
    {
      "cell_type": "markdown",
      "metadata": {
        "id": "sXBgTBNCmbDn"
      },
      "source": [
        "Use the df `bigquery-public-data.samples.gsod`. \n",
        "#### Question 1.1.1\n",
        "> How many rows are in the gsod dataset for the year 1929?"
      ]
    },
    {
      "cell_type": "code",
      "execution_count": null,
      "metadata": {
        "colab": {
          "base_uri": "https://localhost:8080/"
        },
        "id": "f_oXDeV9mbDo",
        "outputId": "709c17a0-6eef-4a17-d501-bf21029b4f36"
      },
      "outputs": [],
      "source": [
        "# Define the SQL query to retrieve data from a BigQuery dataset\n",
        "\n",
        "# Execute the query and get the result\n",
        "\n",
        "\n",
        "# Define the correct answer\n"
      ]
    },
    {
      "cell_type": "markdown",
      "metadata": {
        "id": "xJnMjRAImbDp"
      },
      "source": [
        "Use the df `bigquery-public-data.world_bank_intl_education.international_education`.\n",
        "#### Question 1.1.2\n",
        "> How many distinct countries are represented in the international_education dataset for the year 2016?\n",
        "> \n",
        "> How many rows are in the international_education dataset for the year 2016?"
      ]
    },
    {
      "cell_type": "code",
      "execution_count": null,
      "metadata": {
        "colab": {
          "base_uri": "https://localhost:8080/"
        },
        "id": "5wa-SLxwmbDq",
        "outputId": "bb81b6ef-5584-4ed2-f87a-0665725d0db1"
      },
      "outputs": [],
      "source": [
        "\n",
        "# Define the SQL query to retrieve data from a BigQuery dataset\n",
        "\n",
        "\n",
        "# Execute the query and get the result\n",
        "\n",
        "\n",
        "# Define the correct answers\n"
      ]
    },
    {
      "cell_type": "markdown",
      "metadata": {
        "id": "kAtt7UkGmbDr"
      },
      "source": [
        "#### Question 1.1.3\n",
        ">What was the average arrival delay and average departure delay for all flights from SFO to LAX in the years from 2000 to 2015 (both included), using the df bigquery-samples.airline_ontime_data.flights?"
      ]
    },
    {
      "cell_type": "code",
      "execution_count": null,
      "metadata": {
        "colab": {
          "base_uri": "https://localhost:8080/"
        },
        "id": "_EBqVNyJxgXQ",
        "outputId": "1a93338b-92df-4448-918c-396079f23988"
      },
      "outputs": [],
      "source": [
        "# Define the SQL query to retrieve data from a BigQuery dataset\n",
        "\n",
        "# Execute the query and get the result\n",
        "\n",
        "\n",
        "# Display the result to the user\n",
        "\n",
        "\n"
      ]
    },
    {
      "cell_type": "markdown",
      "metadata": {
        "id": "Ox3g1JonmbDs"
      },
      "source": [
        "## 1.2: Private dataset"
      ]
    },
    {
      "cell_type": "markdown",
      "metadata": {
        "id": "EWDHUl4RmbDt"
      },
      "source": [
        "Now, you will need to create a Database on GCP, like we did in the lab of week2. You will find all the files to upload in the \"data\" folder. The folder contains 7 tables.\n",
        "\n",
        "**You will first need to upload them all, in the same BigQuery database, as different tables.**\n",
        "\n",
        "The database is regarding an HR department of the company BestCompanyEver. For this exercise, you will be the main Data Scientist of BestCompanyEver, and you will need to produce the queries to extract relevant data from the database. \n",
        "\n",
        "Once again, answer the questions by writing and executing a query on BigQuery.\n",
        "\n",
        "The following is the structure of the database:\n",
        "\n",
        "\n",
        "<img src=\"database-model-hr-new.gif\" alt=\"Alternative text\" />\n",
        "\n",
        "\n",
        "\n",
        "\n",
        "\n",
        "Credits for the df: w3resource"
      ]
    },
    {
      "cell_type": "markdown",
      "metadata": {
        "id": "pjrPhp-smbDu"
      },
      "source": [
        "#### Question 1.2.1\n",
        "> Connect to your BigQuery dataset and list the tables"
      ]
    },
    {
      "cell_type": "code",
      "execution_count": null,
      "metadata": {
        "colab": {
          "base_uri": "https://localhost:8080/"
        },
        "id": "mIzVpv18mbDv",
        "outputId": "00c3c12e-2f4d-4324-f056-1dea6fc12618"
      },
      "outputs": [],
      "source": [
        "# Create a \"Client\" object\n",
        "\n",
        "# Create the references\n",
        "\n",
        "# List the tables in the dataset\n",
        "\n"
      ]
    },
    {
      "cell_type": "markdown",
      "metadata": {
        "id": "cK7Wp8Q2mbDv"
      },
      "source": [
        "#### Question 1.2.2\n",
        "> Display the name, surname, salary and department number in descending order by salary of the employees. Limit the number of rows of the answer to 10."
      ]
    },
    {
      "cell_type": "code",
      "execution_count": null,
      "metadata": {
        "colab": {
          "base_uri": "https://localhost:8080/",
          "height": 359
        },
        "id": "RdN1trdrmbDw",
        "outputId": "8b826b69-eafd-418e-9373-c4784e17e172"
      },
      "outputs": [],
      "source": [
        "# Define the SQL query to retrieve data from a BigQuery dataset\n",
        "\n",
        "\n",
        "# Execute the query and get the result\n",
        "\n",
        "\n",
        "# Display the result to the user\n",
        "\n",
        "\n"
      ]
    },
    {
      "cell_type": "markdown",
      "metadata": {
        "id": "yRbD6uP7mbDx"
      },
      "source": [
        "#### Question 1.2.3\n",
        ">Display the first name, last name, salary and department id for those employees whose first name ends with the letter 'd' or 'n' or 's' and also arrange the result in descending order by department id. Out of those, display ONLY the ones with salary higher than 10000."
      ]
    },
    {
      "cell_type": "code",
      "execution_count": null,
      "metadata": {
        "colab": {
          "base_uri": "https://localhost:8080/",
          "height": 204
        },
        "id": "hQfgxRBBmbDy",
        "outputId": "37edd24e-743a-4e23-f07a-1d2d6f20c6bc"
      },
      "outputs": [],
      "source": [
        "# Define the SQL query to retrieve data from a BigQuery dataset\n",
        "\n",
        "\n",
        "\n",
        "\n",
        "# Execute the query and get the result\n",
        "\n",
        "\n",
        "# Display the result to the user\n",
        "\n",
        "\n"
      ]
    },
    {
      "attachments": {},
      "cell_type": "markdown",
      "metadata": {
        "id": "wrT_iQLqmbDz"
      },
      "source": [
        "#### Question 1.2.4 \n",
        "> Display the ID for those employees who did two or more jobs in the past."
      ]
    },
    {
      "cell_type": "code",
      "execution_count": null,
      "metadata": {
        "colab": {
          "base_uri": "https://localhost:8080/",
          "height": 142
        },
        "id": "g1rOKWprmbD0",
        "outputId": "3d56cf5a-5a35-4311-aa4c-f424e26a5df6"
      },
      "outputs": [],
      "source": [
        "# Define the SQL query to retrieve data from a BigQuery dataset\n",
        "\n",
        "\n",
        "\n",
        "# Execute the query and get the result\n",
        "\n",
        "\n",
        "# Display the result to the user\n",
        "\n",
        "\n"
      ]
    },
    {
      "cell_type": "markdown",
      "metadata": {
        "id": "iRZwMDVambD1"
      },
      "source": [
        "#### Question 1.2.5\n",
        "> Calculate the average salary of employees who have held the same job title for at least 6 months. Hint: filter out the cases in which there is no end date."
      ]
    },
    {
      "cell_type": "code",
      "execution_count": null,
      "metadata": {
        "colab": {
          "base_uri": "https://localhost:8080/",
          "height": 80
        },
        "id": "0tMqHHWwmbD1",
        "outputId": "c03f72d8-e160-43dd-f1ad-1bbe5707029a"
      },
      "outputs": [],
      "source": [
        "# Define the SQL query to retrieve data from a BigQuery dataset\n",
        "\n",
        "\n",
        "\n",
        "# Execute the query and get the result\n",
        "\n",
        "\n",
        "# Display the result to the user\n",
        "\n",
        "\n",
        "\n",
        "\n"
      ]
    },
    {
      "attachments": {},
      "cell_type": "markdown",
      "metadata": {
        "id": "q1ihZugNmbD2"
      },
      "source": [
        "#### Question 1.2.6\n",
        "> Find the top 1 country with the highest average salary for employees in management positions. Hint: consider the table \"jobs\" to understand which jobs are management ones. (Challenging)"
      ]
    },
    {
      "cell_type": "code",
      "execution_count": null,
      "metadata": {
        "colab": {
          "base_uri": "https://localhost:8080/",
          "height": 80
        },
        "id": "KaTaeE0w93E9",
        "outputId": "7cc7f3ec-c98d-4f00-fcef-f207b0274cde"
      },
      "outputs": [],
      "source": [
        "\n",
        "# Define the SQL query to retrieve data from a BigQuery dataset\n",
        "# Execute the query and get the result\n",
        "\n",
        "\n",
        "# Display the result to the user\n",
        "\n"
      ]
    },
    {
      "attachments": {},
      "cell_type": "markdown",
      "metadata": {
        "id": "pfvPLbPzmbD3"
      },
      "source": [
        "#### Question 1.2.7\n",
        "> Retrieve the details (name and surname) of the employees who have a salary above their department average. Order the result alphabetically by first_name. Limit the result at the top 3. (challenging)"
      ]
    },
    {
      "cell_type": "code",
      "execution_count": null,
      "metadata": {
        "colab": {
          "base_uri": "https://localhost:8080/",
          "height": 142
        },
        "id": "7dPXe2MimbD3",
        "outputId": "13a16af5-1b23-4d71-b34d-18e4e2874c3e"
      },
      "outputs": [],
      "source": [
        "# Define the SQL query to retrieve data from a BigQuery dataset\n",
        "\n",
        "# Execute the query and get the result\n",
        "\n",
        "\n",
        "# Display the result to the user\n",
        "\n"
      ]
    },
    {
      "cell_type": "markdown",
      "metadata": {
        "id": "ARCRrEUcmbD4"
      },
      "source": [
        "# IoT Qs"
      ]
    },
    {
      "attachments": {},
      "cell_type": "markdown",
      "metadata": {
        "id": "p19ai28fTrSY"
      },
      "source": [
        "Open flow.M5Stack, create a program that does the following:\n",
        "- On setup, for 35 times it checks whether the M5Stack is charging. If it is, it calls a function called \"dosomething\" that plays tone lowA for 1 beat\n",
        "- When button A is pressed, it waits 1 second, then it sets the background screen to red, then the label called label0 needs to show TVOC from CO2 sensor. \n",
        "\n",
        "**Paste the microPython code in the following cell.**"
      ]
    },
    {
      "cell_type": "code",
      "execution_count": null,
      "metadata": {
        "id": "6HL7MFkkTGS3"
      },
      "outputs": [],
      "source": []
    },
    {
      "attachments": {},
      "cell_type": "markdown",
      "metadata": {
        "id": "eqm9XsQPPEGV"
      },
      "source": [
        "**Answer briefly in a markdown cell.**\n",
        "\n",
        ">Which kinds of Google cloud services do you use to send data from IoT devices to BigQuery?\n",
        ">\n",
        ">Connect a CO2 sensor to the M5Stack. What measurements can you gather with the sensor?\n"
      ]
    },
    {
      "cell_type": "markdown",
      "metadata": {
        "id": "k0Fzv3elmbD5"
      },
      "source": [
        "# Phase 2: Recommenders in Python"
      ]
    },
    {
      "cell_type": "markdown",
      "metadata": {
        "id": "Nvx4Lty1mbD5"
      },
      "source": [
        "## 2.1: Movielens (KNN and SVD)"
      ]
    },
    {
      "cell_type": "markdown",
      "metadata": {
        "id": "clxYz_5bmbD5"
      },
      "source": [
        "Using the surprise library, with item-based collaborative filtering, find the top 10 recommended films to watch for a given user, similar to what we have seen in the lab. [Documentation about surprise is available here](http://surpriselib.com/).\n",
        "\n",
        "We will use the 100k MovieLens dataset, smaller as compared to what we have used before. Follow the guiding steps below and answer the two questions.\n",
        "\n",
        "**First install the library and import the required packages**"
      ]
    },
    {
      "cell_type": "code",
      "execution_count": null,
      "metadata": {
        "colab": {
          "base_uri": "https://localhost:8080/"
        },
        "id": "slLOUw6lmbD6",
        "outputId": "c0782be2-9c19-4341-e7b2-593ab0a91a8f"
      },
      "outputs": [],
      "source": [
        "!pip install surprise"
      ]
    },
    {
      "cell_type": "code",
      "execution_count": null,
      "metadata": {
        "id": "iMTXMT3ombD6"
      },
      "outputs": [],
      "source": [
        "# Import packages\n",
        "from surprise import KNNBasic, KNNWithMeans\n",
        "from surprise import Dataset\n",
        "from surprise.model_selection import GridSearchCV\n",
        "from collections import defaultdict\n",
        "from surprise import get_dataset_dir\n",
        "from surprise.model_selection import train_test_split\n",
        "import io\n",
        "import random\n",
        "import numpy as np\n",
        "\n",
        "my_seed = 42 # DO NOT CHANGE THIS LINE\n",
        "random.seed(my_seed)\n",
        "np.random.seed(my_seed)"
      ]
    },
    {
      "cell_type": "markdown",
      "metadata": {
        "id": "2m-AiVWrmbD6"
      },
      "source": [
        "**Load the data using the built-in dataset `ml-100k`**"
      ]
    },
    {
      "cell_type": "code",
      "execution_count": null,
      "metadata": {
        "id": "_k_2Q4armbD7"
      },
      "outputs": [],
      "source": [
        "data = Dataset.load_builtin('ml-100k')"
      ]
    },
    {
      "cell_type": "markdown",
      "metadata": {
        "id": "snE47ffImbD-"
      },
      "source": [
        "**Use the full dataset and the `build_full_trainset()` method to build a trainset object. Then use the `build_anti_testset()` method for building the trainset.**"
      ]
    },
    {
      "cell_type": "code",
      "execution_count": null,
      "metadata": {
        "id": "TxxkLRZ3mbD_"
      },
      "outputs": [],
      "source": [
        "random.seed(my_seed)\n",
        "np.random.seed(my_seed)\n",
        "\n",
        "#YOUR CODE HERE"
      ]
    },
    {
      "cell_type": "markdown",
      "metadata": {
        "id": "DI08PfjsmbD7"
      },
      "source": [
        "\n",
        "There are two \"dumb\" recommenders that are often used as baselines: the Normal Predictor and the Baseline Estimate.\n",
        "The Normal Predictor is an algorithm predicting a random rating based on the distribution of the training set, which is assumed to be normal. Set the seed equal to 42. \n",
        "The baseline estimate for an unknown rating $r_{ui}$ is denoted by $b_{ui}$ and accounts for the user and item effects: $$b_{ui} = \\mu + b_u + b_i$$ where $b_u$ and $b_i$ indicate the observed deviations of user u and item i, respectively, from the average. (see section 2.1 of Koren, 2010 for more details)\n",
        "\n",
        "**Instantiate a Normal Predictor and a Baseline Estimator. Fit them on the training set. Then, compute the Normal Predictor and the Baseline Estimate for user 140 and item 4 (you should use Surprise). Round the answer to the second decimal point (i.e. 5.315 -> 5.32)**"
      ]
    },
    {
      "cell_type": "code",
      "execution_count": null,
      "metadata": {
        "colab": {
          "base_uri": "https://localhost:8080/"
        },
        "id": "llNgFykxmbD8",
        "outputId": "53114c00-a192-4c33-ae8c-ed251e85899e"
      },
      "outputs": [],
      "source": [
        "from surprise import NormalPredictor, BaselineOnly\n",
        "\n",
        "my_seed = 42 # DO NOT CHANGE THIS LINE\n",
        "random.seed(my_seed)\n",
        "np.random.seed(my_seed)\n",
        "\n",
        "#YOUR CODE HERE\n"
      ]
    },
    {
      "cell_type": "markdown",
      "metadata": {
        "id": "bi--KcwVmbD8"
      },
      "source": [
        "> 2.1.0: What's the prediction given by the normal predictor for user 140 and item 4? And the baseline estimate?"
      ]
    },
    {
      "cell_type": "markdown",
      "metadata": {
        "id": "a24PG_LWmbD8"
      },
      "source": [
        "### 2.1.1 Item-based Collaborative filtering in KNN"
      ]
    },
    {
      "cell_type": "markdown",
      "metadata": {
        "id": "GkWvCA1SmbD9"
      },
      "source": [
        "**Use GridSearchCV to find the best number of neighbours (k) for a KNNWithMeans item-based algorithm. Use the complete dataset (not split).**  \n",
        "using root-mean-square-error (RMSE) and the following parameter grid `param_grid={'k': [10, 25, 45, 55], 'sim_options': {'name': ['pearson'], 'user_based': [False]}}`\n",
        "other parameters `cv=4, refit=True, joblib_verbose=2, n_jobs=-1`"
      ]
    },
    {
      "cell_type": "code",
      "execution_count": null,
      "metadata": {
        "colab": {
          "base_uri": "https://localhost:8080/"
        },
        "id": "LMwDaHbzmbD9",
        "outputId": "9f41885a-dfe4-44b8-cc37-c228dc4539ad"
      },
      "outputs": [],
      "source": [
        "my_seed = 42 # DO NOT CHANGE THIS LINE\n",
        "random.seed(my_seed)\n",
        "np.random.seed(my_seed)\n",
        "\n",
        "#YOUR CODE HERE"
      ]
    },
    {
      "cell_type": "markdown",
      "metadata": {
        "id": "dNsXQe-XmbD9"
      },
      "source": [
        "> 2.1.1: What is the optimal k for which GridSearchCV returned the best RMSE score?\n",
        "\n"
      ]
    },
    {
      "cell_type": "code",
      "execution_count": null,
      "metadata": {
        "colab": {
          "base_uri": "https://localhost:8080/"
        },
        "id": "ExW63VFlmbD-",
        "outputId": "76e8e1c0-7de8-4fb9-c5e5-b2942558ede9"
      },
      "outputs": [],
      "source": [
        "\n",
        "#YOUR CODE HERE (here you just need to print the results)"
      ]
    },
    {
      "cell_type": "markdown",
      "metadata": {
        "id": "91ITqfxLmbD_"
      },
      "source": [
        "**Instantiate the KNNWithMeans algorithm using the best k value retrieved above: `KNNWithMeans(k=YOUR_RETRIEVED_VALUE, min_k=1, sim_options=sim_options, verbose=False)`**  \n",
        "KNNWithMeans takes into account the mean ratings of each user. You can read more about it here: [Documentation](https://surprise.readthedocs.io/en/stable/knn_inspired.html)\n",
        "\n",
        "`sim_options` needs to be the same as before. "
      ]
    },
    {
      "cell_type": "markdown",
      "metadata": {
        "id": "qViJYAzvmbEA"
      },
      "source": [
        "**Fit the model on the training set and predict ratings on the test set. (It will take a couple of minutes)**"
      ]
    },
    {
      "cell_type": "code",
      "execution_count": null,
      "metadata": {
        "id": "WEKljdUn_7RP"
      },
      "outputs": [],
      "source": [
        "random.seed(my_seed)\n",
        "np.random.seed(my_seed)\n",
        "\n",
        "# YOUR CODE HERE\n"
      ]
    },
    {
      "cell_type": "markdown",
      "metadata": {
        "id": "aFkmWemJmbEB"
      },
      "source": [
        "**Find the top 20 predictions for the user 100 (you can use helper functions used in the labs)**"
      ]
    },
    {
      "cell_type": "code",
      "execution_count": null,
      "metadata": {
        "colab": {
          "base_uri": "https://localhost:8080/"
        },
        "id": "0Pth4xyymbEB",
        "outputId": "ffbea8b7-8ef0-4690-a89a-84452a65f5ff"
      },
      "outputs": [],
      "source": [
        "# YOUR CODE HERE\n"
      ]
    },
    {
      "cell_type": "markdown",
      "metadata": {
        "id": "yPnsua4ambEC"
      },
      "source": [
        "### 2.1.2 User-based Collaborative filtering in KNN"
      ]
    },
    {
      "cell_type": "markdown",
      "metadata": {
        "id": "6chfS4UQmbEC"
      },
      "source": [
        "**Now, using the same value for k that you found above and the same training and test set, fit a KNN model with User-based collaborative filtering (all other parameters must be left unchanged).**"
      ]
    },
    {
      "cell_type": "code",
      "execution_count": null,
      "metadata": {
        "id": "D2z1KngcmbEC"
      },
      "outputs": [],
      "source": [
        "random.seed(my_seed)\n",
        "np.random.seed(my_seed)\n",
        "# YOUR CODE HERE\n"
      ]
    },
    {
      "cell_type": "markdown",
      "metadata": {
        "id": "gFRec2WLmbED"
      },
      "source": [
        "**Once again, find the top 20 predictions for user 100 (you can use helper functions used in the labs).**"
      ]
    },
    {
      "cell_type": "code",
      "execution_count": null,
      "metadata": {
        "colab": {
          "base_uri": "https://localhost:8080/"
        },
        "id": "YXe7yFSimbED",
        "outputId": "4dc2d37b-732a-4f03-fd6d-7023c9f906b9"
      },
      "outputs": [],
      "source": [
        "# YOUR CODE HERE\n"
      ]
    },
    {
      "cell_type": "markdown",
      "metadata": {
        "id": "89K8GcVhmbEE"
      },
      "source": [
        "### 2.1.3: Matrix Factorization"
      ]
    },
    {
      "cell_type": "markdown",
      "metadata": {
        "id": "zRtLdJA0mbEE"
      },
      "source": [
        "Now, we will be using the SVD matrix factorization method on the same problem. "
      ]
    },
    {
      "cell_type": "markdown",
      "metadata": {
        "id": "bmnfwR1umbEE"
      },
      "source": [
        "**Run a 5-fold cross validation using RMSE on a singular value decomposition algorithm, on the full dataset.**"
      ]
    },
    {
      "cell_type": "code",
      "execution_count": null,
      "metadata": {
        "colab": {
          "base_uri": "https://localhost:8080/"
        },
        "id": "84CSPrLFmbEE",
        "outputId": "3cea078b-80a4-48d6-d200-b5f95c8b21d7"
      },
      "outputs": [],
      "source": [
        "from surprise.model_selection import cross_validate\n",
        "from surprise import SVD\n",
        "\n",
        "random.seed(my_seed)\n",
        "np.random.seed(my_seed)\n",
        "# YOUR CODE HERE"
      ]
    },
    {
      "cell_type": "markdown",
      "metadata": {
        "id": "pzUacpCDmbEF"
      },
      "source": [
        "**Now, fit a SVD on the trainset and compute predictions on the testset (using the same train set and test set as before). Then, find the top 20 predictions for user 100.**\n",
        "You can use helper functions used in the labs"
      ]
    },
    {
      "cell_type": "code",
      "execution_count": null,
      "metadata": {
        "colab": {
          "base_uri": "https://localhost:8080/"
        },
        "id": "MW694fNVmbEF",
        "outputId": "e8720f4e-59c7-4e60-faac-50cf26aba822"
      },
      "outputs": [],
      "source": [
        "\n",
        "\n",
        "random.seed(my_seed)\n",
        "np.random.seed(my_seed)\n",
        "\n",
        "# YOUR CODE HERE"
      ]
    },
    {
      "cell_type": "markdown",
      "metadata": {
        "id": "2k7HyGTTmbEG"
      },
      "source": [
        "In recommender systems, we often use Recall@k and Precision@k to measure the accuracy of the recommendations. \n",
        "\n",
        "Recall@k= (Relevant_Items_Recommended in top-k) / (Relevant_Items)\n",
        "\n",
        "Precision@k= (Relevant_Items_Recommended in top-k) / (k_Items_Recommended)\n",
        "\n",
        "**Considering as relevant the recommendations with rating greater or equal than 4, compute the average precision and recall @2,30, using an SVD algorithm, and the usual train and test dataframes.**\n",
        "You can use helper functions used in the labs"
      ]
    },
    {
      "cell_type": "code",
      "execution_count": null,
      "metadata": {
        "colab": {
          "base_uri": "https://localhost:8080/"
        },
        "id": "UMIFLy8xmbEG",
        "outputId": "65392154-53f9-488e-acf9-2ba795d25ad2"
      },
      "outputs": [],
      "source": [
        "random.seed(my_seed)\n",
        "np.random.seed(my_seed)\n",
        "\n",
        "# YOUR CODE HERE"
      ]
    },
    {
      "cell_type": "markdown",
      "metadata": {
        "id": "bMc9KL0lmbEI"
      },
      "source": [
        "## 2.2: Recipes (baseline recommender from scratch)"
      ]
    },
    {
      "cell_type": "markdown",
      "metadata": {
        "id": "cHMI_f1mmbEI"
      },
      "source": [
        "For this exercise you are not allowed to use the Surprise library. You will be asked to implement a very \"dumb\" recommender, normally used as baseline. \n",
        "\n",
        "For this exercise, consider the dataframe recipe_ratings.csv. The dataset contains food recipes with the ratings that were given by the users of a Cooking website. To know more, check: *Generating Personalized Recipes from Historical User Preferences*, Bodhisattwa Prasad Majumder, Shuyang Li, Jianmo Ni, Julian McAuley EMNLP, 2019 https://www.aclweb.org/anthology/D19-1613/.\n",
        "\n",
        "All the needed data cleaning has already been done. \n",
        "\n",
        "**Implement a baseline recommender that recommends the 10 most popular recipes to all users. Use only the training data.**"
      ]
    },
    {
      "cell_type": "code",
      "execution_count": null,
      "metadata": {
        "id": "J0xDlHvqmbEI"
      },
      "outputs": [],
      "source": [
        "import pandas as pd\n",
        "train_data = pd.read_csv('recipes_train_data.csv')\n",
        "test_data = pd.read_csv('recipes_test_data.csv')\n",
        "\n",
        "# YOUR CODE HERE"
      ]
    },
    {
      "cell_type": "markdown",
      "metadata": {
        "id": "nEtP4KB1mbEJ"
      },
      "source": [
        "> Fitting the recommender on the training set, what's the first recommended recipe to user 37?"
      ]
    },
    {
      "cell_type": "code",
      "execution_count": null,
      "metadata": {
        "colab": {
          "base_uri": "https://localhost:8080/"
        },
        "id": "sXsbu7vIEG6k",
        "outputId": "940915c5-3f46-40ae-f204-f962d4c2b320"
      },
      "outputs": [],
      "source": [
        "# YOUR CODE HERE"
      ]
    },
    {
      "attachments": {},
      "cell_type": "markdown",
      "metadata": {
        "id": "Sv6o3F2vmbEJ"
      },
      "source": [
        "Now, instead of doing top-K recommendation, we predict the ratings. Create a simple predictor for the ratings that, given a couple (user, item) predicts the rating as the mean rating of that user. See it like this: let's say you've been to 20  restaurants and reviewed them on tripadvisor. On average, you gave 3 stars. This recommender should predict 3 as your future ratings. PAY ATTENTION: if in the test set there is a user which was not present in the training set, your recommender should predict the \"global average\": the average of all ratings of the training set. \n",
        "\n",
        "**Fit this recommender on the train data and compute the MSE on the test data.**"
      ]
    },
    {
      "cell_type": "code",
      "execution_count": null,
      "metadata": {
        "colab": {
          "base_uri": "https://localhost:8080/"
        },
        "id": "OZhCpFnrmbEJ",
        "outputId": "29a24b4c-5457-4953-dc77-851a717d5f7a"
      },
      "outputs": [],
      "source": [
        "# YOUR CODE HERE"
      ]
    },
    {
      "cell_type": "markdown",
      "metadata": {
        "id": "NCPdVEyLmbEL"
      },
      "source": [
        "> Report the MSE you obtained"
      ]
    }
  ],
  "metadata": {
    "colab": {
      "provenance": []
    },
    "kernelspec": {
      "display_name": "prova",
      "language": "python",
      "name": "python3"
    },
    "language_info": {
      "codemirror_mode": {
        "name": "ipython",
        "version": 3
      },
      "file_extension": ".py",
      "mimetype": "text/x-python",
      "name": "python",
      "nbconvert_exporter": "python",
      "pygments_lexer": "ipython3",
      "version": "3.9.15"
    },
    "orig_nbformat": 4,
    "vscode": {
      "interpreter": {
        "hash": "ff05eee511f4a22dcc7e3a42672481f65375abda67a373ab17f32ff8005fde4a"
      }
    }
  },
  "nbformat": 4,
  "nbformat_minor": 0
}
